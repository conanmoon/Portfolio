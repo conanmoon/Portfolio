{
  "nbformat": 4,
  "nbformat_minor": 0,
  "metadata": {
    "colab": {
      "name": "DSFT_01_문승태_Section5.ipynb",
      "provenance": [],
      "collapsed_sections": []
    },
    "kernelspec": {
      "display_name": "Python 3",
      "name": "python3"
    }
  },
  "cells": [
    {
      "cell_type": "markdown",
      "metadata": {
        "id": "kuFh5gTP6LCi"
      },
      "source": [
        "\n",
        "\n",
        "---\n",
        "\n"
      ]
    },
    {
      "cell_type": "markdown",
      "metadata": {
        "id": "o2GYmvvyKmql"
      },
      "source": [
        "- Section5 프로젝트에서는 코드에 대한 이해를 높이고 개념 간 응용을 할 수 있도록 한다.\n",
        "\n",
        "  - 핵심키워드는 '문제해결'과 '접근방법'이다.\n",
        "\n",
        "  - 문제해결은 3가지로부터 시작된다.\n",
        "\n",
        "    - 계산\n",
        "\n",
        "    - 조건\n",
        "\n",
        "    - 반복\n",
        "\n",
        "  - 작성되는 모든 글과 주석, 설명은 타당한 목적이 포함되야 하며, 이해하기 쉽게 주어와 동사를 구분하여 작성해야 한다."
      ]
    },
    {
      "cell_type": "markdown",
      "metadata": {
        "id": "O6wb8mNhRoCn"
      },
      "source": [
        "\n",
        "\n",
        "---\n",
        "\n"
      ]
    },
    {
      "cell_type": "markdown",
      "metadata": {
        "id": "RDEA27UBbL8K"
      },
      "source": [
        "## Project Introduce"
      ]
    },
    {
      "cell_type": "markdown",
      "metadata": {
        "id": "m73yMZDTbWti"
      },
      "source": [
        "- 프로젝트는 3가지로 구성됩니다.\n",
        "\n",
        "  - Project 1 : 기본적인 알고리즘이 적용된 문제에 대해 **프로그래밍**을 진행한다.\n",
        "\n",
        "  - Project 2 : 주어진 Pseudocode에 대한 **분석과 해결**을 진행한다.\n",
        "\n",
        "  - Project 3 : 주어진 문제해결절차에 따라 **문제해결**을 진행한다."
      ]
    },
    {
      "cell_type": "markdown",
      "metadata": {
        "id": "6un8Yu7cRpB3"
      },
      "source": [
        "\n",
        "\n",
        "---\n",
        "\n"
      ]
    },
    {
      "cell_type": "markdown",
      "metadata": {
        "id": "kkOrFFsyZMpj"
      },
      "source": [
        "## Project 1 - Basic Problem Solving"
      ]
    },
    {
      "cell_type": "markdown",
      "metadata": {
        "id": "68wmv1d_4fi_"
      },
      "source": [
        "- Project 1에서는 **아래 주어진 함수를 활용**하여 재귀문제를 해결해봅니다.\n",
        "\n",
        "- 아래 **결과값**처럼 출력이 될 수 있도록 함수, 재귀개념 등을 활용하여 **프로그래밍**한다."
      ]
    },
    {
      "cell_type": "code",
      "metadata": {
        "id": "Z1p29FHf_Vzr"
      },
      "source": [
        "# 재귀를 통한 문제해결\n",
        "def recursion_emoticon(num):\n",
        "  # -num부터 하나씩 이모티콘을 추가하며 그리기\n",
        "  if num > -11 and num < 0:\n",
        "    print(\"😃 \"*num)\n",
        "    print(\"😃 \"*-num)\n",
        "    recursion_emoticon(num-1)\n",
        "  # num = -11일때 빈 줄을 만들기 (이전로직과 다음로직 구분을 위해)\n",
        "  elif num == -11:\n",
        "    print(\" \")\n",
        "  # num부터 하나씩 이모티콘을 제거하며 그리기\n",
        "  elif num <= 11 and num > 0:\n",
        "    print(\"😃 \"*num)\n",
        "    print(\"😃 \"*-num)\n",
        "    recursion_emoticon(num-1)\n",
        "\n",
        "def emoticon_function(num):\n",
        "  # -num부터 하나씩 이모티콘을 추가하며 그리기\n",
        "    recursion_emoticon(-1)\n",
        "  # num부터 하나씩 이모티콘을 제거하며 그리기\n",
        "    recursion_emoticon(num)"
      ],
      "execution_count": null,
      "outputs": []
    },
    {
      "cell_type": "code",
      "metadata": {
        "id": "kABmDeFt2_j0",
        "colab": {
          "base_uri": "https://localhost:8080/"
        },
        "outputId": "e4808b59-333c-4508-bf8f-f5cd7e157204"
      },
      "source": [
        "emoticon_function(11)"
      ],
      "execution_count": null,
      "outputs": [
        {
          "output_type": "stream",
          "text": [
            "\n",
            "😃 \n",
            "\n",
            "😃 😃 \n",
            "\n",
            "😃 😃 😃 \n",
            "\n",
            "😃 😃 😃 😃 \n",
            "\n",
            "😃 😃 😃 😃 😃 \n",
            "\n",
            "😃 😃 😃 😃 😃 😃 \n",
            "\n",
            "😃 😃 😃 😃 😃 😃 😃 \n",
            "\n",
            "😃 😃 😃 😃 😃 😃 😃 😃 \n",
            "\n",
            "😃 😃 😃 😃 😃 😃 😃 😃 😃 \n",
            "\n",
            "😃 😃 😃 😃 😃 😃 😃 😃 😃 😃 \n",
            " \n",
            "😃 😃 😃 😃 😃 😃 😃 😃 😃 😃 😃 \n",
            "\n",
            "😃 😃 😃 😃 😃 😃 😃 😃 😃 😃 \n",
            "\n",
            "😃 😃 😃 😃 😃 😃 😃 😃 😃 \n",
            "\n",
            "😃 😃 😃 😃 😃 😃 😃 😃 \n",
            "\n",
            "😃 😃 😃 😃 😃 😃 😃 \n",
            "\n",
            "😃 😃 😃 😃 😃 😃 \n",
            "\n",
            "😃 😃 😃 😃 😃 \n",
            "\n",
            "😃 😃 😃 😃 \n",
            "\n",
            "😃 😃 😃 \n",
            "\n",
            "😃 😃 \n",
            "\n",
            "😃 \n",
            "\n"
          ],
          "name": "stdout"
        }
      ]
    },
    {
      "cell_type": "markdown",
      "metadata": {
        "id": "JBRlyxRlYjgQ"
      },
      "source": [
        "- 결과값\n",
        "\n",
        "      😃\n",
        "      😃 😃\n",
        "      😃 😃 😃\n",
        "      😃 😃 😃 😃\n",
        "      😃 😃 😃 😃 😃\n",
        "      😃 😃 😃 😃 😃 😃\n",
        "      😃 😃 😃 😃 😃 😃 😃\n",
        "      😃 😃 😃 😃 😃 😃 😃 😃\n",
        "      😃 😃 😃 😃 😃 😃 😃 😃 😃\n",
        "      😃 😃 😃 😃 😃 😃 😃 😃 😃 😃\n",
        "      😃 😃 😃 😃 😃 😃 😃 😃 😃 😃 😃\n",
        "      😃 😃 😃 😃 😃 😃 😃 😃 😃 😃\n",
        "      😃 😃 😃 😃 😃 😃 😃 😃 😃\n",
        "      😃 😃 😃 😃 😃 😃 😃 😃\n",
        "      😃 😃 😃 😃 😃 😃 😃\n",
        "      😃 😃 😃 😃 😃 😃\n",
        "      😃 😃 😃 😃 😃\n",
        "      😃 😃 😃 😃\n",
        "      😃 😃 😃\n",
        "      😃 😃\n",
        "      😃"
      ]
    },
    {
      "cell_type": "markdown",
      "metadata": {
        "id": "Y7gBKz16Rlu-"
      },
      "source": [
        "\n",
        "\n",
        "---\n",
        "\n"
      ]
    },
    {
      "cell_type": "markdown",
      "metadata": {
        "id": "QO7etmdwZUu9"
      },
      "source": [
        "## Project 2 - Problem Analyzing & Solving"
      ]
    },
    {
      "cell_type": "markdown",
      "metadata": {
        "id": "TPyJQ0vO9tFU"
      },
      "source": [
        "- Project 2에서 주어진 것은 Pseudocode와 테스트 케이스입니다.\n",
        "\n",
        "- 주어진 Pseudocode는 **어떤 상황을 해결**하기 위해서 프로그래밍되었는지 코드 하단에 작성하세요.\n",
        "\n",
        "- 주어진 Pseudocode를 보고 **실행가능한 코드**를 작성하세요.\n",
        "\n",
        "- 아래 주어진 테스트 케이스를 수행시키면서 규칙을 찾고 결과값과 매칭될 수 있도록 해결해주세요."
      ]
    },
    {
      "cell_type": "markdown",
      "metadata": {
        "id": "4hBtMBGPfWwB"
      },
      "source": [
        "이 프로그램은 reserve_set의 크기만큼 순회하면서, reserve_set의 첫 번째 인덱스(\"0\")에서 1을 더한 값부터, 또는 1을 뺀 값부터 resever_set의 절대값의 크기에서 1을 뺀 값만큼의 값이 lost_set에 존재하는지를 알아본다. 존재할 경우, 해당 값을 lost_set에서 제거해 나간다. 이후 n=7에서 lost_set의 최종 크기를 뺀 값을 리턴한다."
      ]
    },
    {
      "cell_type": "markdown",
      "metadata": {
        "id": "ONxxAXh1cDTO"
      },
      "source": [
        "\n",
        "\n",
        "```python\n",
        "# Pseudocode\n",
        "함수 solution(n, lost, reserve):\n",
        "    reserve_set = (reserve) - (lost)\n",
        "    lost_set = (lost) - (reserve)\n",
        "    print(reserve_set)\n",
        "    print(lost_set)\n",
        "    \n",
        "    반복 i부터 reserve_set까지:\n",
        "        if i-1 in lost_set:\n",
        "            lost_set.remove(i-1)\n",
        "        elif i+1 in lost_set :\n",
        "            lost_set.remove(i+1)\n",
        "    \n",
        "    return n - len(lost_set)\n",
        "\n",
        "n의 값은 7로 고정되어있다.\n",
        "lost = 정수형 리스트를 ','로 구분하여 입력받는다.\n",
        "reserve = 정수형 리스트를 ','로 구분하여 입력받는다.\n",
        "함수 solution에 argument로 n, lost, reserve값을 전달한다.\n",
        "함수 solution의 결과값 출력\n",
        "```\n",
        "\n"
      ]
    },
    {
      "cell_type": "markdown",
      "metadata": {
        "id": "zPhvYUtlb-Lb"
      },
      "source": [
        "\n",
        "\n",
        "```python\n",
        "# 출력 테스트를 위한 테스트 케이스\n",
        "\n",
        "solution(7, [2, 3, 4, 5, 6, 7], [6, 7]) => 결과값 : 3\n",
        "solution(7, [1, 2, 3], [3]) => 결과값 : 5\n",
        "solution(7, [1, 2], [3, 5]) => 결과값 : 6\n",
        "solution(7, [1, 4], [3, 4, 5]) => 결과값 : 6\n",
        "solution(7, [1], [2, 3, 4, 5, 6, 7]) => 결과값 : 7\n",
        "```\n",
        "\n"
      ]
    },
    {
      "cell_type": "markdown",
      "metadata": {
        "id": "t3Jb7rZ4PfVV"
      },
      "source": [
        "- **작성해야할 내용**\n",
        "\n",
        "1. 주요변수의 역할(반복문을 위한 i와 같은 변수는 작성하지 않으셔도 됩니다.)\n",
        "    \n",
        "* n: 7로 고정되어 있으며, 프로그램의 마지막에 이 값에서 lost_set의 크기를 뺀 값이 리턴된다.\n",
        "* lost: set으로 활용될 리스트 입력값으로, 이후 lost_set으로 lost의 set에서 reserve의 set을 빼고 남은 값에 대한 reserve_set을 생성하는데 쓰인다. \n",
        "* reserve: set으로 활용될 리스트 입력값으로, 이후 reserve_set으로 reserve의 set에서 lost의 set을 빼고 남은 값에 대한 lost_set을 생성하는데 쓰인다. \n",
        "\n",
        "2. 함수의 역할\n",
        "\n",
        "* 1) reserve_set을 reserve의 set에서 lost의 set을 빼 계산한다.\n",
        "\n",
        "* 2) lost_set을 lost의 set에서 reserve의 set을 빼 계산한다.\n",
        "\n",
        "* 3) for 문을 통해 reserve_set의 크기만큼, 각 조건에 해당하는 값이 lost_set에 존재하는지 확인하여 존재하면 lost_set의 아이템을 제거한다. 7에서 남겨진 lost_set의 크기를 뺀 값을 리턴한다. \n",
        "\n",
        "3. 반복문의 역할\n",
        "\n",
        "* for 문은 reserve_set 배열의 크기만큼 첫 번째 인덱스 부터 순회한다. 순회하면서 reserve_set 배열의 인덱스에서 두 조건 중 하나에 해당하는 경우에 따라 lost_set의 크기를 줄여나간다. reserve_set을 모두 순회하고 나면, lost_set의 최종 크기를 n에서 빼고 남은 값을 리턴한다. \n",
        "\n",
        "4. 조건문의 역할\n",
        "\n",
        "* 조건문 if는 for문에서 reserve_set의 크기만큼 순회하면서 reserve_set의 첫 번째 인덱스(\"0\")에서 1을 빼거나 더한 값부터, reserve_set에서 1을 뺀 값까지의 값이 lost_set 존재하면, 그것을 차례대로 제거해 나간다. reserve_set의 크기만큼 for문이 반복되었다면 조건문은 더 이상 lost_set의 크기를 줄이지 않는다. \n",
        "\n",
        "* **추가된 내용**: Test Case 3과 4의 경우, 본래 pseudocode에서 쓰여진 대로만 코드를 적용한다면 리턴되는 값은 6이 아니라 7이다. lost_set의 모든 아이템이 제거되기 때문에, n - len(lost-set) = 7 - 0 = 7이 되기 때문이다. 이를 고치기 위해 첫 번째 조건문에 i-1 > -1*len(lost_set), 두 번째 조건문에 i+1 < len(lost_set)을 더하여 reserve_set의 인덱스에서 1을 더하거나 뺀 만큼의 값이 lost_set의 크기(절대값)보다는 작도록 설정해준다. 그렇게 하면, 최소 lost_set이 1개의 아이템을 갖도록 할 수 있기 때문에 리턴되는 결과는 7 - len(lost_set) = 7 - 1 = 6이 된다. \n"
      ]
    },
    {
      "cell_type": "code",
      "metadata": {
        "id": "Xp6kPdz1N6VG"
      },
      "source": [
        "# Project 2 솔루션\n",
        "\n",
        "def solution(n, lost, reserve):\n",
        "  # reserve_set은 reserve의 set에서 lost의 set를 뺀 값들의 set이다.\n",
        "  reserve_set = set(reserve) - set(lost)\n",
        "  # lost_set은 lost의 set에서 reserve의 set를 뺀 값들의 set이다.\n",
        "  lost_set = set(lost) - set(reserve)\n",
        "  # 디버깅을 위해 계산된 reserve_set과 lost_set을 출력한다. \n",
        "  print(reserve_set)\n",
        "  print(lost_set)\n",
        "\n",
        "  # reserve_set의 크기만큼만 반복    \n",
        "  for i in range(len(reserve_set)):\n",
        "      if i-1 in lost_set and i-1 > -1*len(lost_set): # i-1이 lost_set의 절대값 크기보다는 1 작은 만큼 까지만 제거되도록 한다. \n",
        "        lost_set.remove(i-1)\n",
        "      elif i+1 in lost_set and i+1 < len(lost_set): # i+1이 lost_set의 절대값 크기보다는 1 작은 만큼 까지만 제거되도록 한다. \n",
        "        lost_set.remove(i+1)\n",
        "  return n - len(lost_set) # 7에서 lost_set의 크기를 뺀 만큼의 값만 리턴한다. "
      ],
      "execution_count": null,
      "outputs": []
    },
    {
      "cell_type": "code",
      "metadata": {
        "colab": {
          "base_uri": "https://localhost:8080/"
        },
        "id": "pr-GzIKKPqWc",
        "outputId": "a3e2a963-5eab-4e03-a631-0b6a23f9335f"
      },
      "source": [
        "# Test Case 1\n",
        "print(\"결과값:\", solution(7, [2, 3, 4, 5, 6, 7], [6, 7]))"
      ],
      "execution_count": null,
      "outputs": [
        {
          "output_type": "stream",
          "text": [
            "set()\n",
            "{2, 3, 4, 5}\n",
            "결과값: 3\n"
          ],
          "name": "stdout"
        }
      ]
    },
    {
      "cell_type": "code",
      "metadata": {
        "colab": {
          "base_uri": "https://localhost:8080/"
        },
        "id": "o4Yjkx3TQJEY",
        "outputId": "98ba9084-229e-453e-d7d9-078a6f0f1f34"
      },
      "source": [
        "# Test Case 2\n",
        "print(\"결과값:\", solution(7, [1, 2, 3], [3])) "
      ],
      "execution_count": null,
      "outputs": [
        {
          "output_type": "stream",
          "text": [
            "set()\n",
            "{1, 2}\n",
            "결과값: 5\n"
          ],
          "name": "stdout"
        }
      ]
    },
    {
      "cell_type": "code",
      "metadata": {
        "colab": {
          "base_uri": "https://localhost:8080/"
        },
        "id": "oDYcgdECQVX2",
        "outputId": "43bc8173-9a2d-4e6c-8420-0994bd1e4a3d"
      },
      "source": [
        "# Test Case 3\n",
        "print(\"결과값:\", solution(7, [1, 2], [3, 5]))"
      ],
      "execution_count": null,
      "outputs": [
        {
          "output_type": "stream",
          "text": [
            "{3, 5}\n",
            "{1, 2}\n",
            "결과값: 6\n"
          ],
          "name": "stdout"
        }
      ]
    },
    {
      "cell_type": "code",
      "metadata": {
        "colab": {
          "base_uri": "https://localhost:8080/"
        },
        "id": "sIOAzmeUQd9u",
        "outputId": "fa3570f5-c8cd-4e9c-ebba-03a16fb64529"
      },
      "source": [
        "# Test Case 4\n",
        "print(\"결과값:\", solution(7, [1, 4], [3, 4, 5]))"
      ],
      "execution_count": null,
      "outputs": [
        {
          "output_type": "stream",
          "text": [
            "{3, 5}\n",
            "{1}\n",
            "결과값: 6\n"
          ],
          "name": "stdout"
        }
      ]
    },
    {
      "cell_type": "code",
      "metadata": {
        "colab": {
          "base_uri": "https://localhost:8080/"
        },
        "id": "tfH4QAx5QkFU",
        "outputId": "3080729c-0270-4e68-fd4f-b53bf5c315b3"
      },
      "source": [
        "# Test Case 5\n",
        "print(\"결과값:\", solution(7, [1], [2, 3, 4, 5, 6, 7]))"
      ],
      "execution_count": null,
      "outputs": [
        {
          "output_type": "stream",
          "text": [
            "{2, 3, 4, 5, 6, 7}\n",
            "{1}\n",
            "결과값: 7\n"
          ],
          "name": "stdout"
        }
      ]
    },
    {
      "cell_type": "markdown",
      "metadata": {
        "id": "eBgXzvbARkjv"
      },
      "source": [
        "\n",
        "\n",
        "---\n",
        "\n"
      ]
    },
    {
      "cell_type": "markdown",
      "metadata": {
        "id": "DzRgurPAZZJg"
      },
      "source": [
        "## Project 3 - Problem Solving (영상화 할 것)"
      ]
    },
    {
      "cell_type": "markdown",
      "metadata": {
        "id": "9leLn-AQYI61"
      },
      "source": [
        "- Project 3에서는 '**문제안내**' 에서 4가지 문제 중 1개를 선택하고, 주어진 '**문제해결절차**'에 따라 문제해결을 진행한다.\n",
        "\n",
        "  - 문제안내 : 주어진 조건과 입출력예시, 설명을 확인한다.\n",
        "\n",
        "  - 문제해결절차 : 작성해야 할 목록을 단계별로 안내한다.\n",
        "\n",
        "\n",
        "    \n",
        "\n",
        "    "
      ]
    },
    {
      "cell_type": "markdown",
      "metadata": {
        "id": "fL_wCnKn1ML_"
      },
      "source": [
        "### 3-1. 문제안내"
      ]
    },
    {
      "cell_type": "markdown",
      "metadata": {
        "id": "4Vw6rIEiD1ez"
      },
      "source": [
        "#### 1) DP 문제 : 두 묶음 간의 최소값\n",
        "\n",
        "  - 조건\n",
        "  \n",
        "    - **하나의 정수 묶음**을 입력받고 **두 개로 분할**한다.\n",
        "    \n",
        "    - 이 때, 분할된 각각의 **묶음 간의 합계차이의 최소값**을 구할 수 있도록 구현하자.\n",
        "\n",
        "      - 단, 최소값의 경우는 여러가지 경우가 생길 수 있다.\n",
        "\n",
        "  - 입출력예시(아래는 예시이며, 실제 구현시 입출력에 대한 상세내용은 다르게 하셔도 됩니다.)\n",
        "      \n",
        "    - 입력 : 10,20,30,40,50\n",
        "\n",
        "    - 출력 : 묶음 간 합계차이의 최소값은 10이다.\n",
        "      \n",
        "  - 설명\n",
        "\n",
        "    - 입력받은 정수 묶음을 두 개의 묶음으로 분할한다\n",
        "        \n",
        "    - 첫번째 묶음 : 30,50(묶음의 합 : 80), 두번째 묶음 : 10,20,40(묶음의 합 : 70)\n",
        "        \n",
        "    - 두 묶음 간의 합계 차이의 최소값은 10이다.\n",
        "\n",
        "     "
      ]
    },
    {
      "cell_type": "markdown",
      "metadata": {
        "id": "NVL_stUltATa"
      },
      "source": [
        "#### 2) Backtracking 문제 : 최소이동길이\n",
        "\n",
        "  - 조건\n",
        "    \n",
        "    - 직사각형 형태의 미로가 아래처럼 구성되어있는 있다.\n",
        "    \n",
        "    - 출발지에서 목적지까지 가장 **빨리 이동할 수 있는 길이**를 찾도록 구현하세요. \n",
        "  \n",
        "    - 미로의 값이 **1인 경우에만 이동가능**하고, 한 번에 이동할 수 있는 방향은 동서남북 4가지 중 **한쪽 방향으로만 이동**할 수 있다.\n",
        "\n",
        "    - 한 번 이동할 때마다 **이동길이는 1씩 카운트**된다.\n",
        "\n",
        "  - 입출력예시(아래는 예시이며, 실제 구현시 입출력에 대한 상세내용은 다르게 하셔도 됩니다.)\n",
        "    \n",
        "    - 입력 : 출발지 (0,0) 와 목적지 (5,4)\n",
        "\n",
        "    - 출력 : 가장 빨리 이동할 수 있는 길이는 9\n",
        "      \n",
        "  - 설명\n",
        "  \n",
        "    - 출발지가 (0,0)이고 도착지가 (5,4)인 경우, 미로에서 가장 빨리 이동할 수 있는 길이는 9로 계산된다.\n",
        "\n",
        "  - 주어진 미로형태 \n",
        "      \n",
        "      <img src='https://github.com/Maiven/data-science/blob/main/miro.png?raw=true' width = 300>\n",
        "\n",
        "\n",
        "\n",
        "    \n",
        "\n"
      ]
    },
    {
      "cell_type": "markdown",
      "metadata": {
        "id": "C6Ac1VixEkgH"
      },
      "source": [
        "#### 3) Graph 문제 : 경로찾기\n",
        "\n",
        "  - 조건\n",
        "  \n",
        "    - 그래프가 아래의 그림처럼 주어진 상황에서 출발노드와 도착노드가 있는 경우, 두 노드 사이에 **연결될 수 있는 경로가 있는지 확인**하는 코드를 구현하세요.\n",
        "\n",
        "  - 입출력예시(아래는 예시이며, 실제 구현시 입출력에 대한 상세내용은 다르게 하셔도 됩니다.) \n",
        "\n",
        "    - 입력 : 출발노드 source와 도착노드 destination\n",
        "\n",
        "    - 출력\n",
        "    \n",
        "      - 출발노드 0에서 도착노드 5까지 경로가 있습니다.\n",
        "\n",
        "      - 출발노드 2에서 도착노드 9까지 경로가 없습니다.\n",
        "\n",
        "  - 설명 \n",
        "  \n",
        "    - 출발노드와 도착노드 사이에 경로가 있는지 없는지는 화살표 방향에 따라 결정된다.\n",
        "\n",
        "    - 상세예시\n",
        "    \n",
        "      - 출발노드가 0이고 도착노드가 1인 경우, 화살표방향이 있으므로 경로가 있는 경우이다.\n",
        "\n",
        "      - 출발노드가 2이고 도착노드가 8인 경우, 2에서 8로 갈 수 있는 경로가 없다.\n",
        "\n",
        "      - 출발노드가 2이고 도착노드가 6인 경우, 2->10->6으로 화살표방향이 있기 때문에 경로가 있는 경우이다.\n",
        "\n",
        "  - 주어진 그래프 형태\n",
        "\n",
        "      <img src='https://github.com/Maiven/data-science/blob/main/%E1%84%80%E1%85%B3%E1%84%85%E1%85%A2%E1%84%91%E1%85%B3problem.png?raw=true' width = 300>"
      ]
    },
    {
      "cell_type": "markdown",
      "metadata": {
        "id": "LS_rsVjMEmRX"
      },
      "source": [
        "#### 4) Tree 문제 : 범위 내에 노드 갯수\n",
        "\n",
        "  - 조건\n",
        "  \n",
        "    - 특정 BST(이진검색트리)에서 서브트리에 대한 범위를 지정한다.\n",
        "    \n",
        "    - **범위 내에 노드 수는 몇 개**가 있는지 구현하세요.\n",
        "\n",
        "  - 입출력예시(아래는 예시이며, 실제 구현시 입출력에 대한 상세내용은 다르게 하셔도 됩니다.) \n",
        "\n",
        "    - 입력\n",
        "    \n",
        "      - 1) BST : 16,10,23,8,15,21,17,22,32\n",
        "\n",
        "      - 2) 서브트리의 범위 : 5,20\n",
        "\n",
        "    - 출력 : \n",
        "    \n",
        "      - 범위 내에 노드 수는 4개입니다.\n",
        "\n",
        "  - 설명 \n",
        "  \n",
        "    - BST 개념에 적합하게 BST를 입력받아야 한다.\n",
        "\n",
        "    - 서브트리의 범위는 자유롭게 입력받을 수 있다.\n",
        "\n",
        "    - 예시 BST 형태\n",
        "\n",
        "      <img src='https://github.com/Maiven/data-science/blob/main/bst_problem.png?raw=true' width = 300>\n",
        "    "
      ]
    },
    {
      "cell_type": "markdown",
      "metadata": {
        "id": "8F4qfXSPRLyq"
      },
      "source": [
        "\n",
        "\n",
        "---\n",
        "\n"
      ]
    },
    {
      "cell_type": "markdown",
      "metadata": {
        "id": "YFhBHMnl1njO"
      },
      "source": [
        "### 3-2. 문제해결절차"
      ]
    },
    {
      "cell_type": "markdown",
      "metadata": {
        "id": "Y19xlAi2sx8m"
      },
      "source": [
        "- 선택한 문제를 해결하는 절차는 아래 **문제해결절차를 따르고 단계별 세부내용을 작성한다.**\n",
        "\n",
        "  - 문제해결절차\n",
        "\n",
        "          1) 본인이 이해한 문제의 목적         \n",
        "          2) 문제에 대한 질문과 답변(자문자답해보기) \n",
        "          3) 이해한 문제에 대한 상세로직설명 \n",
        "          4) 문제이해를 위한 의사코드 \n",
        "          5) 문제풀이를 위한 소스코드 \n",
        "          6) 소스코드에 대한 주석 \n",
        "          7) 작성한 소스코드의 기본테스트케이스 \n",
        "          8) 작성한 소스코드의 엣지(특이)케이스 \n",
        "          9) 문제에 적용된 이론 \n",
        "          10) 본인이 작성한 소스코드에서 발생하는 에러 및 분석\n",
        "\n",
        "  - 아래의 단계별 내용은 작성해야 할 문제해결절차를 세부적으로 나눠놓은 것이다."
      ]
    },
    {
      "cell_type": "markdown",
      "metadata": {
        "id": "ma-gdKhO6dHD"
      },
      "source": [
        "\n",
        "\n",
        "---\n",
        "\n"
      ]
    },
    {
      "cell_type": "markdown",
      "metadata": {
        "id": "u-Tj3xuCzD3O"
      },
      "source": [
        "#### 1단계 - Problem Understanding\n",
        "\n"
      ]
    },
    {
      "cell_type": "markdown",
      "metadata": {
        "id": "ml1U28khOwkS"
      },
      "source": [
        "##### 1-1단계 - problem goal\n",
        "\n",
        "- 문제의 의도는 무엇인가."
      ]
    },
    {
      "cell_type": "markdown",
      "metadata": {
        "id": "agwOfpulP-oC"
      },
      "source": [
        "이 문제는 정수로 이루어진 하나의 배열을, 가장 합의 차이가 낮은 두 개의 묶음들로 나누는 것이다."
      ]
    },
    {
      "cell_type": "markdown",
      "metadata": {
        "id": "XH8Jxo7ySXGS"
      },
      "source": [
        "##### 1-2단계 - question & answer\n",
        "\n",
        "- 본인만의 관점에서 문제를 제대로 이해하기 위한 질문과 답변 작성하기."
      ]
    },
    {
      "cell_type": "markdown",
      "metadata": {
        "id": "wZcTdm34P_XL"
      },
      "source": [
        "1) 정수는 어떻게 나눌 수 있는가?\n",
        "> 입력된 배열에서 찾을 수 있는 가능한한 모든 경우의 수를 찾아야할 것이다.\n",
        "\n",
        "2) 두 개로 분할하면, 한 배열이 텅비는 경우에 대해서는 묶음으로 간주하는가?\n",
        "> 한 배열은 최소한 하나의 아이템은 가져야한다.\n",
        "\n",
        "3) Dynamic Programming을 적용하기 위해 무엇이 필요한가?\n",
        "> Memoisation을 활용할 수 있다.\n",
        "\n",
        "4) 재귀는 반드시 필요한가?\n",
        "> 재귀는 DP에 있어서 반드시 필요한 것은 아니다. 재귀적으로 해결하거나 반복문을 사용하던, 주어진 배열을 둘로 나눌 수 있는 모든 경우의 수를 찾아, 두 묶음의 합의 차이를 구할 수 있어야한다. (참조[1])\n",
        "\n",
        "5) Memoisation을 어떻게 활용할 수 있는가?\n",
        "> 각 단계의 연산에서 찾은 모든 묶음들과, 그 합의 차이의 정보를 저장할 수 있다.\n",
        "\n",
        "6) 각 문제를 어떻게 작은 부분으로 나눌 것인가?\n",
        "> 전체 문제: 배열이 나뉘어 질 수 있는 두 묶음의 모든 경우에서, 각 묶음의 합을 구하고, 두 합의 차이가 가장 낮은 값을 구하는 것\n",
        "\n",
        "> 부분 문제: \n",
        "\n",
        "> [1] 각 경우에 대해 합을 구하고 차이를 구하기\n",
        "\n",
        "> [2] 각 경우에 대한 연산 결과를 저장하기\n",
        "(모든 단위 문제의 답을 병합하기, Memoisation 활용)\n",
        "\n",
        "> [3] 저장한 연산 결과에서 합의 차이가 가장 낮은 경우를 찾기\n",
        "\n"
      ]
    },
    {
      "cell_type": "markdown",
      "metadata": {
        "id": "YVWnbYfA6ekN"
      },
      "source": [
        "\n",
        "\n",
        "---\n",
        "\n"
      ]
    },
    {
      "cell_type": "markdown",
      "metadata": {
        "id": "5ht33wbpnofE"
      },
      "source": [
        "#### 2단계 - Logic Design"
      ]
    },
    {
      "cell_type": "markdown",
      "metadata": {
        "id": "VULbof4LSvOT"
      },
      "source": [
        "##### 2-1단계 - logic understanding\n",
        "\n",
        "- 문제해결에 대한 방향설정을 위해 본인만의 문제해결방법을 순서대로 작성하자."
      ]
    },
    {
      "cell_type": "markdown",
      "metadata": {
        "id": "6_0uCotxOwv4"
      },
      "source": [
        "# 선택한 문제: 1) DP를 활용한 두 묶음의 최소값"
      ]
    },
    {
      "cell_type": "markdown",
      "metadata": {
        "id": "h6RMNf1oQA8q"
      },
      "source": [
        "전략 \n",
        "\n",
        "1. 문제를 분석한다. 문제의 요구사항을 정확히 파악한다.\n",
        "2. 문제를 나만의 언어로 재정의한다. 문제의 핵심만을 추린다.\n",
        "3. 문제에서 예상되는 입력값과 출력값(테스트 케이스)을 만들어 본다. \n",
        "4. 문제를 작은 단위로 나눌 수 있는지 본다.\n",
        "5. 의사코드로 문제를 추상화한다.\n",
        "6. 의사코드에 3번 과정에서 생성한 입력값과 출력값을 대입해본다. 머릿속으로 테스트 케이스를 시험해본다. \n",
        "7. 의사코드로 코드를 작성해본다. 작성할 때 생각치 못한 부분에서 막힌다면, 의사코드를 업데이트하며 가이드로 활용한다. \n",
        "8. 입력값 예제를 작성한 코드에 입력해본다. 준비한 테스트 케이스가 통과할 수 있어야 한다.\n",
        "9. 코드가 요구사항을 만족하면, refactoring을 통해 효율성을 높일 수 있는지 본다."
      ]
    },
    {
      "cell_type": "markdown",
      "metadata": {
        "id": "pVyF3KXOQ3-Z"
      },
      "source": [
        "조건:\n",
        "\n",
        "* 주어진 정수가 두 묶음으로 나뉠 수 있는 모든 경우의 수를 찾아야한다.\n",
        "* Memoisation을 활용하여 각 단위 문제의 값을 저장해야한다. \n",
        "\n",
        "로직:\n",
        "1. 주어진 배열에서 2개의 포인터를 사용하여 순회\n",
        "2. 각 순회에서 배열을 두 묶음으로 나누기\n",
        "> 만약 한 묶음에 아무것도 없으면 다음 포인터로 넘어가기\n",
        "3. 한 묶음에 아이템이 하나라도 있으면, 각 묶음의 합을 구하기\n",
        "4. 각 묶음의 차를 구하기\n",
        "5. Memoisation을 활용하여 연산값을 저장하기 (단위 문제의 답을 병합)\n",
        "6. 배열에 존재하는 모든 경우의 수에서, 각각의 묶음의 차가 가장 낮은 모든 경우를 프린트\n",
        "\n"
      ]
    },
    {
      "cell_type": "markdown",
      "metadata": {
        "id": "9nPj0xp0QEvX"
      },
      "source": [
        "##### 2-2단계 - write pseudocode\n",
        "\n",
        "- 작성된 로직에 따라 의사코드를 작성하자."
      ]
    },
    {
      "cell_type": "markdown",
      "metadata": {
        "id": "W1KImiytgttO"
      },
      "source": [
        "\n",
        "\n",
        "```python\n",
        "def memo(sample_1, sample_2, diff):\n",
        "  differences.append(diff)\n",
        "  result.append((sample_1, sample_2, diff))\n",
        "  return list(sample_1, sample_2, differences)\n",
        "\n",
        "def min_diff(arr):\n",
        "  for i, in range of arr:\n",
        "    for i in range of arr[i]: \n",
        "      sample_1 = arr[i:j]\n",
        "      sample_2 = [item for item in arr if item not in sample_1]\n",
        "      if sample_2 is empty:\n",
        "        skip\n",
        "      else:\n",
        "        sum_1 = sum(sample_1)\n",
        "        sum_2 = sum(sample_2)\n",
        "        diff = abs(sum_1 - sum_2)\n",
        "        result, difference = memo(sample_1, sample_2, diff)\n",
        "  print([result for result in result if result.diff == min(difference)])\n",
        "```\n",
        "\n"
      ]
    },
    {
      "cell_type": "markdown",
      "metadata": {
        "id": "zFLzRez6RvUe"
      },
      "source": [
        "\n",
        "\n",
        "---\n",
        "\n"
      ]
    },
    {
      "cell_type": "markdown",
      "metadata": {
        "id": "PBRD6eYon-K1"
      },
      "source": [
        "#### 3단계 - Problem Solving"
      ]
    },
    {
      "cell_type": "markdown",
      "metadata": {
        "id": "Y_jk3opVQROn"
      },
      "source": [
        "##### 3-1단계 - programming\n",
        "\n",
        "- 문제해결을 위해 본인이 작성한 순서에 따라 프로그래밍을 한다."
      ]
    },
    {
      "cell_type": "markdown",
      "metadata": {
        "id": "guKfZfmkFpy9"
      },
      "source": [
        "**아래 문제 1에 대한 답만 채점 부탁드립니다.**"
      ]
    },
    {
      "cell_type": "code",
      "metadata": {
        "colab": {
          "base_uri": "https://localhost:8080/"
        },
        "id": "MOumO5CCBLE7",
        "outputId": "2e3810d7-40a1-4841-9adf-563065177f3d"
      },
      "source": [
        "# 묶음을 둘로 나눌 수 있는 모든 경우의 수를 찾아, 각각의 합을 구하고, 그 차가 가장 낮은 값을 리턴하는 프로그램\n",
        "\n",
        "# 모든 경우의 수와 차이값을 저장하는 부분 (Memoisation 활용)\n",
        "def memo(sample_1, sample_2, diff, result, differences): # 두 묶음과 차이 정보를 저장, min_diff에서 초기화한 배열을 인자로 활용하여, 새로운 배열로 함수를 호출할 때 이전 호출시 저장된 데이터를 리셋시키기 위함\n",
        "  differences.append(diff) # 각 묶음의 차를 저장 (결과 출력을 위한 result와의 비교를 위함)\n",
        "  result.append((sample_1, sample_2, diff)) # 각 묶음의 경우와 차를 저장하기 (결과 출력을 위한 differences와의 비교를 위함) \n",
        "  return result, differences # 저장된 값을 min_diff함수에 리턴\n",
        "\n",
        "# 묶음을 나누고, 모든 경우의 수를 찾아 합을 구하는 프로그램\n",
        "def min_diff(arr): # 함수의 이름은 최대한 목적이 드러나도록 설성\n",
        "  \n",
        "  # 각 연산마다 값을 저장하여 Memoisation에 활용하기 위한 배열을 초기화\n",
        "  result = []\n",
        "  differences = []\n",
        "\n",
        "  # 주어진 배열을 두 묶음으로 나눌 수 있는 모든 경우의 수 찾기\n",
        "  for i in range(len(arr)): # 포인터 1\n",
        "    for j in range(i+1, len(arr)+1): # 포인터 2\n",
        "      if j <= len(arr): # 두 번째 포인터가 배열의 크기보다 커지는 것을 방지하기 위함\n",
        "        sample_1 = arr[i:j] # 포인터 1과 포인터 2의 사이의 값들을 한 묶음으로 나누기\n",
        "        sample_2 = [item for item in arr if item not in sample_1] # 첫 번째 묶음에 존재하지 않는 다른 값을 주어진 배열에서 찾아 두 번째 묶음을 만들기\n",
        "      if sample_2 == []: # 두 번째 묶음에 아무것도 없는 경우를 방지하기 위함\n",
        "        continue # 아무것도 없으면 다음 포인터로 넘어가기\n",
        "      else: # 두 번째 묶음에 아이템이 있으면, 각 묶음의 합을 구하기\n",
        "        sum_1 = sum(sample_1)\n",
        "        sum_2 = sum(sample_2)\n",
        "\n",
        "        diff = abs(sum_1 - sum_2) # 각 묶음의 차의 절대값 구하기\n",
        "        result, differences = memo(sample_1, sample_2, diff, result, differences) # Memoisation 함수 활용\n",
        "\n",
        "  # 배열에 존재하는 모든 경우의 수에서, 각각의 묶음의 차가 가장 낮은 모든 경우를 프린트하기\n",
        "  for i in result:\n",
        "    if i[2] == min(differences): # 묶음의 차가 가장 낮은 경우만 프린트하기 위한 조건\n",
        "      print(\"Combination 1:{}\\nCombination 2:{}\\nSum of Set 1:{}\\nSum of Set 2:{}\\nMinimum Difference:{}\".format(i[0], i[1], sum(i[0]), sum(i[1]), i[2]))\n",
        "      print(\"-\"*50) # 보는 사람의 편의를 위해 선으로 분리\n",
        "\n",
        "# 주어진 배열\n",
        "arr = [10, 20, 30, 40, 50]\n",
        "\n",
        "# 코드 테스트\n",
        "min_diff(arr)"
      ],
      "execution_count": null,
      "outputs": [
        {
          "output_type": "stream",
          "text": [
            "Combination 1:[10, 20, 30, 40, 50, 60, 70]\n",
            "Combination 2:[80, 90, 100]\n",
            "Sum of Set 1:280\n",
            "Sum of Set 2:270\n",
            "Minimum Difference:10\n",
            "--------------------------------------------------\n",
            "Combination 1:[20, 30, 40, 50, 60, 70]\n",
            "Combination 2:[10, 80, 90, 100]\n",
            "Sum of Set 1:270\n",
            "Sum of Set 2:280\n",
            "Minimum Difference:10\n",
            "--------------------------------------------------\n",
            "Combination 1:[80, 90, 100]\n",
            "Combination 2:[10, 20, 30, 40, 50, 60, 70]\n",
            "Sum of Set 1:270\n",
            "Sum of Set 2:280\n",
            "Minimum Difference:10\n",
            "--------------------------------------------------\n"
          ],
          "name": "stdout"
        }
      ]
    },
    {
      "cell_type": "code",
      "metadata": {
        "colab": {
          "base_uri": "https://localhost:8080/"
        },
        "id": "1B5_eMQCbKyU",
        "outputId": "cc361914-6b56-48c2-f158-15d07ab8baf7"
      },
      "source": [
        "# 최종 솔루션 1\n",
        "\n",
        "\n",
        "# 출발점에서 도착점까지 가장 빠른 길 찾기\n",
        "from collections import deque\n",
        " \n",
        "# 매트리스 셀 위치를 기록하기 위한 클래스\n",
        "class Point:\n",
        "    def __init__(self,x: int, y: int):\n",
        "        self.x = x\n",
        "        self.y = y\n",
        " \n",
        "# BFS에서 사용하는 데이터 구조 클래스\n",
        "class queueNode:\n",
        "    def __init__(self,pt: Point, dist: int):\n",
        "        self.pt = pt  # 현재 셀의 위치\n",
        "        self.dist = dist  # 시작점에서 현재 셀의 거리\n",
        " \n",
        "# 현재 위치(row, col)가 \"1\"인지 확인\n",
        "def isValid(row: int, col: int): # row의 크기가 ROW보다 작고 0보다는 커야한다.\n",
        "    return (row >= 0) and (row < ROW) and (col >= 0) and (col < COL) # col의 크기가 COL보다 작고 0보다는 커야한다.\n",
        " \n",
        "# 동서남북 이동을 위한 배열\n",
        "# 주어진셀의 4가지 가능성을 의미\n",
        "rowNum = [-1, 0, 0, 1]\n",
        "colNum = [0, -1, 1, 0]\n",
        " \n",
        "# 주어진 위치에서 도착점까지의 가장 빠른길 찾기 \n",
        "def BFS(mat, src: Point, dest: Point):\n",
        "     \n",
        "    # 시작점과 출발점이 \"1\"을 가지고 있는지 체크한다.\n",
        "    if mat[src.x][src.y]!=1 or mat[dest.x][dest.y]!=1:\n",
        "        return -1\n",
        "     \n",
        "    # 탐색 경로 저장을 위한 매트리스 생성\n",
        "    visited = [[False for i in range(COL)] \n",
        "                       for j in range(ROW)]\n",
        "     \n",
        "    # 탐색한 위치는 \"1\"로 변경한다.\n",
        "    visited[src.x][src.y] = True\n",
        "     \n",
        "    # BFS 실행시 경로를 저장하기위한 queue생성\n",
        "    q = deque()\n",
        "     \n",
        "    # 시작점의 거리는 0이다.\n",
        "    s = queueNode(src,0)\n",
        "    q.append(s) #  queue에 시작점의 값을 넣는다.\n",
        "     \n",
        "    # 시작점에서 BFS를 시작한다.\n",
        "    while q:\n",
        " \n",
        "        curr = q.popleft() # queue의 가장 앞 값을 pop하기\n",
        "         \n",
        "        # 목적지에 닿으면 현재 시점까지의 1의 합을 리턴하고 종료한다.\n",
        "        pt = curr.pt\n",
        "        if pt.x == dest.x and pt.y == dest.y:\n",
        "            return curr.dist\n",
        "         \n",
        "        # 목적지가 아니면, 계속해서 인접 queue에 위치를 push한다.\n",
        "        for i in range(4):\n",
        "            row = pt.x + rowNum[i]\n",
        "            col = pt.y + colNum[i]\n",
        "             \n",
        "            # 인접한 셀이 \"1\"이고 아직 방문하지 않았으면 queue에 push한다.\n",
        "            if (isValid(row,col) and\n",
        "               mat[row][col] == 1 and\n",
        "                not visited[row][col]):\n",
        "                visited[row][col] = True\n",
        "                Adjcell = queueNode(Point(row,col),\n",
        "                                    curr.dist+1)\n",
        "                q.append(Adjcell)\n",
        "     \n",
        "    # 목적지에 닿을 수 없다면 -1을 리턴한다.\n",
        "    return -1\n",
        " \n",
        "# 코드 테스트\n",
        "# 예제 매트리스\n",
        "X = [\n",
        "  [1, 1, 0, 1, 0, 1],\n",
        "  [1, 1, 1, 1, 0, 1],\n",
        "  [0, 0, 1, 0, 0, 1],\n",
        "  [1, 0, 1, 1, 1, 1],\n",
        "  [0, 1, 1, 0, 0, 1],\n",
        "  [1, 0, 1, 1, 1, 0],\n",
        "  [1, 0, 1, 0, 1, 0]\n",
        "]\n",
        "\n",
        "ROW = len(X) # 최대 매트리스의 너비\n",
        "COL = len(X[0]) # 최대 매트리스의 길이\n",
        "# 예제 시작점\n",
        "source = Point(0,0)\n",
        "# 예제 도착점\n",
        "dest = Point(6,4)\n",
        "# 시작점으로 부터 도착점까지 BFS를 통해 가장 빠른 길 탐색 \n",
        "dist = BFS(X,source,dest)\n",
        "# 가장 빠른길의 크기가 -1이면 경로가 없다고 판단, 아니면 해당 경로가 가장 빠른 길이라 판단하여 리턴\n",
        "if dist!=-1:\n",
        "  print(\"가장 빠른 길: \",dist)\n",
        "else:\n",
        "  print(\"가장 빠른 길이 유효하지 않습니다.\")\n",
        " \n"
      ],
      "execution_count": null,
      "outputs": [
        {
          "output_type": "stream",
          "text": [
            "가장 빠른 길:  10\n"
          ],
          "name": "stdout"
        }
      ]
    },
    {
      "cell_type": "markdown",
      "metadata": {
        "id": "ZiAeVQpHRwSC"
      },
      "source": [
        "\n",
        "\n",
        "---\n",
        "\n"
      ]
    },
    {
      "cell_type": "code",
      "metadata": {
        "colab": {
          "base_uri": "https://localhost:8080/"
        },
        "id": "MLTWJxMtwL9x",
        "outputId": "bb5c49ca-e64b-40c2-f1d6-30b0b5479308"
      },
      "source": [
        "# Using Pythagorean Theorem\n",
        "ok_path = set()\n",
        "ok_path.add(input_coord)\n",
        "visited = {}\n",
        "pythagoras = []\n",
        "count = 0\n",
        "for i in range(len(X)):\n",
        "  for j in range(len(X[0])):\n",
        "    if i-1 >= -1 and j-1 >= -1 and i+1 < len(X) and j+1 < len(X[0]):\n",
        "        # Pythagorean comparison\n",
        "        # a = ((output_coord[0] - i)**2 + (output_coord[1] - j)**2)**0.5\n",
        "        b = ((output_coord[0] - (i+1))**2 + (output_coord[1] - j)**2)**0.5\n",
        "        c = ((output_coord[0] - i)**2 + (output_coord[1] - (j+1))**2)**0.5\n",
        "        d = ((output_coord[0] - (i-1))**2 + (output_coord[1] - j)**2)**0.5\n",
        "        e = ((output_coord[0] - i)**2 + (output_coord[1] - (j-1))**2)**0.5\n",
        "        pythagoras.append([b, c, d, e])        \n",
        "        if X[i][j] == 1 and X[i][j+1] == 1 and c == min(pythagoras[0]):\n",
        "          if abs(abs(i-j) - abs(i-abs(j+1))) == 1:\n",
        "            # ok_path.add((i, j))\n",
        "            ok_path.add((i, j+1))\n",
        "            visited[(i, j)] = ok_path\n",
        "            count += 1\n",
        "          elif abs(abs(i-j) - abs(i-abs(j+1))) == 1:\n",
        "            continue\n",
        "        elif X[i][j] == 1 and X[i+1][j] == 1 and b == min(pythagoras[0]):\n",
        "          if abs(abs(i-j) - abs(abs(i+1)-j)) == 1:\n",
        "            # ok_path.add((i, j))\n",
        "            ok_path.add((i+1, j))\n",
        "            visited[(i, j)] = ok_path\n",
        "            count += 1\n",
        "          elif abs(abs(i-j) - abs(abs(i+1)-j)) == 1:\n",
        "            continue\n",
        "        elif X[i][j] == 1 and X[i-1][j] == 1 and d == min(pythagoras[0]):\n",
        "          if abs(abs(i-j) - abs(abs(i-1)-j)) == 1:\n",
        "            # ok_path.add((i, j))\n",
        "            ok_path.add((i-1, j))\n",
        "            visited[(i, j)] = ok_path\n",
        "            count -= 1\n",
        "          elif abs(abs(i-j) - abs(abs(i-1)-j)) == 1:\n",
        "            continue\n",
        "        elif X[i][j] == 1 and X[i][j-1] == 1 and e == min(pythagoras[0]):\n",
        "          if abs(abs(i-j) - abs(i-abs(j-1))) == 1:\n",
        "            # ok_path.add((i, j))\n",
        "            ok_path.add((i, j-1))\n",
        "            visited[(i, j)] = ok_path\n",
        "            count -= 1\n",
        "          elif abs(abs(i-j) - abs(i-abs(j-1))) == 1:\n",
        "            continue\n",
        "        elif (i, j+1) == output_coord or (i+1, j) == output_coord:\n",
        "          count += 1         \n",
        "        elif (i-1, j) == output_coord or (i, j-1) == output_coord:\n",
        "          count -= 1\n",
        "    elif (i, j) == output_coord:\n",
        "      break\n",
        "\n",
        "visited"
      ],
      "execution_count": null,
      "outputs": [
        {
          "output_type": "execute_result",
          "data": {
            "text/plain": [
              "{(0, 0): {(0, 0), (1, 0)}, (1, 1): {(0, 0), (1, 0)}}"
            ]
          },
          "metadata": {
            "tags": []
          },
          "execution_count": 170
        }
      ]
    },
    {
      "cell_type": "markdown",
      "metadata": {
        "id": "dnsawavMQmFF"
      },
      "source": [
        "#### 4단계 - Program Analysis"
      ]
    },
    {
      "cell_type": "markdown",
      "metadata": {
        "id": "PV91YM8dSHfU"
      },
      "source": [
        "##### 4-1단계 - valid comment\n",
        "\n",
        "- 본인이 작성한 소스코드를 보고 타인이 이해할 수 있도록 코드의 핵심기능에 주석을 작성한다.\n",
        "\n",
        "  - 실제로 주석을 보고 타인이 프로그램에 대해 질문하는 경우가 있으므로, 주석에 대한 타당성을 반드시 고려한다."
      ]
    },
    {
      "cell_type": "code",
      "metadata": {
        "id": "9SIQnlYVQHEM"
      },
      "source": [
        "# 묶음을 둘로 나눌 수 있는 모든 경우의 수를 찾아, 각각의 합을 구하고, 그 차가 가장 낮은 값을 리턴하는 프로그램\n",
        "\n",
        "# 모든 경우의 수와 차이값을 저장하는 부분 (Memoisation 활용)\n",
        "def memo(sample_1, sample_2, diff, result, differences): # 두 묶음과 차이 정보를 저장, min_diff에서 초기화한 배열을 인자로 활용하여, 새로운 배열로 함수를 호출할 때 이전 호출시 연산된 데이터를 리셋시키기 위함\n",
        "  differences.append(diff) # 각 묶음의 차를 저장 (결과 출력을 위한 result와의 비교를 위함)\n",
        "  result.append((sample_1, sample_2, diff)) # 각 묶음의 경우와 차를 저장하기 (결과 출력을 위한 differences와의 비교를 위함) \n",
        "  return result, differences # 저장된 값을 min_diff함수에 리턴\n",
        "\n",
        "# 묶음을 나누고, 모든 경우의 수를 찾아 합을 구하는 프로그램\n",
        "def min_diff(arr): # 함수의 이름은 최대한 목적이 드러나도록 설성\n",
        "  \n",
        "  # 각 연산마다 값을 저장하여 Memoisation에 활용하기 위한 배열을 초기화\n",
        "  result = []\n",
        "  differences = []\n",
        "\n",
        "  # 주어진 배열을 두 묶음으로 나눌 수 있는 모든 경우의 수 찾기\n",
        "  for i in range(len(arr)): # 포인터 1\n",
        "    for j in range(i+1, len(arr)+1): # 포인터 2\n",
        "      if j <= len(arr): # 두 번째 포인터가 배열의 크기보다 커지는 것을 방지하기 위함\n",
        "        sample_1 = arr[i:j] # 포인터 1과 포인터 2의 사이의 값들을 한 묶음으로 나누기\n",
        "        sample_2 = [item for item in arr if item not in sample_1] # 첫 번째 묶음에 존재하지 않는 다른 값을 주어진 배열에서 찾아 두 번째 묶음을 만들기\n",
        "      if sample_2 == []: # 두 번째 묶음에 아무것도 없는 경우를 방지하기 위함\n",
        "        continue # 아무것도 없으면 다음 포인터로 넘어가기\n",
        "      else: # 두 번째 묶음에 아이템이 있으면, 각 묶음의 합을 구하기\n",
        "        sum_1 = sum(sample_1)\n",
        "        sum_2 = sum(sample_2)\n",
        "\n",
        "        diff = abs(sum_1 - sum_2) # 각 묶음의 차의 절대값 구하기\n",
        "        result, differences = memo(sample_1, sample_2, diff, result, differences) # Memoisation 함수 활용\n",
        "\n",
        "  # 배열에 존재하는 모든 경우의 수에서, 각각의 묶음의 차가 가장 낮은 모든 경우를 프린트하기\n",
        "  for i in result:\n",
        "    if i[2] == min(differences): # 묶음의 차가 가장 낮은 경우만 프린트하기 위한 조건\n",
        "      print(\"Combination 1:{}\\nCombination 2:{}\\nSum of Set 1:{}\\nSum of Set 2:{}\\nMinimum Difference:{}\".format(i[0], i[1], sum(i[0]), sum(i[1]), i[2]))\n",
        "      print(\"-\"*50) # 보는 사람의 편의를 위해 선으로 분리\n"
      ],
      "execution_count": null,
      "outputs": []
    },
    {
      "cell_type": "code",
      "metadata": {
        "colab": {
          "base_uri": "https://localhost:8080/"
        },
        "id": "SFqxSOPLXyu2",
        "outputId": "7c25943f-3c9a-40bb-ef9a-b0c1b83bb80d"
      },
      "source": [
        "# 주어진 배열\n",
        "arr = [10, 20, 30, 40, 50]\n",
        "\n",
        "# 코드 테스트\n",
        "min_diff(arr)"
      ],
      "execution_count": null,
      "outputs": [
        {
          "output_type": "stream",
          "text": [
            "Combination 1:[30, 40]\n",
            "Combination 2:[10, 20, 50]\n",
            "Sum of Set 1:70\n",
            "Sum of Set 2:80\n",
            "Minimum Difference:10\n",
            "--------------------------------------------------\n"
          ],
          "name": "stdout"
        }
      ]
    },
    {
      "cell_type": "markdown",
      "metadata": {
        "id": "D1Q8EbXsSL8D"
      },
      "source": [
        "##### 4-2단계 - test case\n",
        "\n",
        "- 테스트 케이스만을 보고 문제에 대해 반복되는 특정 패턴을 찾을 수 있도록 일관성있는 기본 테스트 케이스를 작성하고, 테스트를 진행한 결과 또한 작성한다.\n",
        "\n",
        "  - 본인이 테스트 케이스를 작성한 이유를 함께 작성한다."
      ]
    },
    {
      "cell_type": "markdown",
      "metadata": {
        "id": "hAZnhSSzQLrK"
      },
      "source": [
        "## Test Case 1\n",
        "아래 테스트 케이스는, 좀 더 큰 배열에서 두 묶음의 합이 최소값인 경우가 1개 이상인지 확인해보기 위해 만들었다. 아래 보이는 것처럼, 최소값인 경우가 여러개인 것을 볼 수 있다. 주어진 배열에서는 중복되는 값이 없기 때문에, 묶음 1과 2가 바뀌었을 뿐 두 묶음의 합과 차이가 똑같은 케이스가 있는 것을 알 수 있다. "
      ]
    },
    {
      "cell_type": "code",
      "metadata": {
        "colab": {
          "base_uri": "https://localhost:8080/"
        },
        "id": "9VGX9E1CPtDw",
        "outputId": "2d70860c-ce40-44ae-b705-54a31d5be875"
      },
      "source": [
        "# 테스트 케이스 1\n",
        "# 주어진 배열\n",
        "arr = [10, 20, 30, 40, 50, 60, 70, 80, 90, 100]\n",
        "\n",
        "# 코드 테스트\n",
        "min_diff(arr)"
      ],
      "execution_count": null,
      "outputs": [
        {
          "output_type": "stream",
          "text": [
            "Combination 1:[10, 20, 30, 40, 50, 60, 70]\n",
            "Combination 2:[80, 90, 100]\n",
            "Sum of Set 1:280\n",
            "Sum of Set 2:270\n",
            "Minimum Difference:10\n",
            "--------------------------------------------------\n",
            "Combination 1:[20, 30, 40, 50, 60, 70]\n",
            "Combination 2:[10, 80, 90, 100]\n",
            "Sum of Set 1:270\n",
            "Sum of Set 2:280\n",
            "Minimum Difference:10\n",
            "--------------------------------------------------\n",
            "Combination 1:[80, 90, 100]\n",
            "Combination 2:[10, 20, 30, 40, 50, 60, 70]\n",
            "Sum of Set 1:270\n",
            "Sum of Set 2:280\n",
            "Minimum Difference:10\n",
            "--------------------------------------------------\n"
          ],
          "name": "stdout"
        }
      ]
    },
    {
      "cell_type": "markdown",
      "metadata": {
        "id": "_WYa3hi_STP5"
      },
      "source": [
        "## Test Case 2\n",
        "그렇다면, 중복된 값이 존재하는 경우는 어떨까? 이 경우도 마찬가지로, 묶음 1과 2가 비슷한 경우가 2번이 더 존재함을 알 수 있다. 이 경우는 하나의 케이스로 보아야한다. 중복되지 않는 경우는 1개가 있었다. 그러므로, 최소 차이값을 갖는 경우는 총 2개가 있는 것을 알 수 있다. "
      ]
    },
    {
      "cell_type": "code",
      "metadata": {
        "colab": {
          "base_uri": "https://localhost:8080/"
        },
        "id": "fDpmDB2jRBNZ",
        "outputId": "89476449-9698-440a-afc1-758d8ea1f807"
      },
      "source": [
        "# 테스트 케이스 2\n",
        "# 주어진 배열\n",
        "arr = [20, 20, 30, 30, 50, 60, 70, 80, 90, 100]\n",
        "\n",
        "# 코드 테스트\n",
        "min_diff(arr)"
      ],
      "execution_count": null,
      "outputs": [
        {
          "output_type": "stream",
          "text": [
            "Combination 1:[20, 20, 30, 30, 50, 60, 70]\n",
            "Combination 2:[80, 90, 100]\n",
            "Sum of Set 1:280\n",
            "Sum of Set 2:270\n",
            "Minimum Difference:10\n",
            "--------------------------------------------------\n",
            "Combination 1:[20, 30, 30, 50, 60, 70]\n",
            "Combination 2:[80, 90, 100]\n",
            "Sum of Set 1:260\n",
            "Sum of Set 2:270\n",
            "Minimum Difference:10\n",
            "--------------------------------------------------\n",
            "Combination 1:[80, 90, 100]\n",
            "Combination 2:[20, 20, 30, 30, 50, 60, 70]\n",
            "Sum of Set 1:270\n",
            "Sum of Set 2:280\n",
            "Minimum Difference:10\n",
            "--------------------------------------------------\n"
          ],
          "name": "stdout"
        }
      ]
    },
    {
      "cell_type": "markdown",
      "metadata": {
        "id": "ELG26-YCaQYV"
      },
      "source": [
        "## Test Case 3\n",
        "이번에는 각 숫자가 10의 단위가 아닌 정수들과, 갑자기 값의 차이를 크게 늘렸을 때 어떻게 나오는지 보았다. 배열의 모든 다른 수보다 훨씬 더 큰 값이 하나 존재할 경우, 최소 차이값이 훨씬 터 커지는 것을 알 수 있다. 아래 경우는 묶음 1과 2가 같은 경우를 보여주므로, 두 묶음의 합이 최소값을 갖는 경우는 단 1개 밖에 없다고 볼 수 있다. 배열이 커지거나 숫자가 커질수록, 중복되는 경우가 많아질 수 있음을 예상해볼 수 있다. "
      ]
    },
    {
      "cell_type": "code",
      "metadata": {
        "colab": {
          "base_uri": "https://localhost:8080/"
        },
        "id": "DEpoXcTDZ-El",
        "outputId": "327ae2f7-6428-4e8f-cc4f-d8427eff7e4f"
      },
      "source": [
        "# 테스트 케이스 3\n",
        "# 주어진 배열\n",
        "arr = [19, 20, 15, 44, 100, 1000]\n",
        "\n",
        "# 코드 테스트\n",
        "min_diff(arr) "
      ],
      "execution_count": null,
      "outputs": [
        {
          "output_type": "stream",
          "text": [
            "Combination 1:[19, 20, 15, 44, 100]\n",
            "Combination 2:[1000]\n",
            "Sum of Set 1:198\n",
            "Sum of Set 2:1000\n",
            "Minimum Difference:802\n",
            "--------------------------------------------------\n",
            "Combination 1:[1000]\n",
            "Combination 2:[19, 20, 15, 44, 100]\n",
            "Sum of Set 1:1000\n",
            "Sum of Set 2:198\n",
            "Minimum Difference:802\n",
            "--------------------------------------------------\n"
          ],
          "name": "stdout"
        }
      ]
    },
    {
      "cell_type": "markdown",
      "metadata": {
        "id": "WLRPmWB0TOei"
      },
      "source": [
        "##### 4-3단계 - edge case\n",
        "\n",
        "- 기본 테스트 케이스 이외에 문제가 되거나 추가로 고려될 수 있는 특이 케이스를 작성한다."
      ]
    },
    {
      "cell_type": "markdown",
      "metadata": {
        "id": "-lYqXz7eQO8p"
      },
      "source": [
        "## 예외 테스트케이스\n",
        "\n",
        "그렇다면, 0으로 이루어진 배열의 경우는 어떨까?\n",
        "아래의 경우, 두 번째 케이스 중 \"0\"이 하나 누락된 것을 볼 수 있다. 상당히 흥미로운 예외케이스다."
      ]
    },
    {
      "cell_type": "code",
      "metadata": {
        "colab": {
          "base_uri": "https://localhost:8080/"
        },
        "id": "emmfqykqblUF",
        "outputId": "fb901295-d287-422b-ecff-aeb848bc5eb9"
      },
      "source": [
        "# 애외 테스트 케이스 1\n",
        "# 주어진 배열\n",
        "arr = [0, 0, 15, 44, 100, 1000]\n",
        "\n",
        "# 코드 테스트\n",
        "min_diff(arr) "
      ],
      "execution_count": null,
      "outputs": [
        {
          "output_type": "stream",
          "text": [
            "Combination 1:[0, 0, 15, 44, 100]\n",
            "Combination 2:[1000]\n",
            "Sum of Set 1:159\n",
            "Sum of Set 2:1000\n",
            "Minimum Difference:841\n",
            "--------------------------------------------------\n",
            "Combination 1:[0, 15, 44, 100]\n",
            "Combination 2:[1000]\n",
            "Sum of Set 1:159\n",
            "Sum of Set 2:1000\n",
            "Minimum Difference:841\n",
            "--------------------------------------------------\n",
            "Combination 1:[15, 44, 100]\n",
            "Combination 2:[0, 0, 1000]\n",
            "Sum of Set 1:159\n",
            "Sum of Set 2:1000\n",
            "Minimum Difference:841\n",
            "--------------------------------------------------\n",
            "Combination 1:[1000]\n",
            "Combination 2:[0, 0, 15, 44, 100]\n",
            "Sum of Set 1:1000\n",
            "Sum of Set 2:159\n",
            "Minimum Difference:841\n",
            "--------------------------------------------------\n"
          ],
          "name": "stdout"
        }
      ]
    },
    {
      "cell_type": "markdown",
      "metadata": {
        "id": "PiCq1Oteco7t"
      },
      "source": [
        "0이 배열의 처음과 끝, 그리고 정수들 사이에 있을 때, 어떻게 나오는지를 보는 테스트를 진행했다. 이전과 마찬가지로, 0이 누락된 경우를 볼 수 있다. 아무래도 지금 프로그램이, 특정한 케이스에 0이 있을 경우, 이 것을 불필요하다고 판단하여 무시하는 로직이 있는 듯 보인다."
      ]
    },
    {
      "cell_type": "code",
      "metadata": {
        "colab": {
          "base_uri": "https://localhost:8080/"
        },
        "id": "tTnx2cN1cN3u",
        "outputId": "ef9642f9-7908-4f30-fb7d-768131cb4d1a"
      },
      "source": [
        "# 애외 테스트 케이스 2\n",
        "# 주어진 배열\n",
        "arr = [0, 0, 15, 44, 0, 100, 1000, 0, 0]\n",
        "\n",
        "# 코드 테스트\n",
        "min_diff(arr) "
      ],
      "execution_count": null,
      "outputs": [
        {
          "output_type": "stream",
          "text": [
            "Combination 1:[0, 0, 15, 44, 0, 100]\n",
            "Combination 2:[1000]\n",
            "Sum of Set 1:159\n",
            "Sum of Set 2:1000\n",
            "Minimum Difference:841\n",
            "--------------------------------------------------\n",
            "Combination 1:[0, 15, 44, 0, 100]\n",
            "Combination 2:[1000]\n",
            "Sum of Set 1:159\n",
            "Sum of Set 2:1000\n",
            "Minimum Difference:841\n",
            "--------------------------------------------------\n",
            "Combination 1:[15, 44, 0, 100]\n",
            "Combination 2:[1000]\n",
            "Sum of Set 1:159\n",
            "Sum of Set 2:1000\n",
            "Minimum Difference:841\n",
            "--------------------------------------------------\n",
            "Combination 1:[1000]\n",
            "Combination 2:[0, 0, 15, 44, 0, 100, 0, 0]\n",
            "Sum of Set 1:1000\n",
            "Sum of Set 2:159\n",
            "Minimum Difference:841\n",
            "--------------------------------------------------\n",
            "Combination 1:[1000, 0]\n",
            "Combination 2:[15, 44, 100]\n",
            "Sum of Set 1:1000\n",
            "Sum of Set 2:159\n",
            "Minimum Difference:841\n",
            "--------------------------------------------------\n",
            "Combination 1:[1000, 0, 0]\n",
            "Combination 2:[15, 44, 100]\n",
            "Sum of Set 1:1000\n",
            "Sum of Set 2:159\n",
            "Minimum Difference:841\n",
            "--------------------------------------------------\n"
          ],
          "name": "stdout"
        }
      ]
    },
    {
      "cell_type": "markdown",
      "metadata": {
        "id": "64uM9kgLRxhg"
      },
      "source": [
        "\n",
        "\n",
        "---\n",
        "\n"
      ]
    },
    {
      "cell_type": "markdown",
      "metadata": {
        "id": "pUk41tUrTkbY"
      },
      "source": [
        "#### 5단계 - Program Review"
      ]
    },
    {
      "cell_type": "markdown",
      "metadata": {
        "id": "CmuD8vZQTs5v"
      },
      "source": [
        "##### 5-1단계 - program concept\n",
        "\n",
        "- 본인이 분석하고 작성한 프로그램에 어떠한 개념(파이썬, 자료구조, 알고리즘)이 적용되었는지 회고해본다."
      ]
    },
    {
      "cell_type": "markdown",
      "metadata": {
        "id": "vp3r_WqVQPzA"
      },
      "source": [
        "**Keywaords: Divide and conquer, Nested Loops, Memoisation**\n",
        "\n"
      ]
    },
    {
      "cell_type": "markdown",
      "metadata": {
        "id": "EOwh5gkzwmn5"
      },
      "source": [
        "## 1. Memoisation\n",
        "\n",
        "아무래도 이번 프로그램에서 사용된 프로그래밍 개념 중 가장 중요한 기법이라고 할 수 있다. Memoisation의 사용을 통해서, 각 단위 문제들의 연산 결과를 저장하여, 마지막에 원하는 값을 찾는데 활용할 수 있었다. \n",
        "\n",
        "아래와 같이 memo함수를 통해, 각 연산값을 저장하여 min_diff함수에 리턴하고 이를 바탕으로 전체 문제에서 가장 작은 합의 차를 갖는 경우를 출력하는데 활용할 수 있었다. 주의할 것은, min_diff함수에서 각 단위 문제의 결과값을 저장하기 위한 배열을 초기화하고, 이를 인자로 활용하여 이후에 memo함수를 호출한 것을 볼 수 있다. 이렇게 하지 않고, memo함수에서 배열을 초기화한다면, memo함수를 호출할 때마다 이전 연산에 저장한 값들을 없애버린다. 그러므로, 모든 단위 문제의 연산결과를 저장하기 위해 주 연산이 이루어지는 min_diff 함수에서 배열을 초기화했다. \n",
        "\n",
        "만약 Memoisation을 활용하지 않는다면, 최소값을 갖는 경우를 따로 저장하여 찾기가 힘들기 때문에, 같은 목적의 프로그램을 구현하기가 매우 힘들었을 것이다. 개인적으로 이 프로그램을 짜면서 깨달은 것은, 이렇게 \"모든 경우의 수에서 특정한 조건의 경우를 찾아야 하는 문제\"가 있을 때, Memoisation을 활용하는 것이 가장 좋은 방법이라는 것이다. 이를 활용하지 않고는 전체 문제에 대한 프로그램을 구현하기가 매우 힘들것이며, 재귀를 사용하지 않아도 되지만 분할정복(Divide and Conquer)를 통해 전체 문제를 각각의 작은 부분으로 나누어 해결하는 것이 좋다는 것을 깨달았다."
      ]
    },
    {
      "cell_type": "code",
      "metadata": {
        "id": "2aM-bl7F_Bgm"
      },
      "source": [
        "# 묶음을 둘로 나눌 수 있는 모든 경우의 수를 찾아, 각각의 합을 구하고, 그 차가 가장 낮은 값을 리턴하는 프로그램\n",
        "\n",
        "# 모든 경우의 수와 차이값을 저장하는 부분 (Memoisation 활용)\n",
        "def memo(sample_1, sample_2, diff, result, differences): # 두 묶음과 차이 정보를 저장, min_diff에서 초기화한 배열을 인자로 활용하여, 새로운 배열로 함수를 호출할 때 이전 호출시 연산된 데이터를 리셋시키기 위함\n",
        "  differences.append(diff) # 각 묶음의 차를 저장 (결과 출력을 위한 result와의 비교를 위함)\n",
        "  result.append((sample_1, sample_2, diff)) # 각 묶음의 경우와 차를 저장하기 (결과 출력을 위한 differences와의 비교를 위함) \n",
        "  return result, differences # 저장된 값을 min_diff함수에 리턴\n",
        "\n",
        "# 묶음을 나누고, 모든 경우의 수를 찾아 합을 구하는 프로그램\n",
        "def min_diff(arr): # 함수의 이름은 최대한 목적이 드러나도록 설성\n",
        "  \n",
        "  # 각 연산마다 값을 저장하여 Memoisation에 활용하기 위한 배열을 초기화\n",
        "  result = []\n",
        "  differences = []\n",
        "\n",
        "  # for i in range(len(arr)): \n",
        "  #   for j in range(i+1, len(arr)+1): \n",
        "  #     if j <= len(arr): \n",
        "  #       sample_1 = arr[i:j] \n",
        "  #       sample_2 = [item for item in arr if item not in sample_1] \n",
        "  #     if sample_2 == []: \n",
        "  #       continue \n",
        "  #     else: \n",
        "  #       sum_1 = sum(sample_1)\n",
        "  #       sum_2 = sum(sample_2)\n",
        "\n",
        "  #       diff = abs(sum_1 - sum_2)\n",
        "        result, differences = memo(sample_1, sample_2, diff, result, differences) # Memoisation 함수 활용"
      ],
      "execution_count": null,
      "outputs": []
    },
    {
      "cell_type": "markdown",
      "metadata": {
        "id": "Jsd2KSQBziMM"
      },
      "source": [
        "## 2. Divide and Conquer(분할정복)\n",
        "\n",
        "위 프로그램에서 나는 여러 문제를 작은 단위 부분으로 나누어 해결한 후, 각각의 연산값을 저장(병합)하여, 전체 문제에 맞는 조건을 찾아 원하는 경우의 수를 도출하였다. 먼저, 아래와 같이 문제를 세부적인 부분들로 나누었다. \n",
        "\n",
        "1) 두 묶음으로 나뉘어 질 수 있는 모든 경우의 수를 찾았는데, 이를 위해 For문을 2번 사용하였다. 2개의 포인터를 이용하여, 주어진 배열안에서 찾을 수 있는 모든 경우의 수를 조회했다.\n",
        "\n",
        "2) 각 경우의 수에서, 두 묶음의 개별적인 합을 구하고, 둘의 차이를 구했다.\n",
        "\n",
        "3) memo함수를 호출하여 이 모든 결과들을 저장(병합했다.)\n",
        "\n",
        "4) 저장된 결과에서, 가장 낮은 차이를 갖는 경우를 도출하여, 해당 경우의 수의 상세한 정보를 프린트했다.\n",
        "\n",
        "위 처럼, 모든 문제들을 나누어 개별적으로 구현했고, 각 연산 결과를 저장하는 과정을 통해 모든 문제에 대한 답을 병합했다. 그리고 이를 바탕으로, 원하는 조건의 값을 찾아, 그 값에 해당하는 경우의 수를 리턴했다. 복잡해 질 수 있는 문제들을 여러개의 작은 문제들로 나누어 이를 병합하여 전체 문제를 해결한 것이다. 특정한 조건에 해당하는 답을 찾기위해, 모든 경우의 수를 보아야하는 문제에서는 이러한 분할정복의 개념이 매우 유용할 수 있다는 것을 다시 한번 깨달았다. \n"
      ]
    },
    {
      "cell_type": "code",
      "metadata": {
        "id": "wttgTGbM0p87"
      },
      "source": [
        "# 묶음을 나누고, 모든 경우의 수를 찾아 합을 구하는 프로그램\n",
        "def min_diff(arr): # 함수의 이름은 최대한 목적이 드러나도록 설성\n",
        "  \n",
        "  # 각 연산마다 값을 저장하여 Memoisation에 활용하기 위한 배열을 초기화\n",
        "  result = []\n",
        "  differences = []  \n",
        "  \n",
        "  # 주어진 배열을 두 묶음으로 나눌 수 있는 모든 경우의 수 찾기\n",
        "  for i in range(len(arr)): # 포인터 1\n",
        "    for j in range(i+1, len(arr)+1): # 포인터 2\n",
        "      if j <= len(arr): # 두 번째 포인터가 배열의 크기보다 커지는 것을 방지하기 위함\n",
        "        sample_1 = arr[i:j] # 포인터 1과 포인터 2의 사이의 값들을 한 묶음으로 나누기\n",
        "        sample_2 = [item for item in arr if item not in sample_1] # 첫 번째 묶음에 존재하지 않는 다른 값을 주어진 배열에서 찾아 두 번째 묶음을 만들기\n",
        "      if sample_2 == []: # 두 번째 묶음에 아무것도 없는 경우를 방지하기 위함\n",
        "        continue # 아무것도 없으면 다음 포인터로 넘어가기\n",
        "      else: # 두 번째 묶음에 아이템이 있으면, 각 묶음의 합을 구하기\n",
        "        sum_1 = sum(sample_1)\n",
        "        sum_2 = sum(sample_2)\n",
        "\n",
        "        diff = abs(sum_1 - sum_2) # 각 묶음의 차의 절대값 구하기\n",
        "        result, differences = memo(sample_1, sample_2, diff, result, differences) # Memoisation 함수 활용\n",
        "\n",
        "  # 배열에 존재하는 모든 경우의 수에서, 각각의 묶음의 차가 가장 낮은 모든 경우를 프린트하기\n",
        "  for i in result:\n",
        "    if i[2] == min(differences): # 묶음의 차가 가장 낮은 경우만 프린트하기 위한 조건\n",
        "      print(\"Combination 1:{}\\nCombination 2:{}\\nSum of Set 1:{}\\nSum of Set 2:{}\\nMinimum Difference:{}\".format(i[0], i[1], sum(i[0]), sum(i[1]), i[2]))\n",
        "      print(\"-\"*50) # 보는 사람의 편의를 위해 선으로 분리"
      ],
      "execution_count": null,
      "outputs": []
    },
    {
      "cell_type": "markdown",
      "metadata": {
        "id": "FlANrQCF1vXn"
      },
      "source": [
        "## 3. Nested Loops(중첩반목문)\n",
        "\n",
        "또 하나 내 프로그램에서 사용된 중요한 기법은 중첩반복문(Nested Loops)의 활용이다. 모든 경우의 수를 찾으려면, 하나의 포인터로 배열을 순회해서는 한계가 있다. 포인터를 하나 더 사용하여, 하나의 포인터를 기준으로 다른 포인터가 계속 움직이면서, 계속해서 주어진 배열이 얼마나 두 묶음으로 다르게 나뉘어 질 수 있는지를 찾을 수 있었다. 이러한 방법으로, 전체 문제를 작은 단위 문제로 나눌 수 있었으며, 분할정복개념을 활용하여 전체 문제를 해결할 수 있었다. 또한 각 경우의 수에 대해 각 묶음의 합과 두 합의 차이를 구해 그 결과를 memo함수를 통해 저장함으로써, 다음 경우의 수를 찾기 전 필요한 연산을 마치고 그 결과를 저장할 수 있었다. 중첩반목문으로 두 개의 포인터를 활용함으로써 모든 경우의 수를 찾고, 해당 경우에 필요한 연산을 한 후 그 값을 저장함으로써, 효율적으로 단위 문제들을 해결할 수 있었다. \n"
      ]
    },
    {
      "cell_type": "code",
      "metadata": {
        "id": "dZstCyuw6wVC"
      },
      "source": [
        "  # 주어진 배열을 두 묶음으로 나눌 수 있는 모든 경우의 수 찾기\n",
        "  for i in range(len(arr)): # 포인터 1\n",
        "    for j in range(i+1, len(arr)+1): # 포인터 2\n",
        "      if j <= len(arr): # 두 번째 포인터가 배열의 크기보다 커지는 것을 방지하기 위함\n",
        "        sample_1 = arr[i:j] # 포인터 1과 포인터 2의 사이의 값들을 한 묶음으로 나누기\n",
        "        sample_2 = [item for item in arr if item not in sample_1] # 첫 번째 묶음에 존재하지 않는 다른 값을 주어진 배열에서 찾아 두 번째 묶음을 만들기\n",
        "      if sample_2 == []: # 두 번째 묶음에 아무것도 없는 경우를 방지하기 위함\n",
        "        continue # 아무것도 없으면 다음 포인터로 넘어가기\n",
        "      else: # 두 번째 묶음에 아이템이 있으면, 각 묶음의 합을 구하기\n",
        "        sum_1 = sum(sample_1)\n",
        "        sum_2 = sum(sample_2)\n",
        "\n",
        "        diff = abs(sum_1 - sum_2) # 각 묶음의 차의 절대값 구하기\n",
        "        result, differences = memo(sample_1, sample_2, diff, result, differences) # Memoisation 함수 활용"
      ],
      "execution_count": null,
      "outputs": []
    },
    {
      "cell_type": "markdown",
      "metadata": {
        "id": "k_hbVDLVUZzp"
      },
      "source": [
        "##### 5-2단계 - code review\n",
        "\n",
        "- 본인이 프로그래밍하는 과정에서 발생한 에러, 작성하지 못한 코드, 코드를 실행시켰을 때 발생하는 에러 등 본인의 프로그램에 대한 전반적인 최종분석을 진행한 후 셀프리뷰를 작성한다."
      ]
    },
    {
      "cell_type": "markdown",
      "metadata": {
        "id": "Yg46ibKy_BKY"
      },
      "source": [
        "# 아쉬운 점\n",
        "\n",
        "프로그램을 성공적으로 구현하였음에도, 아래와 같이 아쉬운 부분들이 조금있었다.\n",
        "\n",
        "## 1. 예외 사항\n",
        "\n",
        "### 1) 중복된 케이스에 대한 처리\n",
        "\n",
        "이전 테스트 케이스를 보여주는 부분에서도 확인했듯이, 프로그램은 묶음 1과 2과 뒤 바뀌었을 뿐 실질적으로 차이가 없는 경우를 확인했다. 예를 들어 아래와 같이 테스트 케이스 3의 경우, 두 결과가 실질적으로 차이가 없는 것을 볼 수 있다. 만약, 두 경우가 모두 필요한 상황이라면 문제가 없겠으나, 그런 상황이 필요한지에 대해 잘 상상이 가지 않았다. 이렇게 중복된 경우가 존재할 때, 이를 처리해주는 로직을 하나더 구현한다면, 조금 더 완성도 높은 프로그램을 만들 수 있지 않을까라는 생각을 해 보았다."
      ]
    },
    {
      "cell_type": "code",
      "metadata": {
        "colab": {
          "base_uri": "https://localhost:8080/"
        },
        "id": "OLwgX26D8Csz",
        "outputId": "31617782-455e-4061-e575-b4019a067003"
      },
      "source": [
        "# 테스트 케이스 3\n",
        "# 주어진 배열\n",
        "arr = [19, 20, 15, 44, 100, 1000]\n",
        "\n",
        "# 코드 테스트\n",
        "min_diff(arr) "
      ],
      "execution_count": null,
      "outputs": [
        {
          "output_type": "stream",
          "text": [
            "Combination 1:[19, 20, 15, 44, 100]\n",
            "Combination 2:[1000]\n",
            "Sum of Set 1:198\n",
            "Sum of Set 2:1000\n",
            "Minimum Difference:802\n",
            "--------------------------------------------------\n",
            "Combination 1:[1000]\n",
            "Combination 2:[19, 20, 15, 44, 100]\n",
            "Sum of Set 1:1000\n",
            "Sum of Set 2:198\n",
            "Minimum Difference:802\n",
            "--------------------------------------------------\n"
          ],
          "name": "stdout"
        }
      ]
    },
    {
      "cell_type": "markdown",
      "metadata": {
        "id": "nYV2XvW2797U"
      },
      "source": [
        "### 2) 특정한 상황에서 \"0\"을 무시하는 로직\n",
        "\n",
        "이전 예외 테스트 케이스에서 확인할 수 있었듯이, 프로그램은 여러개의 0이 있을 경우, 이를 특정한 상황에서 무시하는 로직이 있다는 것을 발견했다. 예를 들어 아래와 같이 0이 두개인 배열을 지정했을 때, 반드시 0이 두개가 되지 않는 경우가 있었다. 아래 두 번째 경우를 보면, 한 묶음이 0을 하나가지고 있으나, 다른 묶음은 가지고 있지 않은 것을 볼 수 있다. 아무래도, 0이 여러개 있을 경우, 중요하지 않다고 판단하여 프로그램이 자동으로 특정한 상황에서는 모든 0을 출력하지 않는 것 처럼 보인다. 그러나 이렇게 모든 0을 출력하지 않는 경우에 대한 패턴을 발견하기가 어려웠다. 결과적으로, 이 문제에서 0은 의미있는 숫자라고 판단하기 어렵기 때문에 무시해도 상관은 없지만, 그래도 0을 어떠한 경우에 무시하는지 찾아내어 이를 처리해 줄 수 있다면 조금 더 완성도가 높지 않을까라는 생각을 해보았다."
      ]
    },
    {
      "cell_type": "code",
      "metadata": {
        "id": "j09F8CArQXaD",
        "colab": {
          "base_uri": "https://localhost:8080/"
        },
        "outputId": "00f958e2-864d-4ed3-a300-61fbe68a5393"
      },
      "source": [
        "# 애외 테스트 케이스 1\n",
        "# 주어진 배열\n",
        "arr = [0, 0, 15, 44, 100, 1000]\n",
        "\n",
        "# 코드 테스트\n",
        "min_diff(arr) "
      ],
      "execution_count": null,
      "outputs": [
        {
          "output_type": "stream",
          "text": [
            "Combination 1:[0, 0, 15, 44, 100]\n",
            "Combination 2:[1000]\n",
            "Sum of Set 1:159\n",
            "Sum of Set 2:1000\n",
            "Minimum Difference:841\n",
            "--------------------------------------------------\n",
            "Combination 1:[0, 15, 44, 100]\n",
            "Combination 2:[1000]\n",
            "Sum of Set 1:159\n",
            "Sum of Set 2:1000\n",
            "Minimum Difference:841\n",
            "--------------------------------------------------\n",
            "Combination 1:[15, 44, 100]\n",
            "Combination 2:[0, 0, 1000]\n",
            "Sum of Set 1:159\n",
            "Sum of Set 2:1000\n",
            "Minimum Difference:841\n",
            "--------------------------------------------------\n",
            "Combination 1:[1000]\n",
            "Combination 2:[0, 0, 15, 44, 100]\n",
            "Sum of Set 1:1000\n",
            "Sum of Set 2:159\n",
            "Minimum Difference:841\n",
            "--------------------------------------------------\n"
          ],
          "name": "stdout"
        }
      ]
    },
    {
      "cell_type": "markdown",
      "metadata": {
        "id": "A1c0MgfqE2eP"
      },
      "source": [
        "그 밖에도 내가 개선하면 좋을 점들에 대해 요약해 보았다."
      ]
    },
    {
      "cell_type": "markdown",
      "metadata": {
        "id": "NVOi9pD8Dr4_"
      },
      "source": [
        "## 2. 주석\n",
        "\n",
        "개인적으로 포프TV라는 유투버의 컨텐츠를 많이 보는데, 거기서 들은 인상적인 말이 하나 있다. \"자신이 작성한 모든 코드에 대해 이유를 댈 수 있어야 한다.\"고 말이다. 그래서, 나는 모든 코드에 대해 내가 왜 그렇게 작성을 했는지에 대해 밝혔다. 물론, 불필요한 부분들이 있을 수 있지만, 초심자로써 최대한 내 코드의 모든 줄에 그 이유를 분명하게 밝히는 습관을 들이고 싶었다. 하지만, 점차 어떻게 하면 더 간결하고 명확하게 주석을 달 수 있는지에 대해 계속 연구를 해야겠다는 생각이들었다."
      ]
    },
    {
      "cell_type": "markdown",
      "metadata": {
        "id": "XF0ce92qEhmm"
      },
      "source": [
        "\n",
        "\n",
        "```python\n",
        "# 묶음을 나누고, 모든 경우의 수를 찾아 합을 구하는 프로그램\n",
        "def min_diff(arr): # 함수의 이름은 최대한 목적이 드러나도록 설성\n",
        "  \n",
        "  # 각 연산마다 값을 저장하여 Memoisation에 활용하기 위한 배열을 초기화\n",
        "  result = []\n",
        "  differences = []  \n",
        "  \n",
        "  # 주어진 배열을 두 묶음으로 나눌 수 있는 모든 경우의 수 찾기\n",
        "  for i in range(len(arr)): # 포인터 1\n",
        "    for j in range(i+1, len(arr)+1): # 포인터 2\n",
        "      if j <= len(arr): # 두 번째 포인터가 배열의 크기보다 커지는 것을 방지하기 위함\n",
        "        sample_1 = arr[i:j] # 포인터 1과 포인터 2의 사이의 값들을 한 묶음으로 나누기\n",
        "        sample_2 = [item for item in arr if item not in sample_1] # 첫 번째 묶음에 존재하지 않는 다른 값을 주어진 배열에서 찾아 두 번째 묶음을 만들기\n",
        "      if sample_2 == []: # 두 번째 묶음에 아무것도 없는 경우를 방지하기 위함\n",
        "        continue # 아무것도 없으면 다음 포인터로 넘어가기\n",
        "      else: # 두 번째 묶음에 아이템이 있으면, 각 묶음의 합을 구하기\n",
        "        sum_1 = sum(sample_1)\n",
        "        sum_2 = sum(sample_2)\n",
        "\n",
        "        diff = abs(sum_1 - sum_2) # 각 묶음의 차의 절대값 구하기\n",
        "        result, differences = memo(sample_1, sample_2, diff, result, differences) # Memoisation 함수 활용\n",
        "\n",
        "  # 배열에 존재하는 모든 경우의 수에서, 각각의 묶음의 차가 가장 낮은 모든 경우를 프린트하기\n",
        "  for i in result:\n",
        "    if i[2] == min(differences): # 묶음의 차가 가장 낮은 경우만 프린트하기 위한 조건\n",
        "      print(\"Combination 1:{}\\nCombination 2:{}\\nSum of Set 1:{}\\nSum of Set 2:{}\\nMinimum Difference:{}\".format(i[0], i[1], sum(i[0]), sum(i[1]), i[2]))\n",
        "      print(\"-\"*50) # 보는 사람의 편의를 위해 선으로 분리\n",
        "```\n",
        "\n"
      ]
    },
    {
      "cell_type": "markdown",
      "metadata": {
        "id": "dHtbLCPUFBRU"
      },
      "source": [
        "## 3. 스타일\n",
        "\n",
        "PEP8가이드에 의하면, 모든 코드는 들여쓰기(indentation)을 할때, \"2tab\" 또는 \"4space\"로 해야한다고 한다[2]. 하지만 나는 이것을 확실하게 지켜 코딩하지 못했다. \"Enter\"를 치면 자동적으로 \"1tab(2space)\"로 들여쓰기를 해주는 코랩의 편리함에 중독되어서, PEP8가이드에 따라 제대로 코드를 정리하지 못했다. 앞으로는 가이드를 준수하여 조금 더 정돈되고 읽기 편한 코드를 작성할 수 있도록 노력해야겠다는 생각이들었다. 아래는 내 코드에서 일부를 가져온 것인데, 아래처럼 모든 코드의 들어쓰기가 \"1tab(2space)\"로 되어있다."
      ]
    },
    {
      "cell_type": "code",
      "metadata": {
        "id": "JmbGkdlCFwIY"
      },
      "source": [
        "  # 주어진 배열을 두 묶음으로 나눌 수 있는 모든 경우의 수 찾기\n",
        "  for i in range(len(arr)): # 포인터 1\n",
        "    for j in range(i+1, len(arr)+1): # 포인터 2 (1tab/2space로 들여쓰기 되어있다.)"
      ],
      "execution_count": null,
      "outputs": []
    },
    {
      "cell_type": "markdown",
      "metadata": {
        "id": "Uu3gW1lLGi3x"
      },
      "source": [
        "## 4. Naming\n",
        "\n",
        "구글 코드 리뷰 가이드[3]에 따르면, \"코드의 모든 함수나 변수의 이름은, 길이에 상관없이, 그 기능과 목적이 분명히 드러나도록 작성해야한다\"고 말한다. 하지만, 과연 내가 이 사항을 잘 지켰는지에 대한 아쉬움이 조금든다. 예를 들어 메인 연산이 이루어지는 함수 이름인 \"min_diff\"는 그 목적을 분명히 하기에는 너무 짧다는 생각이 들었다. 차라리, \"find_sum_of_two_samples_return_min_diff\"라는 식으로 본래 함수의 목적인 \"두 묶음에 대한 합을 구하고 그 둘의 최소 차이를 구하는 것\"을 이름에 분명히 해 두는게 길이는 좀 더 길더라도 낮지 않은가라는 생각을한다. \"memo\"라고 명명한 함수도 \"save_results\"라는 이름으로 연산 결과를 저장한다는 목적을 이름에 분명히 드러나도록 하는 것이 어땠을까 생각을 한다. 나는 나 자신의 프로그래밍 편의를 위해 이름을 최대한 짧게 지었지만, 다른 사람과 협업을 해야하는 환경에 있다면, 좀 더 이름이 길더라도 목적이 분명하게 드러나도록 이름을 짓는 습관을 들여야겠다는 생각을했다. "
      ]
    },
    {
      "cell_type": "code",
      "metadata": {
        "id": "vv-kVyi5IGz8"
      },
      "source": [
        "# 모든 경우의 수와 차이값을 저장하는 부분 (Memoisation 활용)\n",
        "def save_results(sample_1, sample_2, diff, result, differences): # 두 묶음과 차이 정보를 저장, min_diff에서 초기화한 배열을 인자로 활용하여, 새로운 배열로 함수를 호출할 때 이전 호출시 연산된 데이터를 리셋시키기 위함\n",
        "  differences.append(diff) # 각 묶음의 차를 저장 (결과 출력을 위한 result와의 비교를 위함)\n",
        "  result.append((sample_1, sample_2, diff)) # 각 묶음의 경우와 차를 저장하기 (결과 출력을 위한 differences와의 비교를 위함) \n",
        "  return result, differences # 저장된 값을 min_diff함수에 리턴\n",
        "\n",
        "# 묶음을 나누고, 모든 경우의 수를 찾아 합을 구하는 프로그램\n",
        "def find_sum_of_two_samples_return_min_diff(arr): # 함수의 이름은 최대한 목적이 드러나도록 설정\n",
        " \n",
        "  # 각 연산마다 값을 저장하여 Memoisation에 활용하기 위한 배열을 초기화\n",
        "  result = []\n",
        "  differences = []  \n",
        " \n",
        "  # 주어진 배열을 두 묶음으로 나눌 수 있는 모든 경우의 수 찾기\n",
        "  for i in range(len(arr)): # 포인터 1\n",
        "    for j in range(i+1, len(arr)+1): # 포인터 2\n",
        "      if j <= len(arr): # 두 번째 포인터가 배열의 크기보다 커지는 것을 방지하기 위함\n",
        "        sample_1 = arr[i:j] # 포인터 1과 포인터 2의 사이의 값들을 한 묶음으로 나누기\n",
        "        sample_2 = [item for item in arr if item not in sample_1] # 첫 번째 묶음에 존재하지 않는 다른 값을 주어진 배열에서 찾아 두 번째 묶음을 만들기\n",
        "      if sample_2 == []: # 두 번째 묶음에 아무것도 없는 경우를 방지하기 위함\n",
        "        continue # 아무것도 없으면 다음 포인터로 넘어가기\n",
        "      else: # 두 번째 묶음에 아이템이 있으면, 각 묶음의 합을 구하기\n",
        "        sum_1 = sum(sample_1)\n",
        "        sum_2 = sum(sample_2)\n",
        " \n",
        "        diff = abs(sum_1 - sum_2) # 각 묶음의 차의 절대값 구하기\n",
        "        result, differences = save_results(sample_1, sample_2, diff, result, differences) # Memoisation 함수 활용"
      ],
      "execution_count": null,
      "outputs": []
    },
    {
      "cell_type": "markdown",
      "metadata": {
        "id": "VFWPfiDyRzjw"
      },
      "source": [
        "\n",
        "\n",
        "---\n",
        "\n"
      ]
    },
    {
      "cell_type": "markdown",
      "metadata": {
        "id": "EfAOF_IeHcHh"
      },
      "source": [
        "# 참조:\n",
        "\n",
        "[1][What's the difference between recursion, memoization & dynamic programming? [duplicate]](https://stackoverflow.com/questions/12133754/whats-the-difference-between-recursion-memoization-dynamic-programming#:~:text=Dynamic%20Programming%20is%20a%20way,solve%20a%20DP%20without%20recursion.)\n",
        "\n",
        "[2][PEP 8 -- Style Guide for Python Code](https://www.python.org/dev/peps/pep-0008/)\n",
        "\n",
        "[3][What to look for in a code review](https://google.github.io/eng-practices/review/reviewer/looking-for.html)"
      ]
    },
    {
      "cell_type": "code",
      "metadata": {
        "id": "EvR1Fi9SFZES"
      },
      "source": [
        ""
      ],
      "execution_count": null,
      "outputs": []
    }
  ]
}