{
  "nbformat": 4,
  "nbformat_minor": 0,
  "metadata": {
    "colab": {
      "name": "BERT를 활용한 영화 리뷰 감정 분석(Sentiment Analysis).ipynb",
      "provenance": [],
      "collapsed_sections": [],
      "authorship_tag": "ABX9TyNRx0Nx52hXPobIAjoPaBAd",
      "include_colab_link": true
    },
    "kernelspec": {
      "name": "python3",
      "display_name": "Python 3"
    },
    "accelerator": "GPU",
    "widgets": {
      "application/vnd.jupyter.widget-state+json": {
        "18e558b453b141e083810144ba90308a": {
          "model_module": "@jupyter-widgets/controls",
          "model_name": "HBoxModel",
          "state": {
            "_view_name": "HBoxView",
            "_dom_classes": [],
            "_model_name": "HBoxModel",
            "_view_module": "@jupyter-widgets/controls",
            "_model_module_version": "1.5.0",
            "_view_count": null,
            "_view_module_version": "1.5.0",
            "box_style": "",
            "layout": "IPY_MODEL_e62623e9db2c4d8f8c3d47af59bb8eb8",
            "_model_module": "@jupyter-widgets/controls",
            "children": [
              "IPY_MODEL_d217be75d7e34e698df619474f62f438",
              "IPY_MODEL_b658d6e43ee74b1e87a4d150eca5908a"
            ]
          }
        },
        "e62623e9db2c4d8f8c3d47af59bb8eb8": {
          "model_module": "@jupyter-widgets/base",
          "model_name": "LayoutModel",
          "state": {
            "_view_name": "LayoutView",
            "grid_template_rows": null,
            "right": null,
            "justify_content": null,
            "_view_module": "@jupyter-widgets/base",
            "overflow": null,
            "_model_module_version": "1.2.0",
            "_view_count": null,
            "flex_flow": null,
            "width": null,
            "min_width": null,
            "border": null,
            "align_items": null,
            "bottom": null,
            "_model_module": "@jupyter-widgets/base",
            "top": null,
            "grid_column": null,
            "overflow_y": null,
            "overflow_x": null,
            "grid_auto_flow": null,
            "grid_area": null,
            "grid_template_columns": null,
            "flex": null,
            "_model_name": "LayoutModel",
            "justify_items": null,
            "grid_row": null,
            "max_height": null,
            "align_content": null,
            "visibility": null,
            "align_self": null,
            "height": null,
            "min_height": null,
            "padding": null,
            "grid_auto_rows": null,
            "grid_gap": null,
            "max_width": null,
            "order": null,
            "_view_module_version": "1.2.0",
            "grid_template_areas": null,
            "object_position": null,
            "object_fit": null,
            "grid_auto_columns": null,
            "margin": null,
            "display": null,
            "left": null
          }
        },
        "d217be75d7e34e698df619474f62f438": {
          "model_module": "@jupyter-widgets/controls",
          "model_name": "FloatProgressModel",
          "state": {
            "_view_name": "ProgressView",
            "style": "IPY_MODEL_f73fe17bbec14c61a0971a1b19802cf6",
            "_dom_classes": [],
            "description": "Downloading: 100%",
            "_model_name": "FloatProgressModel",
            "bar_style": "success",
            "max": 995526,
            "_view_module": "@jupyter-widgets/controls",
            "_model_module_version": "1.5.0",
            "value": 995526,
            "_view_count": null,
            "_view_module_version": "1.5.0",
            "orientation": "horizontal",
            "min": 0,
            "description_tooltip": null,
            "_model_module": "@jupyter-widgets/controls",
            "layout": "IPY_MODEL_48f11cad166443a08643bd01b35bfea3"
          }
        },
        "b658d6e43ee74b1e87a4d150eca5908a": {
          "model_module": "@jupyter-widgets/controls",
          "model_name": "HTMLModel",
          "state": {
            "_view_name": "HTMLView",
            "style": "IPY_MODEL_303684817dfe4431ac08e805d283b816",
            "_dom_classes": [],
            "description": "",
            "_model_name": "HTMLModel",
            "placeholder": "​",
            "_view_module": "@jupyter-widgets/controls",
            "_model_module_version": "1.5.0",
            "value": " 996k/996k [00:00&lt;00:00, 2.07MB/s]",
            "_view_count": null,
            "_view_module_version": "1.5.0",
            "description_tooltip": null,
            "_model_module": "@jupyter-widgets/controls",
            "layout": "IPY_MODEL_52bf8a37d68148fb895611228d9f1592"
          }
        },
        "f73fe17bbec14c61a0971a1b19802cf6": {
          "model_module": "@jupyter-widgets/controls",
          "model_name": "ProgressStyleModel",
          "state": {
            "_view_name": "StyleView",
            "_model_name": "ProgressStyleModel",
            "description_width": "initial",
            "_view_module": "@jupyter-widgets/base",
            "_model_module_version": "1.5.0",
            "_view_count": null,
            "_view_module_version": "1.2.0",
            "bar_color": null,
            "_model_module": "@jupyter-widgets/controls"
          }
        },
        "48f11cad166443a08643bd01b35bfea3": {
          "model_module": "@jupyter-widgets/base",
          "model_name": "LayoutModel",
          "state": {
            "_view_name": "LayoutView",
            "grid_template_rows": null,
            "right": null,
            "justify_content": null,
            "_view_module": "@jupyter-widgets/base",
            "overflow": null,
            "_model_module_version": "1.2.0",
            "_view_count": null,
            "flex_flow": null,
            "width": null,
            "min_width": null,
            "border": null,
            "align_items": null,
            "bottom": null,
            "_model_module": "@jupyter-widgets/base",
            "top": null,
            "grid_column": null,
            "overflow_y": null,
            "overflow_x": null,
            "grid_auto_flow": null,
            "grid_area": null,
            "grid_template_columns": null,
            "flex": null,
            "_model_name": "LayoutModel",
            "justify_items": null,
            "grid_row": null,
            "max_height": null,
            "align_content": null,
            "visibility": null,
            "align_self": null,
            "height": null,
            "min_height": null,
            "padding": null,
            "grid_auto_rows": null,
            "grid_gap": null,
            "max_width": null,
            "order": null,
            "_view_module_version": "1.2.0",
            "grid_template_areas": null,
            "object_position": null,
            "object_fit": null,
            "grid_auto_columns": null,
            "margin": null,
            "display": null,
            "left": null
          }
        },
        "303684817dfe4431ac08e805d283b816": {
          "model_module": "@jupyter-widgets/controls",
          "model_name": "DescriptionStyleModel",
          "state": {
            "_view_name": "StyleView",
            "_model_name": "DescriptionStyleModel",
            "description_width": "",
            "_view_module": "@jupyter-widgets/base",
            "_model_module_version": "1.5.0",
            "_view_count": null,
            "_view_module_version": "1.2.0",
            "_model_module": "@jupyter-widgets/controls"
          }
        },
        "52bf8a37d68148fb895611228d9f1592": {
          "model_module": "@jupyter-widgets/base",
          "model_name": "LayoutModel",
          "state": {
            "_view_name": "LayoutView",
            "grid_template_rows": null,
            "right": null,
            "justify_content": null,
            "_view_module": "@jupyter-widgets/base",
            "overflow": null,
            "_model_module_version": "1.2.0",
            "_view_count": null,
            "flex_flow": null,
            "width": null,
            "min_width": null,
            "border": null,
            "align_items": null,
            "bottom": null,
            "_model_module": "@jupyter-widgets/base",
            "top": null,
            "grid_column": null,
            "overflow_y": null,
            "overflow_x": null,
            "grid_auto_flow": null,
            "grid_area": null,
            "grid_template_columns": null,
            "flex": null,
            "_model_name": "LayoutModel",
            "justify_items": null,
            "grid_row": null,
            "max_height": null,
            "align_content": null,
            "visibility": null,
            "align_self": null,
            "height": null,
            "min_height": null,
            "padding": null,
            "grid_auto_rows": null,
            "grid_gap": null,
            "max_width": null,
            "order": null,
            "_view_module_version": "1.2.0",
            "grid_template_areas": null,
            "object_position": null,
            "object_fit": null,
            "grid_auto_columns": null,
            "margin": null,
            "display": null,
            "left": null
          }
        },
        "65b212d269784aa4a80fd469beea9bd8": {
          "model_module": "@jupyter-widgets/controls",
          "model_name": "HBoxModel",
          "state": {
            "_view_name": "HBoxView",
            "_dom_classes": [],
            "_model_name": "HBoxModel",
            "_view_module": "@jupyter-widgets/controls",
            "_model_module_version": "1.5.0",
            "_view_count": null,
            "_view_module_version": "1.5.0",
            "box_style": "",
            "layout": "IPY_MODEL_1de09b7e2bdd453aa185e67b860528f4",
            "_model_module": "@jupyter-widgets/controls",
            "children": [
              "IPY_MODEL_67be53784be24fe5b70e40bbdb536c08",
              "IPY_MODEL_7b3891a653e74df1be47f81de8d06a65"
            ]
          }
        },
        "1de09b7e2bdd453aa185e67b860528f4": {
          "model_module": "@jupyter-widgets/base",
          "model_name": "LayoutModel",
          "state": {
            "_view_name": "LayoutView",
            "grid_template_rows": null,
            "right": null,
            "justify_content": null,
            "_view_module": "@jupyter-widgets/base",
            "overflow": null,
            "_model_module_version": "1.2.0",
            "_view_count": null,
            "flex_flow": null,
            "width": null,
            "min_width": null,
            "border": null,
            "align_items": null,
            "bottom": null,
            "_model_module": "@jupyter-widgets/base",
            "top": null,
            "grid_column": null,
            "overflow_y": null,
            "overflow_x": null,
            "grid_auto_flow": null,
            "grid_area": null,
            "grid_template_columns": null,
            "flex": null,
            "_model_name": "LayoutModel",
            "justify_items": null,
            "grid_row": null,
            "max_height": null,
            "align_content": null,
            "visibility": null,
            "align_self": null,
            "height": null,
            "min_height": null,
            "padding": null,
            "grid_auto_rows": null,
            "grid_gap": null,
            "max_width": null,
            "order": null,
            "_view_module_version": "1.2.0",
            "grid_template_areas": null,
            "object_position": null,
            "object_fit": null,
            "grid_auto_columns": null,
            "margin": null,
            "display": null,
            "left": null
          }
        },
        "67be53784be24fe5b70e40bbdb536c08": {
          "model_module": "@jupyter-widgets/controls",
          "model_name": "FloatProgressModel",
          "state": {
            "_view_name": "ProgressView",
            "style": "IPY_MODEL_05c9705ef21c462bad1297db8d131533",
            "_dom_classes": [],
            "description": "Downloading: 100%",
            "_model_name": "FloatProgressModel",
            "bar_style": "success",
            "max": 625,
            "_view_module": "@jupyter-widgets/controls",
            "_model_module_version": "1.5.0",
            "value": 625,
            "_view_count": null,
            "_view_module_version": "1.5.0",
            "orientation": "horizontal",
            "min": 0,
            "description_tooltip": null,
            "_model_module": "@jupyter-widgets/controls",
            "layout": "IPY_MODEL_93c92f0998ad47e393586c8d4ccab981"
          }
        },
        "7b3891a653e74df1be47f81de8d06a65": {
          "model_module": "@jupyter-widgets/controls",
          "model_name": "HTMLModel",
          "state": {
            "_view_name": "HTMLView",
            "style": "IPY_MODEL_ef4ee8eda13b4f4b957318c883073fa7",
            "_dom_classes": [],
            "description": "",
            "_model_name": "HTMLModel",
            "placeholder": "​",
            "_view_module": "@jupyter-widgets/controls",
            "_model_module_version": "1.5.0",
            "value": " 625/625 [00:56&lt;00:00, 11.0B/s]",
            "_view_count": null,
            "_view_module_version": "1.5.0",
            "description_tooltip": null,
            "_model_module": "@jupyter-widgets/controls",
            "layout": "IPY_MODEL_8c68764db3894f8397964f6cb0e52d57"
          }
        },
        "05c9705ef21c462bad1297db8d131533": {
          "model_module": "@jupyter-widgets/controls",
          "model_name": "ProgressStyleModel",
          "state": {
            "_view_name": "StyleView",
            "_model_name": "ProgressStyleModel",
            "description_width": "initial",
            "_view_module": "@jupyter-widgets/base",
            "_model_module_version": "1.5.0",
            "_view_count": null,
            "_view_module_version": "1.2.0",
            "bar_color": null,
            "_model_module": "@jupyter-widgets/controls"
          }
        },
        "93c92f0998ad47e393586c8d4ccab981": {
          "model_module": "@jupyter-widgets/base",
          "model_name": "LayoutModel",
          "state": {
            "_view_name": "LayoutView",
            "grid_template_rows": null,
            "right": null,
            "justify_content": null,
            "_view_module": "@jupyter-widgets/base",
            "overflow": null,
            "_model_module_version": "1.2.0",
            "_view_count": null,
            "flex_flow": null,
            "width": null,
            "min_width": null,
            "border": null,
            "align_items": null,
            "bottom": null,
            "_model_module": "@jupyter-widgets/base",
            "top": null,
            "grid_column": null,
            "overflow_y": null,
            "overflow_x": null,
            "grid_auto_flow": null,
            "grid_area": null,
            "grid_template_columns": null,
            "flex": null,
            "_model_name": "LayoutModel",
            "justify_items": null,
            "grid_row": null,
            "max_height": null,
            "align_content": null,
            "visibility": null,
            "align_self": null,
            "height": null,
            "min_height": null,
            "padding": null,
            "grid_auto_rows": null,
            "grid_gap": null,
            "max_width": null,
            "order": null,
            "_view_module_version": "1.2.0",
            "grid_template_areas": null,
            "object_position": null,
            "object_fit": null,
            "grid_auto_columns": null,
            "margin": null,
            "display": null,
            "left": null
          }
        },
        "ef4ee8eda13b4f4b957318c883073fa7": {
          "model_module": "@jupyter-widgets/controls",
          "model_name": "DescriptionStyleModel",
          "state": {
            "_view_name": "StyleView",
            "_model_name": "DescriptionStyleModel",
            "description_width": "",
            "_view_module": "@jupyter-widgets/base",
            "_model_module_version": "1.5.0",
            "_view_count": null,
            "_view_module_version": "1.2.0",
            "_model_module": "@jupyter-widgets/controls"
          }
        },
        "8c68764db3894f8397964f6cb0e52d57": {
          "model_module": "@jupyter-widgets/base",
          "model_name": "LayoutModel",
          "state": {
            "_view_name": "LayoutView",
            "grid_template_rows": null,
            "right": null,
            "justify_content": null,
            "_view_module": "@jupyter-widgets/base",
            "overflow": null,
            "_model_module_version": "1.2.0",
            "_view_count": null,
            "flex_flow": null,
            "width": null,
            "min_width": null,
            "border": null,
            "align_items": null,
            "bottom": null,
            "_model_module": "@jupyter-widgets/base",
            "top": null,
            "grid_column": null,
            "overflow_y": null,
            "overflow_x": null,
            "grid_auto_flow": null,
            "grid_area": null,
            "grid_template_columns": null,
            "flex": null,
            "_model_name": "LayoutModel",
            "justify_items": null,
            "grid_row": null,
            "max_height": null,
            "align_content": null,
            "visibility": null,
            "align_self": null,
            "height": null,
            "min_height": null,
            "padding": null,
            "grid_auto_rows": null,
            "grid_gap": null,
            "max_width": null,
            "order": null,
            "_view_module_version": "1.2.0",
            "grid_template_areas": null,
            "object_position": null,
            "object_fit": null,
            "grid_auto_columns": null,
            "margin": null,
            "display": null,
            "left": null
          }
        },
        "8561df689d224fec9f2cdf6414662a5c": {
          "model_module": "@jupyter-widgets/controls",
          "model_name": "HBoxModel",
          "state": {
            "_view_name": "HBoxView",
            "_dom_classes": [],
            "_model_name": "HBoxModel",
            "_view_module": "@jupyter-widgets/controls",
            "_model_module_version": "1.5.0",
            "_view_count": null,
            "_view_module_version": "1.5.0",
            "box_style": "",
            "layout": "IPY_MODEL_9b2c683cdf4348598a7403b1a39fac15",
            "_model_module": "@jupyter-widgets/controls",
            "children": [
              "IPY_MODEL_0cacab7a365b42f8a8d54daf673774b1",
              "IPY_MODEL_98b3334ac07245c694b63fde5dfd982d"
            ]
          }
        },
        "9b2c683cdf4348598a7403b1a39fac15": {
          "model_module": "@jupyter-widgets/base",
          "model_name": "LayoutModel",
          "state": {
            "_view_name": "LayoutView",
            "grid_template_rows": null,
            "right": null,
            "justify_content": null,
            "_view_module": "@jupyter-widgets/base",
            "overflow": null,
            "_model_module_version": "1.2.0",
            "_view_count": null,
            "flex_flow": null,
            "width": null,
            "min_width": null,
            "border": null,
            "align_items": null,
            "bottom": null,
            "_model_module": "@jupyter-widgets/base",
            "top": null,
            "grid_column": null,
            "overflow_y": null,
            "overflow_x": null,
            "grid_auto_flow": null,
            "grid_area": null,
            "grid_template_columns": null,
            "flex": null,
            "_model_name": "LayoutModel",
            "justify_items": null,
            "grid_row": null,
            "max_height": null,
            "align_content": null,
            "visibility": null,
            "align_self": null,
            "height": null,
            "min_height": null,
            "padding": null,
            "grid_auto_rows": null,
            "grid_gap": null,
            "max_width": null,
            "order": null,
            "_view_module_version": "1.2.0",
            "grid_template_areas": null,
            "object_position": null,
            "object_fit": null,
            "grid_auto_columns": null,
            "margin": null,
            "display": null,
            "left": null
          }
        },
        "0cacab7a365b42f8a8d54daf673774b1": {
          "model_module": "@jupyter-widgets/controls",
          "model_name": "FloatProgressModel",
          "state": {
            "_view_name": "ProgressView",
            "style": "IPY_MODEL_89b9f789cb234d2baf88453b63dd3c32",
            "_dom_classes": [],
            "description": "Downloading: 100%",
            "_model_name": "FloatProgressModel",
            "bar_style": "success",
            "max": 714314041,
            "_view_module": "@jupyter-widgets/controls",
            "_model_module_version": "1.5.0",
            "value": 714314041,
            "_view_count": null,
            "_view_module_version": "1.5.0",
            "orientation": "horizontal",
            "min": 0,
            "description_tooltip": null,
            "_model_module": "@jupyter-widgets/controls",
            "layout": "IPY_MODEL_3532f526b33740dca063f5d7919ba136"
          }
        },
        "98b3334ac07245c694b63fde5dfd982d": {
          "model_module": "@jupyter-widgets/controls",
          "model_name": "HTMLModel",
          "state": {
            "_view_name": "HTMLView",
            "style": "IPY_MODEL_f0a70caccf944ee79fe4f928eaf2d088",
            "_dom_classes": [],
            "description": "",
            "_model_name": "HTMLModel",
            "placeholder": "​",
            "_view_module": "@jupyter-widgets/controls",
            "_model_module_version": "1.5.0",
            "value": " 714M/714M [00:55&lt;00:00, 12.8MB/s]",
            "_view_count": null,
            "_view_module_version": "1.5.0",
            "description_tooltip": null,
            "_model_module": "@jupyter-widgets/controls",
            "layout": "IPY_MODEL_9a17c303d09d4629b8593849589db61d"
          }
        },
        "89b9f789cb234d2baf88453b63dd3c32": {
          "model_module": "@jupyter-widgets/controls",
          "model_name": "ProgressStyleModel",
          "state": {
            "_view_name": "StyleView",
            "_model_name": "ProgressStyleModel",
            "description_width": "initial",
            "_view_module": "@jupyter-widgets/base",
            "_model_module_version": "1.5.0",
            "_view_count": null,
            "_view_module_version": "1.2.0",
            "bar_color": null,
            "_model_module": "@jupyter-widgets/controls"
          }
        },
        "3532f526b33740dca063f5d7919ba136": {
          "model_module": "@jupyter-widgets/base",
          "model_name": "LayoutModel",
          "state": {
            "_view_name": "LayoutView",
            "grid_template_rows": null,
            "right": null,
            "justify_content": null,
            "_view_module": "@jupyter-widgets/base",
            "overflow": null,
            "_model_module_version": "1.2.0",
            "_view_count": null,
            "flex_flow": null,
            "width": null,
            "min_width": null,
            "border": null,
            "align_items": null,
            "bottom": null,
            "_model_module": "@jupyter-widgets/base",
            "top": null,
            "grid_column": null,
            "overflow_y": null,
            "overflow_x": null,
            "grid_auto_flow": null,
            "grid_area": null,
            "grid_template_columns": null,
            "flex": null,
            "_model_name": "LayoutModel",
            "justify_items": null,
            "grid_row": null,
            "max_height": null,
            "align_content": null,
            "visibility": null,
            "align_self": null,
            "height": null,
            "min_height": null,
            "padding": null,
            "grid_auto_rows": null,
            "grid_gap": null,
            "max_width": null,
            "order": null,
            "_view_module_version": "1.2.0",
            "grid_template_areas": null,
            "object_position": null,
            "object_fit": null,
            "grid_auto_columns": null,
            "margin": null,
            "display": null,
            "left": null
          }
        },
        "f0a70caccf944ee79fe4f928eaf2d088": {
          "model_module": "@jupyter-widgets/controls",
          "model_name": "DescriptionStyleModel",
          "state": {
            "_view_name": "StyleView",
            "_model_name": "DescriptionStyleModel",
            "description_width": "",
            "_view_module": "@jupyter-widgets/base",
            "_model_module_version": "1.5.0",
            "_view_count": null,
            "_view_module_version": "1.2.0",
            "_model_module": "@jupyter-widgets/controls"
          }
        },
        "9a17c303d09d4629b8593849589db61d": {
          "model_module": "@jupyter-widgets/base",
          "model_name": "LayoutModel",
          "state": {
            "_view_name": "LayoutView",
            "grid_template_rows": null,
            "right": null,
            "justify_content": null,
            "_view_module": "@jupyter-widgets/base",
            "overflow": null,
            "_model_module_version": "1.2.0",
            "_view_count": null,
            "flex_flow": null,
            "width": null,
            "min_width": null,
            "border": null,
            "align_items": null,
            "bottom": null,
            "_model_module": "@jupyter-widgets/base",
            "top": null,
            "grid_column": null,
            "overflow_y": null,
            "overflow_x": null,
            "grid_auto_flow": null,
            "grid_area": null,
            "grid_template_columns": null,
            "flex": null,
            "_model_name": "LayoutModel",
            "justify_items": null,
            "grid_row": null,
            "max_height": null,
            "align_content": null,
            "visibility": null,
            "align_self": null,
            "height": null,
            "min_height": null,
            "padding": null,
            "grid_auto_rows": null,
            "grid_gap": null,
            "max_width": null,
            "order": null,
            "_view_module_version": "1.2.0",
            "grid_template_areas": null,
            "object_position": null,
            "object_fit": null,
            "grid_auto_columns": null,
            "margin": null,
            "display": null,
            "left": null
          }
        },
        "8237c17bbd904d5da445ac15853ac4b3": {
          "model_module": "@jupyter-widgets/controls",
          "model_name": "HBoxModel",
          "state": {
            "_view_name": "HBoxView",
            "_dom_classes": [],
            "_model_name": "HBoxModel",
            "_view_module": "@jupyter-widgets/controls",
            "_model_module_version": "1.5.0",
            "_view_count": null,
            "_view_module_version": "1.5.0",
            "box_style": "",
            "layout": "IPY_MODEL_b557dc8d205149209b026186da06638a",
            "_model_module": "@jupyter-widgets/controls",
            "children": [
              "IPY_MODEL_7c12d843863b455f9ae8621c5580ea3e",
              "IPY_MODEL_c4449a11f3734b63821ed110b33e4ad8"
            ]
          }
        },
        "b557dc8d205149209b026186da06638a": {
          "model_module": "@jupyter-widgets/base",
          "model_name": "LayoutModel",
          "state": {
            "_view_name": "LayoutView",
            "grid_template_rows": null,
            "right": null,
            "justify_content": null,
            "_view_module": "@jupyter-widgets/base",
            "overflow": null,
            "_model_module_version": "1.2.0",
            "_view_count": null,
            "flex_flow": null,
            "width": null,
            "min_width": null,
            "border": null,
            "align_items": null,
            "bottom": null,
            "_model_module": "@jupyter-widgets/base",
            "top": null,
            "grid_column": null,
            "overflow_y": null,
            "overflow_x": null,
            "grid_auto_flow": null,
            "grid_area": null,
            "grid_template_columns": null,
            "flex": null,
            "_model_name": "LayoutModel",
            "justify_items": null,
            "grid_row": null,
            "max_height": null,
            "align_content": null,
            "visibility": null,
            "align_self": null,
            "height": null,
            "min_height": null,
            "padding": null,
            "grid_auto_rows": null,
            "grid_gap": null,
            "max_width": null,
            "order": null,
            "_view_module_version": "1.2.0",
            "grid_template_areas": null,
            "object_position": null,
            "object_fit": null,
            "grid_auto_columns": null,
            "margin": null,
            "display": null,
            "left": null
          }
        },
        "7c12d843863b455f9ae8621c5580ea3e": {
          "model_module": "@jupyter-widgets/controls",
          "model_name": "FloatProgressModel",
          "state": {
            "_view_name": "ProgressView",
            "style": "IPY_MODEL_e37064e3b16549e9974b56df8e842eb9",
            "_dom_classes": [],
            "description": "Downloading: 100%",
            "_model_name": "FloatProgressModel",
            "bar_style": "success",
            "max": 1961828,
            "_view_module": "@jupyter-widgets/controls",
            "_model_module_version": "1.5.0",
            "value": 1961828,
            "_view_count": null,
            "_view_module_version": "1.5.0",
            "orientation": "horizontal",
            "min": 0,
            "description_tooltip": null,
            "_model_module": "@jupyter-widgets/controls",
            "layout": "IPY_MODEL_452dfcab9324409dbe161b30617fa490"
          }
        },
        "c4449a11f3734b63821ed110b33e4ad8": {
          "model_module": "@jupyter-widgets/controls",
          "model_name": "HTMLModel",
          "state": {
            "_view_name": "HTMLView",
            "style": "IPY_MODEL_3b1618c3b9c247aea50e03cbcab84e04",
            "_dom_classes": [],
            "description": "",
            "_model_name": "HTMLModel",
            "placeholder": "​",
            "_view_module": "@jupyter-widgets/controls",
            "_model_module_version": "1.5.0",
            "value": " 1.96M/1.96M [00:00&lt;00:00, 3.74MB/s]",
            "_view_count": null,
            "_view_module_version": "1.5.0",
            "description_tooltip": null,
            "_model_module": "@jupyter-widgets/controls",
            "layout": "IPY_MODEL_55e1695c6f5c4a518e782f967f190224"
          }
        },
        "e37064e3b16549e9974b56df8e842eb9": {
          "model_module": "@jupyter-widgets/controls",
          "model_name": "ProgressStyleModel",
          "state": {
            "_view_name": "StyleView",
            "_model_name": "ProgressStyleModel",
            "description_width": "initial",
            "_view_module": "@jupyter-widgets/base",
            "_model_module_version": "1.5.0",
            "_view_count": null,
            "_view_module_version": "1.2.0",
            "bar_color": null,
            "_model_module": "@jupyter-widgets/controls"
          }
        },
        "452dfcab9324409dbe161b30617fa490": {
          "model_module": "@jupyter-widgets/base",
          "model_name": "LayoutModel",
          "state": {
            "_view_name": "LayoutView",
            "grid_template_rows": null,
            "right": null,
            "justify_content": null,
            "_view_module": "@jupyter-widgets/base",
            "overflow": null,
            "_model_module_version": "1.2.0",
            "_view_count": null,
            "flex_flow": null,
            "width": null,
            "min_width": null,
            "border": null,
            "align_items": null,
            "bottom": null,
            "_model_module": "@jupyter-widgets/base",
            "top": null,
            "grid_column": null,
            "overflow_y": null,
            "overflow_x": null,
            "grid_auto_flow": null,
            "grid_area": null,
            "grid_template_columns": null,
            "flex": null,
            "_model_name": "LayoutModel",
            "justify_items": null,
            "grid_row": null,
            "max_height": null,
            "align_content": null,
            "visibility": null,
            "align_self": null,
            "height": null,
            "min_height": null,
            "padding": null,
            "grid_auto_rows": null,
            "grid_gap": null,
            "max_width": null,
            "order": null,
            "_view_module_version": "1.2.0",
            "grid_template_areas": null,
            "object_position": null,
            "object_fit": null,
            "grid_auto_columns": null,
            "margin": null,
            "display": null,
            "left": null
          }
        },
        "3b1618c3b9c247aea50e03cbcab84e04": {
          "model_module": "@jupyter-widgets/controls",
          "model_name": "DescriptionStyleModel",
          "state": {
            "_view_name": "StyleView",
            "_model_name": "DescriptionStyleModel",
            "description_width": "",
            "_view_module": "@jupyter-widgets/base",
            "_model_module_version": "1.5.0",
            "_view_count": null,
            "_view_module_version": "1.2.0",
            "_model_module": "@jupyter-widgets/controls"
          }
        },
        "55e1695c6f5c4a518e782f967f190224": {
          "model_module": "@jupyter-widgets/base",
          "model_name": "LayoutModel",
          "state": {
            "_view_name": "LayoutView",
            "grid_template_rows": null,
            "right": null,
            "justify_content": null,
            "_view_module": "@jupyter-widgets/base",
            "overflow": null,
            "_model_module_version": "1.2.0",
            "_view_count": null,
            "flex_flow": null,
            "width": null,
            "min_width": null,
            "border": null,
            "align_items": null,
            "bottom": null,
            "_model_module": "@jupyter-widgets/base",
            "top": null,
            "grid_column": null,
            "overflow_y": null,
            "overflow_x": null,
            "grid_auto_flow": null,
            "grid_area": null,
            "grid_template_columns": null,
            "flex": null,
            "_model_name": "LayoutModel",
            "justify_items": null,
            "grid_row": null,
            "max_height": null,
            "align_content": null,
            "visibility": null,
            "align_self": null,
            "height": null,
            "min_height": null,
            "padding": null,
            "grid_auto_rows": null,
            "grid_gap": null,
            "max_width": null,
            "order": null,
            "_view_module_version": "1.2.0",
            "grid_template_areas": null,
            "object_position": null,
            "object_fit": null,
            "grid_auto_columns": null,
            "margin": null,
            "display": null,
            "left": null
          }
        }
      }
    }
  },
  "cells": [
    {
      "cell_type": "markdown",
      "metadata": {
        "id": "view-in-github",
        "colab_type": "text"
      },
      "source": [
        "<a href=\"https://colab.research.google.com/github/seungtaemoon/Portfolio/blob/master/Sentiment%20Analysis%20with%20BERT/BERT%EB%A5%BC_%ED%99%9C%EC%9A%A9%ED%95%9C_%EC%98%81%ED%99%94_%EB%A6%AC%EB%B7%B0_%EA%B0%90%EC%A0%95_%EB%B6%84%EC%84%9D(Sentiment_Analysis).ipynb\" target=\"_parent\"><img src=\"https://colab.research.google.com/assets/colab-badge.svg\" alt=\"Open In Colab\"/></a>"
      ]
    },
    {
      "cell_type": "markdown",
      "metadata": {
        "id": "iPfCSUJahsNp"
      },
      "source": [
        "# BERT를 활용한 영화 리뷰 감정 분석(Sentiment Analysis)"
      ]
    },
    {
      "cell_type": "code",
      "metadata": {
        "colab": {
          "base_uri": "https://localhost:8080/"
        },
        "id": "SoKyXMf8sGRP",
        "outputId": "3f53144a-d304-4853-cb66-41aad992807c"
      },
      "source": [
        "# 파이썬 버전 확인\n",
        "!python --version"
      ],
      "execution_count": null,
      "outputs": [
        {
          "output_type": "stream",
          "text": [
            "Python 3.6.9\n"
          ],
          "name": "stdout"
        }
      ]
    },
    {
      "cell_type": "markdown",
      "metadata": {
        "id": "LCKM7HPWnrCg"
      },
      "source": [
        "# 0. 필요한 패키지 설치 \n",
        "\n",
        "## Google Colab일 때만 실행\n",
        "\n"
      ]
    },
    {
      "cell_type": "code",
      "metadata": {
        "colab": {
          "base_uri": "https://localhost:8080/"
        },
        "id": "QvZ3z_0PwS-5",
        "outputId": "37caa9b0-0f63-479f-a3be-912adc0fe61c"
      },
      "source": [
        "!pip install wordcloud\n",
        "!pip install transformers"
      ],
      "execution_count": 1,
      "outputs": [
        {
          "output_type": "stream",
          "text": [
            "Requirement already satisfied: wordcloud in /usr/local/lib/python3.6/dist-packages (1.5.0)\n",
            "Requirement already satisfied: pillow in /usr/local/lib/python3.6/dist-packages (from wordcloud) (7.0.0)\n",
            "Requirement already satisfied: numpy>=1.6.1 in /usr/local/lib/python3.6/dist-packages (from wordcloud) (1.19.5)\n",
            "Collecting transformers\n",
            "\u001b[?25l  Downloading https://files.pythonhosted.org/packages/50/0c/7d5950fcd80b029be0a8891727ba21e0cd27692c407c51261c3c921f6da3/transformers-4.1.1-py3-none-any.whl (1.5MB)\n",
            "\u001b[K     |████████████████████████████████| 1.5MB 23.2MB/s \n",
            "\u001b[?25hRequirement already satisfied: regex!=2019.12.17 in /usr/local/lib/python3.6/dist-packages (from transformers) (2019.12.20)\n",
            "Collecting tokenizers==0.9.4\n",
            "\u001b[?25l  Downloading https://files.pythonhosted.org/packages/0f/1c/e789a8b12e28be5bc1ce2156cf87cb522b379be9cadc7ad8091a4cc107c4/tokenizers-0.9.4-cp36-cp36m-manylinux2010_x86_64.whl (2.9MB)\n",
            "\u001b[K     |████████████████████████████████| 2.9MB 45.0MB/s \n",
            "\u001b[?25hRequirement already satisfied: tqdm>=4.27 in /usr/local/lib/python3.6/dist-packages (from transformers) (4.41.1)\n",
            "Requirement already satisfied: dataclasses; python_version < \"3.7\" in /usr/local/lib/python3.6/dist-packages (from transformers) (0.8)\n",
            "Requirement already satisfied: filelock in /usr/local/lib/python3.6/dist-packages (from transformers) (3.0.12)\n",
            "Requirement already satisfied: requests in /usr/local/lib/python3.6/dist-packages (from transformers) (2.23.0)\n",
            "Collecting sacremoses\n",
            "\u001b[?25l  Downloading https://files.pythonhosted.org/packages/7d/34/09d19aff26edcc8eb2a01bed8e98f13a1537005d31e95233fd48216eed10/sacremoses-0.0.43.tar.gz (883kB)\n",
            "\u001b[K     |████████████████████████████████| 890kB 51.1MB/s \n",
            "\u001b[?25hRequirement already satisfied: packaging in /usr/local/lib/python3.6/dist-packages (from transformers) (20.8)\n",
            "Requirement already satisfied: numpy in /usr/local/lib/python3.6/dist-packages (from transformers) (1.19.5)\n",
            "Requirement already satisfied: certifi>=2017.4.17 in /usr/local/lib/python3.6/dist-packages (from requests->transformers) (2020.12.5)\n",
            "Requirement already satisfied: idna<3,>=2.5 in /usr/local/lib/python3.6/dist-packages (from requests->transformers) (2.10)\n",
            "Requirement already satisfied: chardet<4,>=3.0.2 in /usr/local/lib/python3.6/dist-packages (from requests->transformers) (3.0.4)\n",
            "Requirement already satisfied: urllib3!=1.25.0,!=1.25.1,<1.26,>=1.21.1 in /usr/local/lib/python3.6/dist-packages (from requests->transformers) (1.24.3)\n",
            "Requirement already satisfied: six in /usr/local/lib/python3.6/dist-packages (from sacremoses->transformers) (1.15.0)\n",
            "Requirement already satisfied: click in /usr/local/lib/python3.6/dist-packages (from sacremoses->transformers) (7.1.2)\n",
            "Requirement already satisfied: joblib in /usr/local/lib/python3.6/dist-packages (from sacremoses->transformers) (1.0.0)\n",
            "Requirement already satisfied: pyparsing>=2.0.2 in /usr/local/lib/python3.6/dist-packages (from packaging->transformers) (2.4.7)\n",
            "Building wheels for collected packages: sacremoses\n",
            "  Building wheel for sacremoses (setup.py) ... \u001b[?25l\u001b[?25hdone\n",
            "  Created wheel for sacremoses: filename=sacremoses-0.0.43-cp36-none-any.whl size=893261 sha256=255a83ab9917561b2c6ff791a30d8249ad60f591849b2ccaec323a1877b9fdc8\n",
            "  Stored in directory: /root/.cache/pip/wheels/29/3c/fd/7ce5c3f0666dab31a50123635e6fb5e19ceb42ce38d4e58f45\n",
            "Successfully built sacremoses\n",
            "Installing collected packages: tokenizers, sacremoses, transformers\n",
            "Successfully installed sacremoses-0.0.43 tokenizers-0.9.4 transformers-4.1.1\n"
          ],
          "name": "stdout"
        }
      ]
    },
    {
      "cell_type": "markdown",
      "metadata": {
        "id": "wHnob3NHoV-v"
      },
      "source": [
        "## Jupyter Notebook일 때만 실행"
      ]
    },
    {
      "cell_type": "code",
      "metadata": {
        "id": "2ZzZkezeog5a"
      },
      "source": [
        "# 개별적으로 설치해 주어야할 패키지\n",
        "conda install -c intel mkl_fft==1.0.15\n",
        "conda install -c intel mkl_random==1.1\n",
        "conda install -c intel mkl-service==2.3.0\n",
        "pip install tbb4py\n",
        "\n",
        "# Requirements.txt에 있는 모든 패키지 설치\n",
        "pip install -r requirements_jupyter.txt\n",
        "\n",
        "# transformers 모듈에 문제가 있을 경우 실행\n",
        "# conda install -c huggingface transformers"
      ],
      "execution_count": null,
      "outputs": []
    },
    {
      "cell_type": "markdown",
      "metadata": {
        "id": "3qYdpL2FoKxv"
      },
      "source": [
        "#1. 배경\n",
        "## 1.1 데이터 선정 이유\n",
        "\n",
        "자연어처리(Natural Language Processing)은 데이터 과학 분야에서 각광받는 영역 중에 하나다. 텍스트 정보를 이용하여 감정 분석(sentiment analysis)등에 이용할 수 있다. 이 세상에 존재하는 데이터들중 텍스트 데이터의 비중이 매우 크기 때문에, 자연어처리가 활용될 수 있는 분야가 매우 무궁무진하다. 평소 영상보다 음악을 듣는 것보다도 책읽는 것을 좋아하는 나는, 이미지나 동영상 데이터나 텍스트 데이터애 대한 애착이 크다. \n",
        "\n",
        "우리나라에서는 대표적으로 동영상 OTT서비스인 왓챠(Watcha)같은 곳이 대표적으로 감정 분석을 활용하는 회사라 할 수 있다. 왓차는 사용자의 기호에따라, 사용자가 즐겨 찾는 타입의 영화 중 가장 인기있는 영화를 추천하는 서비스를 제공하는데, 바로 이런 목적으로 위해 자연어처리 감정분석 기법을 활용할 수 있다. 또한, 사람들이 좋아하는 영화들이 가진 키워드등의 정보를 찾아내, 좀더 최적화된 서비스를 제공하는데 활용하기도 한다. \n",
        "\n",
        "이 프로젝트에서는 네이버 데이터를 활용하여, 영화에 대한 유저들의 감정을 분석한다. 왓챠의 영화리뷰 데이터를 직접 얻을 수 있다면 좋았겠으나, 그렇게 할 수 없어 네이버 영화 리뷰 데이터를 왓챠의 내부 유저 콘텐츠 리뷰 데이터로 간주하고 진행하였다. 왓챠의 어떤 영화들이 평이 가장 좋은지, 그 영화들의 공통점이 무엇인지 찾아본다. 감정 분석을 위해, 자연어처리의 가장 최신 기술인 Transformer타입의 BERT 모델을 사용하여 모델링하였으며, 사용한 데이터의 링크는 다음과 같다. [네이버 영화리뷰 데이터](https://github.com/e9t/nsmc/)\n",
        "\n",
        "나는 아래와 같은 시나리오를 가정했다.\n",
        "\n",
        "*왓챠의 마케팅 팀장은 자사의 서비스를 개선하고 고객에게 보다 최적화시키기 위해, 고객에게 시청한 영화에 대한 리뷰를 권장하도록 했다. 하지만, 응답률이 매우 저조했다. 팀장은 유인책으로 리뷰를 적으면 영화 한 개를 무료로 볼 수 있도록 유도했다. 고객들은 적극적으로 응답하기 시작했고, 상당한 양의 리뷰 데이터가 쌓였다. 하지만, 마케팅 팀장은 이 것을 어떻게 활용해야할지 고민에 빠졌다. 각 유저들이 자신이 시청한 콘텐츠에 대해 세부적인 리뷰를 적고, 추천할지 안할지를 나타내는 란에 응답을 했지만, 이 정보로 어떻게 개선을 해야할지 방향이 잡히지 않았다.*\n",
        "\n",
        "*나는 데이터 사이언티스트로써, 이 리뷰들을 상세하게 분석하여, 고객이 전반적으로 왓챠의 컨텐츠에 대해 긍정적으로 생각하는지를 알아보자고 제안했다. 귀가 솔깃했던 그는 어떻게 그것을 할 수 있는지 물었고, 나는 그에게 자연어처리를 바탕으로한 감정분석(Sentiment Analysis)를 할 것을 제안했다. 긍정적인 감정이 표현되었을 경우, 그것을 좀 더 자극할 수 있는 콘텐츠를 모아서 추천하는데 활용할 수 있으며, 부정적인 감정이 표현되었을 경우, 그 감정을 유발할만한 콘텐츠에 대해서는 판권 계약 우선순위에서 뒤로 미룰 수 있다는 식으로 그를 설득했다. 즉, 고객이 느끼는 감정에 따라 콘텐츠를 관리하고, 왓챠 서비스의 방향을 정할 수 있다고 말했다. 그는 흔쾌히 수락하며, 내게 데이터를 건네주었다. 나는 왓차의 유저들이 남긴 전체 리뷰를 분석하여, 유저들이 전반적으로 왓챠의 컨텐츠를 시청하면서 가장 많이 경험했던 감정을 알아내고, 유저들이 전반적으로 왓챠의 컨텐츠에 만족하는지 알아내기 위해 딥러닝을 이용한 분석에 착수했다.*\n",
        "\n",
        "## 1.2 프로젝트를 통해 답할 질문 및 실험할 가설\n",
        "\n",
        "위 상황을 가정하면서 나는 2가지의 질문을 만들어 볼 수 있다고 느꼈다.\n",
        "\n",
        "질문: 유저들이 전반적으로 왓챠 컨텐츠에서 느낀 감정 중 가장 컸던 것은 무엇인가?\n",
        "* 유저들이 남긴 리뷰에서 감정이 드러나는 키워드를 바탕으로, 어떠한 감정이 가장 많이 나타났는지를 찾아내고, 그 것을 바탕으로 유저들이 전반적으로 왓챠의 컨텐츠에 대해 긍정적으로 생각하는지를 알 수 있다.\n",
        "또한, 가장 많이 나타난 키워드를 통해, 가장 자주 일어난 감정을 알아내서, 이러한 감정을 일으킬 수 있는 콘텐츠를 정리해 추천하는데 활용할 수 있다. 예를 들어, “웃음\"의 감정이 가장 많이 나타나면, “당신을 웃게할 코미디 영화 10선\" 등의 추천을 할 수 있고, “슬픔\"의 감정이 잦게 드러났다면, “감동과 메시지가 있는 영화들\"과 같은 추천을 하는데 활용할 수도 있을 것이다.\n",
        "\n",
        "\n",
        "가설: 전반적으로 왓챠의 콘텐츠에 만족하는 유저들의 비율과 그렇지 않은 유저들의 비율이 같다.\n",
        "* 각 리뷰 마다 시청한 컨텐츠가 유저에게 만족스러운지 아닌지에 대한 정보를 가지고 있다. 전체 리뷰에서 \"1\"의 수가 많을 수록, 왓챠 컨텐츠에 대한 만족도가 높다고 볼 수 있으며, \"0\"이 많을 수록 불만족스럽다는 것을 예측할 수 있다. 이 문제에서는 만족하는 유저의 비율과 만족하지 못하는 유저의 비율이 균등할 것으로 가정한다. \n",
        "\n"
      ]
    },
    {
      "cell_type": "markdown",
      "metadata": {
        "id": "-9sd6kQ1hyqJ"
      },
      "source": [
        "##목차:\n",
        "\n",
        "###1. 배경\n",
        "> 1.1 데이터 선정 이유\n",
        "\n",
        "> 1.2 가설\n",
        "\n",
        "###2. 전처리 및 분석\n",
        "> 2.1 EDA\n",
        "\n",
        "> 2.2 토큰화 및 Stopwords제거\n",
        "\n",
        "> 2.3 키워드 분석하기\n",
        "\n",
        "###3. 모델\n",
        "\n",
        "> 3.1 모델링을 위한 준비\n",
        "\n",
        "> 3.2 모델 fine-tuning\n",
        "\n",
        "> 3.3 모델 학습\n",
        "\n",
        "###4. 결론\n",
        "\n",
        "> 4.1 해석\n",
        "\n",
        "> 4.2 마치며\n",
        "\n",
        "> 4.3 참조\n"
      ]
    },
    {
      "cell_type": "markdown",
      "metadata": {
        "id": "GwjuCim4i-Wz"
      },
      "source": [
        "# 2. 전처리\n",
        "\n",
        "먼저 이 프로젝트에 사용할 데이터를 불러온다. 데이터는 이전에 언급한 네이버 영화 리뷰 데이터를 사용한다. 훈련을 위한 데이터와 테스트를 위한 데이터를 따로 가져간다. 데이터는 사용자의 id, 유저들의 영화리뷰 내용을 담은 document, 마지막으로 해당 영화에 만족하는지(1) 또는 불만족하는지(0)를 나타내는 타깃 특성인 label로 이루어져있다. \n",
        "\n",
        "[네이버 영화 리뷰 데이터](https://github.com/e9t/nsmc/)"
      ]
    },
    {
      "cell_type": "code",
      "metadata": {
        "id": "flvzu0j8hkGa"
      },
      "source": [
        "# 필요한 라이브러리 불러오기\n",
        "import pandas as pd\n",
        "import urllib.request"
      ],
      "execution_count": 2,
      "outputs": []
    },
    {
      "cell_type": "code",
      "metadata": {
        "colab": {
          "base_uri": "https://localhost:8080/"
        },
        "id": "WgobVytFu-Dd",
        "outputId": "4438f15a-f57a-48f7-df9b-c8b778c71a06"
      },
      "source": [
        "# 영화 리뷰 정보 다운로드하기\n",
        "urllib.request.urlretrieve(\"https://raw.githubusercontent.com/e9t/nsmc/master/ratings_train.txt\", filename=\"ratings_train.txt\")\n",
        "urllib.request.urlretrieve(\"https://raw.githubusercontent.com/e9t/nsmc/master/ratings_test.txt\", filename=\"ratings_test.txt\")"
      ],
      "execution_count": 3,
      "outputs": [
        {
          "output_type": "execute_result",
          "data": {
            "text/plain": [
              "('ratings_test.txt', <http.client.HTTPMessage at 0x7f2d3ff432b0>)"
            ]
          },
          "metadata": {
            "tags": []
          },
          "execution_count": 3
        }
      ]
    },
    {
      "cell_type": "code",
      "metadata": {
        "id": "uEzEor_Pj-9v"
      },
      "source": [
        "# Pandas로 데이터 불러오기\n",
        "train_data = pd.read_table('ratings_train.txt')\n",
        "test_data = pd.read_table('ratings_test.txt')"
      ],
      "execution_count": 4,
      "outputs": []
    },
    {
      "cell_type": "code",
      "metadata": {
        "colab": {
          "base_uri": "https://localhost:8080/"
        },
        "id": "2wnrwAm8kv-F",
        "outputId": "cb775378-e1d8-4dcb-88de-77927635760f"
      },
      "source": [
        "# 데이터 사이즈 확인\n",
        "train_data.shape, test_data.shape"
      ],
      "execution_count": 5,
      "outputs": [
        {
          "output_type": "execute_result",
          "data": {
            "text/plain": [
              "((150000, 3), (50000, 3))"
            ]
          },
          "metadata": {
            "tags": []
          },
          "execution_count": 5
        }
      ]
    },
    {
      "cell_type": "code",
      "metadata": {
        "colab": {
          "base_uri": "https://localhost:8080/",
          "height": 197
        },
        "id": "GHdyjgRdkFnA",
        "outputId": "4222fe70-7d8c-4b1f-e706-664898415e7b"
      },
      "source": [
        "# 데이터 확인\n",
        "train_data.head()"
      ],
      "execution_count": 6,
      "outputs": [
        {
          "output_type": "execute_result",
          "data": {
            "text/html": [
              "<div>\n",
              "<style scoped>\n",
              "    .dataframe tbody tr th:only-of-type {\n",
              "        vertical-align: middle;\n",
              "    }\n",
              "\n",
              "    .dataframe tbody tr th {\n",
              "        vertical-align: top;\n",
              "    }\n",
              "\n",
              "    .dataframe thead th {\n",
              "        text-align: right;\n",
              "    }\n",
              "</style>\n",
              "<table border=\"1\" class=\"dataframe\">\n",
              "  <thead>\n",
              "    <tr style=\"text-align: right;\">\n",
              "      <th></th>\n",
              "      <th>id</th>\n",
              "      <th>document</th>\n",
              "      <th>label</th>\n",
              "    </tr>\n",
              "  </thead>\n",
              "  <tbody>\n",
              "    <tr>\n",
              "      <th>0</th>\n",
              "      <td>9976970</td>\n",
              "      <td>아 더빙.. 진짜 짜증나네요 목소리</td>\n",
              "      <td>0</td>\n",
              "    </tr>\n",
              "    <tr>\n",
              "      <th>1</th>\n",
              "      <td>3819312</td>\n",
              "      <td>흠...포스터보고 초딩영화줄....오버연기조차 가볍지 않구나</td>\n",
              "      <td>1</td>\n",
              "    </tr>\n",
              "    <tr>\n",
              "      <th>2</th>\n",
              "      <td>10265843</td>\n",
              "      <td>너무재밓었다그래서보는것을추천한다</td>\n",
              "      <td>0</td>\n",
              "    </tr>\n",
              "    <tr>\n",
              "      <th>3</th>\n",
              "      <td>9045019</td>\n",
              "      <td>교도소 이야기구먼 ..솔직히 재미는 없다..평점 조정</td>\n",
              "      <td>0</td>\n",
              "    </tr>\n",
              "    <tr>\n",
              "      <th>4</th>\n",
              "      <td>6483659</td>\n",
              "      <td>사이몬페그의 익살스런 연기가 돋보였던 영화!스파이더맨에서 늙어보이기만 했던 커스틴 ...</td>\n",
              "      <td>1</td>\n",
              "    </tr>\n",
              "  </tbody>\n",
              "</table>\n",
              "</div>"
            ],
            "text/plain": [
              "         id                                           document  label\n",
              "0   9976970                                아 더빙.. 진짜 짜증나네요 목소리      0\n",
              "1   3819312                  흠...포스터보고 초딩영화줄....오버연기조차 가볍지 않구나      1\n",
              "2  10265843                                  너무재밓었다그래서보는것을추천한다      0\n",
              "3   9045019                      교도소 이야기구먼 ..솔직히 재미는 없다..평점 조정      0\n",
              "4   6483659  사이몬페그의 익살스런 연기가 돋보였던 영화!스파이더맨에서 늙어보이기만 했던 커스틴 ...      1"
            ]
          },
          "metadata": {
            "tags": []
          },
          "execution_count": 6
        }
      ]
    },
    {
      "cell_type": "code",
      "metadata": {
        "colab": {
          "base_uri": "https://localhost:8080/",
          "height": 197
        },
        "id": "CqjNSP_KkJGb",
        "outputId": "85489396-c594-43ca-a4d4-e3e192c26d59"
      },
      "source": [
        "test_data.head()"
      ],
      "execution_count": 7,
      "outputs": [
        {
          "output_type": "execute_result",
          "data": {
            "text/html": [
              "<div>\n",
              "<style scoped>\n",
              "    .dataframe tbody tr th:only-of-type {\n",
              "        vertical-align: middle;\n",
              "    }\n",
              "\n",
              "    .dataframe tbody tr th {\n",
              "        vertical-align: top;\n",
              "    }\n",
              "\n",
              "    .dataframe thead th {\n",
              "        text-align: right;\n",
              "    }\n",
              "</style>\n",
              "<table border=\"1\" class=\"dataframe\">\n",
              "  <thead>\n",
              "    <tr style=\"text-align: right;\">\n",
              "      <th></th>\n",
              "      <th>id</th>\n",
              "      <th>document</th>\n",
              "      <th>label</th>\n",
              "    </tr>\n",
              "  </thead>\n",
              "  <tbody>\n",
              "    <tr>\n",
              "      <th>0</th>\n",
              "      <td>6270596</td>\n",
              "      <td>굳 ㅋ</td>\n",
              "      <td>1</td>\n",
              "    </tr>\n",
              "    <tr>\n",
              "      <th>1</th>\n",
              "      <td>9274899</td>\n",
              "      <td>GDNTOPCLASSINTHECLUB</td>\n",
              "      <td>0</td>\n",
              "    </tr>\n",
              "    <tr>\n",
              "      <th>2</th>\n",
              "      <td>8544678</td>\n",
              "      <td>뭐야 이 평점들은.... 나쁘진 않지만 10점 짜리는 더더욱 아니잖아</td>\n",
              "      <td>0</td>\n",
              "    </tr>\n",
              "    <tr>\n",
              "      <th>3</th>\n",
              "      <td>6825595</td>\n",
              "      <td>지루하지는 않은데 완전 막장임... 돈주고 보기에는....</td>\n",
              "      <td>0</td>\n",
              "    </tr>\n",
              "    <tr>\n",
              "      <th>4</th>\n",
              "      <td>6723715</td>\n",
              "      <td>3D만 아니었어도 별 다섯 개 줬을텐데.. 왜 3D로 나와서 제 심기를 불편하게 하죠??</td>\n",
              "      <td>0</td>\n",
              "    </tr>\n",
              "  </tbody>\n",
              "</table>\n",
              "</div>"
            ],
            "text/plain": [
              "        id                                           document  label\n",
              "0  6270596                                                굳 ㅋ      1\n",
              "1  9274899                               GDNTOPCLASSINTHECLUB      0\n",
              "2  8544678             뭐야 이 평점들은.... 나쁘진 않지만 10점 짜리는 더더욱 아니잖아      0\n",
              "3  6825595                   지루하지는 않은데 완전 막장임... 돈주고 보기에는....      0\n",
              "4  6723715  3D만 아니었어도 별 다섯 개 줬을텐데.. 왜 3D로 나와서 제 심기를 불편하게 하죠??      0"
            ]
          },
          "metadata": {
            "tags": []
          },
          "execution_count": 7
        }
      ]
    },
    {
      "cell_type": "markdown",
      "metadata": {
        "id": "dD7gkcyAxh8P"
      },
      "source": [
        "##2.1 EDA"
      ]
    },
    {
      "cell_type": "markdown",
      "metadata": {
        "id": "AaoVonVxlLva"
      },
      "source": [
        "데이터를 최대한 분석하는 것이 분석 성공의 열쇠이기 때문에, 가장 먼저 기본적으로 해볼 수 있는 EDA를 모두 해본다."
      ]
    },
    {
      "cell_type": "code",
      "metadata": {
        "colab": {
          "base_uri": "https://localhost:8080/"
        },
        "id": "be54o3KAldRv",
        "outputId": "d2286104-3251-4241-c0e0-c1fc9b0708d0"
      },
      "source": [
        "#1. 데이터의 결측치 확인\n",
        "train_data.isnull().sum()"
      ],
      "execution_count": 8,
      "outputs": [
        {
          "output_type": "execute_result",
          "data": {
            "text/plain": [
              "id          0\n",
              "document    5\n",
              "label       0\n",
              "dtype: int64"
            ]
          },
          "metadata": {
            "tags": []
          },
          "execution_count": 8
        }
      ]
    },
    {
      "cell_type": "code",
      "metadata": {
        "colab": {
          "base_uri": "https://localhost:8080/"
        },
        "id": "VLoMewoslqjD",
        "outputId": "5d49b39c-1780-43bf-92ce-a9266cc8efc2"
      },
      "source": [
        "test_data.isnull().sum()"
      ],
      "execution_count": 9,
      "outputs": [
        {
          "output_type": "execute_result",
          "data": {
            "text/plain": [
              "id          0\n",
              "document    3\n",
              "label       0\n",
              "dtype: int64"
            ]
          },
          "metadata": {
            "tags": []
          },
          "execution_count": 9
        }
      ]
    },
    {
      "cell_type": "markdown",
      "metadata": {
        "id": "B3LKDpPilzmQ"
      },
      "source": [
        "데이터의 결측치가 document 부분에서 존재하기는 하지만, 타깃 레이블인 label 칼럼에는 존재하지 않는다. 아무래도 리뷰를 입력하기 귀찮아 만족 여부만 답한 사람도 있을 것이다. 영화에 대해 세부적인 리뷰가 없는 것에 대해서는 아쉽지만, 그럼에도 불구하고 만족도에 대한 정보는 타깃에 있으므로 일단 결측치는 제거하지 않는다."
      ]
    },
    {
      "cell_type": "code",
      "metadata": {
        "colab": {
          "base_uri": "https://localhost:8080/"
        },
        "id": "NjDYlPDWlvie",
        "outputId": "ef7c198e-7ee4-4d9d-d1fc-0178ae2e702b"
      },
      "source": [
        "# 타깃의 클래스 수 확인하기\n",
        "train_data[\"label\"].value_counts()"
      ],
      "execution_count": 10,
      "outputs": [
        {
          "output_type": "execute_result",
          "data": {
            "text/plain": [
              "0    75173\n",
              "1    74827\n",
              "Name: label, dtype: int64"
            ]
          },
          "metadata": {
            "tags": []
          },
          "execution_count": 10
        }
      ]
    },
    {
      "cell_type": "code",
      "metadata": {
        "colab": {
          "base_uri": "https://localhost:8080/"
        },
        "id": "CIiTqUjnmhZf",
        "outputId": "9bef8a41-6745-40fc-bbfd-13d18a404bb1"
      },
      "source": [
        "test_data[\"label\"].value_counts()"
      ],
      "execution_count": 11,
      "outputs": [
        {
          "output_type": "execute_result",
          "data": {
            "text/plain": [
              "1    25173\n",
              "0    24827\n",
              "Name: label, dtype: int64"
            ]
          },
          "metadata": {
            "tags": []
          },
          "execution_count": 11
        }
      ]
    },
    {
      "cell_type": "code",
      "metadata": {
        "colab": {
          "base_uri": "https://localhost:8080/",
          "height": 312
        },
        "id": "0FJ-_H6TmrF_",
        "outputId": "e29ddb2b-a953-48c3-d3d5-94ee0023b92d"
      },
      "source": [
        "# 클래스 불균형 (class imbalance) 확인하기\n",
        "import seaborn as sns\n",
        "\n",
        "sns.histplot(train_data[\"label\"]).set(title=\"Customer Satisfaction(Train)\")"
      ],
      "execution_count": 16,
      "outputs": [
        {
          "output_type": "execute_result",
          "data": {
            "text/plain": [
              "[Text(0.5, 1.0, 'Customer Satisfaction(Train)')]"
            ]
          },
          "metadata": {
            "tags": []
          },
          "execution_count": 16
        },
        {
          "output_type": "display_data",
          "data": {
            "image/png": "[encoded data removed]",
            "text/plain": [
              "<Figure size 432x288 with 1 Axes>"
            ]
          },
          "metadata": {
            "tags": [],
            "needs_background": "light"
          }
        }
      ]
    },
    {
      "cell_type": "markdown",
      "metadata": {
        "id": "HHbkGtMqnWHB"
      },
      "source": [
        "일단 훈련 데이터에서 클래스가 균형 잡힌 것으로 확인된다. 클래스가 매우 불균형하여 따로 두 레이블을 고르게 세팅할 필요가 없는 것이다."
      ]
    },
    {
      "cell_type": "markdown",
      "metadata": {
        "id": "9ChVfsQzvCc-"
      },
      "source": [
        "다음으로 리뷰 데이터의 모든 단어를 볼 수 있는 WordCloud를 활용하여 시각화해보자."
      ]
    },
    {
      "cell_type": "code",
      "metadata": {
        "id": "FRlPRnzqnUB9"
      },
      "source": [
        "# 1. 필요한 모듈 불러오기\n",
        "from wordcloud import WordCloud, STOPWORDS \n",
        "import matplotlib.pyplot as plt \n",
        "from matplotlib import rc\n",
        "import pandas as pd \n",
        "# %matplotlib inline"
      ],
      "execution_count": null,
      "outputs": []
    },
    {
      "cell_type": "code",
      "metadata": {
        "colab": {
          "base_uri": "https://localhost:8080/"
        },
        "id": "ZmoQgIXI0Bqd",
        "outputId": "efa4c553-3ec2-4862-ca88-1989e080902f"
      },
      "source": [
        "# 한글 폰트 준비\n",
        "urllib.request.urlretrieve(\"http://macsplex.com/?module=file&act=procFileDownload&file_srl=2851&sid=ea4a36b12467c4446c21e70762c7d10f&module_srl=2822g\", filename=\"AppleGothic.ttf\")"
      ],
      "execution_count": null,
      "outputs": [
        {
          "output_type": "execute_result",
          "data": {
            "text/plain": [
              "('AppleGothic.ttf', <http.client.HTTPMessage at 0x7fd7174efa90>)"
            ]
          },
          "metadata": {
            "tags": []
          },
          "execution_count": 16
        }
      ]
    },
    {
      "cell_type": "code",
      "metadata": {
        "colab": {
          "base_uri": "https://localhost:8080/",
          "height": 606
        },
        "id": "vsbdaxcRvMNq",
        "outputId": "7f967034-e215-42d0-cd98-e3c5a3e0d077"
      },
      "source": [
        "# 2. Stopwords 및 특수문자 필터링을 위한 준비\n",
        "\n",
        "comment_words = ''\n",
        "stopwords = set(STOPWORDS)\n",
        "\n",
        "tokenized_text = []\n",
        "\n",
        "# 3. 문장 데이터를 단어화하기\n",
        "for val in train_data[\"document\"]:\n",
        "\n",
        "  # 문장을 string으로 만들기\n",
        "  val = str(val)\n",
        "\n",
        "  # 문장을 쪼개기\n",
        "  tokens = val.split()\n",
        "\n",
        "  tokenized_text.append(tokens)\n",
        "  comment_words += \" \".join(tokens) + \" \"\n",
        "\n",
        "wordcloud = WordCloud(width = 800, height = 800, \n",
        "                font_path='AppleGothic.ttf',\n",
        "                background_color ='white', \n",
        "                stopwords = stopwords, \n",
        "                min_font_size = 10).generate(comment_words) \n",
        "\n",
        "# plot the WordCloud image                        \n",
        "plt.figure(figsize = (8, 8), facecolor = None) \n",
        "plt.imshow(wordcloud) \n",
        "plt.axis(\"off\") \n",
        "plt.tight_layout(pad = 0) \n",
        "  \n",
        "plt.show() "
      ],
      "execution_count": null,
      "outputs": [
        {
          "output_type": "display_data",
          "data": {
            "image/png": "[encoded data removed]",
            "text/plain": [
              "<Figure size 576x576 with 1 Axes>"
            ]
          },
          "metadata": {
            "tags": [],
            "needs_background": "light"
          }
        }
      ]
    },
    {
      "cell_type": "markdown",
      "metadata": {
        "id": "vJoqR0RJX6pj"
      },
      "source": [
        "위 WordCloud를 보니 \"정말\", \"영화\", \"진짜\" 등의 단어가 가장 많이 나온 것을 알수있다. 하지만 엄밀히 따지자면, 이 단어들은 직접적으로 한 사람의 감정을 나타내기 보다는 특정한 대상이나, 그 대상을 확대하여 표현하기 위한 부사들이다. 이 단어들은 직접적으로 감정을 분석하는데 있어 도움이 되지 않기 때문에 이러한 단어들은 Stopwords로써 필터링할 수 있다."
      ]
    },
    {
      "cell_type": "code",
      "metadata": {
        "id": "QBffF4mMvLqI"
      },
      "source": [
        "# 필터링할 추가적인 stopwords들 정의\n",
        "\n",
        "stopwords_2 = [\"영화\", \"진짜\", \"정말\", \"이거\", \"그냥\", \"너무\", \"영화가\", \"영화는\",\n",
        "             \"이거\", \"이게\", \"이건\", \"영화의\", \"어떤\", \"아주\", \"계속\", \"영화다\", \n",
        "             \"영화를\", \"그리고\"\n",
        "]"
      ],
      "execution_count": null,
      "outputs": []
    },
    {
      "cell_type": "markdown",
      "metadata": {
        "id": "Y7DFwXAcZ8NG"
      },
      "source": [
        "##2.2 토큰화 및 Stopwords(불용어) 제거"
      ]
    },
    {
      "cell_type": "markdown",
      "metadata": {
        "id": "7ksWwO5gaBBG"
      },
      "source": [
        "WordCloud를 통해 본 것처럼, 모든 문장을 단어로 토큰화하고, 이전에 새롭게 정의한 불용어를 제거한다."
      ]
    },
    {
      "cell_type": "code",
      "metadata": {
        "colab": {
          "base_uri": "https://localhost:8080/"
        },
        "id": "pW7QBZNHZwDF",
        "outputId": "efba80a5-a793-44ec-9ab6-59accb8a5298"
      },
      "source": [
        "# 토큰화된 문장확인\n",
        "tokenized_text[0]"
      ],
      "execution_count": null,
      "outputs": [
        {
          "output_type": "execute_result",
          "data": {
            "text/plain": [
              "['아', '더빙..', '진짜', '짜증나네요', '목소리']"
            ]
          },
          "metadata": {
            "tags": []
          },
          "execution_count": 19
        }
      ]
    },
    {
      "cell_type": "code",
      "metadata": {
        "colab": {
          "base_uri": "https://localhost:8080/"
        },
        "id": "lW8I9y0uiuZS",
        "outputId": "a49c3f7b-3231-4e19-ddec-7f2ea34666a7"
      },
      "source": [
        "len(tokenized_text)"
      ],
      "execution_count": null,
      "outputs": [
        {
          "output_type": "execute_result",
          "data": {
            "text/plain": [
              "150000"
            ]
          },
          "metadata": {
            "tags": []
          },
          "execution_count": 20
        }
      ]
    },
    {
      "cell_type": "code",
      "metadata": {
        "id": "g7y0YjnEqAsD"
      },
      "source": [
        "# 새로운 불용어와 기존 불용어 필터링하기\n",
        "\n",
        "def filter_stopwords(tokenized_text, stopwords_2):\n",
        "  tokenized_filtered = []\n",
        "\n",
        "  for i in tokenized_text:\n",
        "    for word in i:\n",
        "      if word not in stopwords and word not in stopwords_2:\n",
        "        tokenized_filtered.append(word)\n",
        "        \n",
        "  return tokenized_filtered"
      ],
      "execution_count": null,
      "outputs": []
    },
    {
      "cell_type": "code",
      "metadata": {
        "id": "5lNmENB15Pf7"
      },
      "source": [
        "tokenized_filtered = filter_stopwords(tokenized_text, stopwords_2)"
      ],
      "execution_count": null,
      "outputs": []
    },
    {
      "cell_type": "code",
      "metadata": {
        "colab": {
          "base_uri": "https://localhost:8080/"
        },
        "id": "EyCpISKiq5kH",
        "outputId": "cee5930e-e0bd-4d25-fbac-d4d478c5b4a9"
      },
      "source": [
        "# 필터링 되었는지 확인\n",
        "tokenized_filtered[0:10]"
      ],
      "execution_count": null,
      "outputs": [
        {
          "output_type": "execute_result",
          "data": {
            "text/plain": [
              "['아',\n",
              " '더빙..',\n",
              " '짜증나네요',\n",
              " '목소리',\n",
              " '흠...포스터보고',\n",
              " '초딩영화줄....오버연기조차',\n",
              " '가볍지',\n",
              " '않구나',\n",
              " '너무재밓었다그래서보는것을추천한다',\n",
              " '교도소']"
            ]
          },
          "metadata": {
            "tags": []
          },
          "execution_count": 23
        }
      ]
    },
    {
      "cell_type": "code",
      "metadata": {
        "colab": {
          "base_uri": "https://localhost:8080/"
        },
        "id": "Zl1V13a0rOD6",
        "outputId": "bc6619f4-49a4-4aa3-d219-5bdc4e953ada"
      },
      "source": [
        "len(tokenized_filtered)"
      ],
      "execution_count": null,
      "outputs": [
        {
          "output_type": "execute_result",
          "data": {
            "text/plain": [
              "1083270"
            ]
          },
          "metadata": {
            "tags": []
          },
          "execution_count": 24
        }
      ]
    },
    {
      "cell_type": "code",
      "metadata": {
        "id": "tnLrDFYwsPd7"
      },
      "source": [
        "# 각 단어가 얼마나 나왔는지 카운트해보기\n",
        "\n",
        "import operator\n",
        "\n",
        "def word_count(tokenized_data):\n",
        "  word_counter = {}\n",
        "\n",
        "  for i in tokenized_data:\n",
        "    if i in word_counter.keys():\n",
        "      word_counter[i] += 1\n",
        "    else:\n",
        "      word_counter[i] = 1\n",
        "\n",
        "  # 많이 나온 순서대로 정렬\n",
        "\n",
        "  sorted_dict = dict( sorted(word_counter.items(),\n",
        "                           key=operator.itemgetter(1), reverse=True))\n",
        "  \n",
        "  return sorted_dict"
      ],
      "execution_count": null,
      "outputs": []
    },
    {
      "cell_type": "code",
      "metadata": {
        "id": "N_4AF_39zPw8"
      },
      "source": [
        "tokenized_dict = word_count(tokenized_filtered)"
      ],
      "execution_count": null,
      "outputs": []
    },
    {
      "cell_type": "code",
      "metadata": {
        "colab": {
          "base_uri": "https://localhost:8080/"
        },
        "id": "PLa_JCQOxKlZ",
        "outputId": "eac4e25d-dc3c-4999-c116-181433ed0183"
      },
      "source": [
        "# 가장 상위 20개의 단어 보기\n",
        "def top_20(tokenized_dict):\n",
        "  top_20_words = list(tokenized_dict.items())[:20]\n",
        "  return top_20_words\n",
        "\n",
        "top_20(tokenized_dict)"
      ],
      "execution_count": null,
      "outputs": [
        {
          "output_type": "execute_result",
          "data": {
            "text/plain": [
              "[('이', 5059),\n",
              " ('영화.', 3598),\n",
              " ('왜', 3285),\n",
              " ('더', 3260),\n",
              " ('이런', 3249),\n",
              " ('수', 2945),\n",
              " ('잘', 2644),\n",
              " ('다', 2615),\n",
              " ('보고', 2557),\n",
              " ('좀', 2449),\n",
              " ('그', 2421),\n",
              " ('본', 2298),\n",
              " ('최고의', 2219),\n",
              " ('ㅋㅋ', 2019),\n",
              " ('내가', 2000),\n",
              " ('없는', 1957),\n",
              " ('이렇게', 1828),\n",
              " ('완전', 1780),\n",
              " ('평점', 1760),\n",
              " ('봤는데', 1746)]"
            ]
          },
          "metadata": {
            "tags": []
          },
          "execution_count": 27
        }
      ]
    },
    {
      "cell_type": "markdown",
      "metadata": {
        "id": "x_AyxgwK2iKo"
      },
      "source": [
        "크게 의미가 없는 단어들이 아직도 남아있다. 조금 더 불용어들을 필터링해보자."
      ]
    },
    {
      "cell_type": "code",
      "metadata": {
        "id": "BMuV7C8s26j1"
      },
      "source": [
        "stopwords_2.extend([\"이\", \"이렇게\", \"더\", \"수\", \"다\", \"그\", \"내가\", \"이렇게\", \n",
        "               \"완전\", \"봤는데\", \"영화.\", \"평점\", \"평점이\", \"왜\", \"이런\", \"본\",\n",
        "               \"보고\", \"잘\"\n",
        "])"
      ],
      "execution_count": null,
      "outputs": []
    },
    {
      "cell_type": "code",
      "metadata": {
        "colab": {
          "base_uri": "https://localhost:8080/"
        },
        "id": "T32vDRrH3q0V",
        "outputId": "182db0bc-fe42-4a01-c31d-1c410a2e4d5a"
      },
      "source": [
        "tokenized_filtered = filter_stopwords(tokenized_text, stopwords_2)\n",
        "\n",
        "len(tokenized_filtered)"
      ],
      "execution_count": null,
      "outputs": [
        {
          "output_type": "execute_result",
          "data": {
            "text/plain": [
              "1038630"
            ]
          },
          "metadata": {
            "tags": []
          },
          "execution_count": 29
        }
      ]
    },
    {
      "cell_type": "code",
      "metadata": {
        "id": "tP287x2r3-K6"
      },
      "source": [
        "tokenized_dict = word_count(tokenized_filtered)"
      ],
      "execution_count": null,
      "outputs": []
    },
    {
      "cell_type": "code",
      "metadata": {
        "colab": {
          "base_uri": "https://localhost:8080/"
        },
        "id": "xE-uuPay7On4",
        "outputId": "462ecf0a-6672-49e0-9196-6dc943e48c32"
      },
      "source": [
        "# 가장 상위 20개의 단어 보기\n",
        "top_20(tokenized_dict)"
      ],
      "execution_count": null,
      "outputs": [
        {
          "output_type": "execute_result",
          "data": {
            "text/plain": [
              "[('좀', 2449),\n",
              " ('최고의', 2219),\n",
              " ('ㅋㅋ', 2019),\n",
              " ('없는', 1957),\n",
              " ('있는', 1739),\n",
              " ('좋은', 1726),\n",
              " ('보는', 1600),\n",
              " ('내', 1595),\n",
              " ('다시', 1583),\n",
              " ('참', 1508),\n",
              " ('많이', 1478),\n",
              " ('역시', 1466),\n",
              " ('난', 1405),\n",
              " ('연기', 1365),\n",
              " ('재밌게', 1343),\n",
              " ('한', 1323),\n",
              " ('쓰레기', 1295),\n",
              " ('것', 1277),\n",
              " ('하는', 1236),\n",
              " ('또', 1231)]"
            ]
          },
          "metadata": {
            "tags": []
          },
          "execution_count": 31
        }
      ]
    },
    {
      "cell_type": "markdown",
      "metadata": {
        "id": "iyzOjqWdZA6D"
      },
      "source": [
        "드디어 감정을 나타내는 단어들이 좀 보이기 시작했다. \"좀\"이라는 말은, 어떻게 보면 직접적인 감정을 드러낸다고 할 수는 없지만, 일반적으로 \"좀 그렇다.\", \"좀 별로다.\" 라는 식으로 부정적인 뉘앙스로 많이 쓰인다. \"좀 좋다.\", \"좀 괜찮다.\"라는 말을쓰기도 하지만, 일상에서 자연스럽다고 느낄정도로 긍정적인 어투로 쓰이지는 않는 편이다. 그만큼 이 단어는 어느 정도 부정적인 감정을 나타낼 가능성이 높다. 하지만, \"최고의\"라는 굉장히 긍정적인 감정을 나타내는 단어가 뒤따른 것으로보아, 자신이 본 컨텐츠를 부정적으로 생각한 사람들 못지 않게, 긍정적으로 본 사람들도 상당히 많다는 것을 보여준다. 뒤 따르는 \"ㅋㅋ\"라는 웃음의 의성어는, 주로 무언가가 재미있거나 흥미로울 때 많이 쓴다. 이러한 용어의 빈도가 높았다는 사실 역시, 자신이 시청한 콘텐츠를 즐겁게 평가한사람이 많았다는 것을 보여준다. 그 이후에 나오는 \"좋은\", \"재밌게\"라는 단어들이 뒤따랐고, 상당히 부정적인 감정을 드러내는 \"쓰레기\"라는 표현도 상당한 빈도로 나온 것을 알 수 있다. 전체적으로 자신이 본 콘텐츠를 긍정적으로 본 사람들 못지않게, 부정적으로 평가한 사람들도 상당히 많았음을 알 수 있다. "
      ]
    },
    {
      "cell_type": "markdown",
      "metadata": {
        "id": "vyF9yhOUr9Z4"
      },
      "source": [
        "여기서 좀 더 전처리를 해본다. 이번에는 직접적으로 감정이 드러나는 단어를 찾기 위해 직접 감정이 드러나는 레벨까지 가본다. 그 후에, 몇가지 단어들을 특정한 감정으로 대체하여 보도록 하겠다."
      ]
    },
    {
      "cell_type": "code",
      "metadata": {
        "id": "vXF5i8aN9qg_"
      },
      "source": [
        "stopwords_2.extend([\"보는\", \"내\", \"다시\", \"난\", \"연기\", \"한\", \"것\", \"하는\", \"또\",\n",
        "                    \"역시\", \"좀\", \"참\", \"많이\", \"없는\", \"있는\"\n",
        "])"
      ],
      "execution_count": null,
      "outputs": []
    },
    {
      "cell_type": "code",
      "metadata": {
        "colab": {
          "base_uri": "https://localhost:8080/"
        },
        "id": "JjGTvo9KsUT2",
        "outputId": "286b2aea-d214-4be8-9c63-cf38f120f82b"
      },
      "source": [
        "tokenized_filtered = filter_stopwords(tokenized_text, stopwords_2)\n",
        "\n",
        "len(tokenized_filtered)"
      ],
      "execution_count": null,
      "outputs": [
        {
          "output_type": "execute_result",
          "data": {
            "text/plain": [
              "1015418"
            ]
          },
          "metadata": {
            "tags": []
          },
          "execution_count": 33
        }
      ]
    },
    {
      "cell_type": "code",
      "metadata": {
        "id": "-pGYK6C3sX-O"
      },
      "source": [
        "tokenized_dict = word_count(tokenized_filtered)"
      ],
      "execution_count": null,
      "outputs": []
    },
    {
      "cell_type": "code",
      "metadata": {
        "colab": {
          "base_uri": "https://localhost:8080/"
        },
        "id": "0uEv0jE9saxr",
        "outputId": "133526d4-6d8e-4644-e2e0-5ac5ec431f28"
      },
      "source": [
        "top_20(tokenized_dict)"
      ],
      "execution_count": null,
      "outputs": [
        {
          "output_type": "execute_result",
          "data": {
            "text/plain": [
              "[('최고의', 2219),\n",
              " ('ㅋㅋ', 2019),\n",
              " ('좋은', 1726),\n",
              " ('재밌게', 1343),\n",
              " ('쓰레기', 1295),\n",
              " ('아', 1204),\n",
              " ('드라마', 1186),\n",
              " ('꼭', 1181),\n",
              " ('가장', 1178),\n",
              " ('보면', 1176),\n",
              " ('ㅋㅋㅋ', 1108),\n",
              " ('마지막', 1070),\n",
              " ('스토리', 1020),\n",
              " ('무슨', 999),\n",
              " ('ㅋ', 989),\n",
              " ('없고', 981),\n",
              " ('.', 981),\n",
              " ('볼', 959),\n",
              " ('ㅠㅠ', 958),\n",
              " ('같은', 956)]"
            ]
          },
          "metadata": {
            "tags": []
          },
          "execution_count": 35
        }
      ]
    },
    {
      "cell_type": "markdown",
      "metadata": {
        "id": "y9GL0KXUyWpt"
      },
      "source": [
        "## 2.3 키워드 분석하기"
      ]
    },
    {
      "cell_type": "markdown",
      "metadata": {
        "id": "sLgY5arDtRIh"
      },
      "source": [
        "이쯤에서 감정이 드러난 단어들을 하나의 그룹으로 묶어보자. 즉, 키워드만을 추려서 특정한 감정을 나타내는 그룹으로 묶어본다. 여기서 주의할 것은 \"ㅋㅋㅋ\", \"ㅋㅋ\", \"ㅋ\"의 의미가 서로 다를 수 있다는 것이다. 참조: [ㅋㅋ - 위키백과, 우리 모두의 백과사전](https://ko.wikipedia.org/wiki/%E3%85%8B%E3%85%8B#:~:text=%E3%85%8B%E3%85%8B%EC%9D%80%20%EB%8C%80%ED%95%9C%EB%AF%BC%EA%B5%AD%EC%9D%98%20%EC%9D%B8%ED%84%B0%EB%84%B7,%EB%8A%90%EB%82%8C%EC%9D%84%20%EC%A4%84%20%EC%88%98%20%EC%9E%88%EB%8B%A4.)"
      ]
    },
    {
      "cell_type": "code",
      "metadata": {
        "id": "aQIIxgFGsczZ"
      },
      "source": [
        "# 감정이 드러난 단어들을 묶어보기\n",
        "\n",
        "emotion_dict = {\"최고의\": \"극찬\", \"ㅋㅋ\": \"웃음\", \"좋은\": \"기쁨\", \"재밌게\": \"흥미\",\n",
        "                \"쓰레기\": \"혐오\", \"ㅋㅋㅋ\": \"웃음\", \"ㅋ\": \"무심\", \"ㅠㅠ\": \"슬픔\"\n",
        "}"
      ],
      "execution_count": null,
      "outputs": []
    },
    {
      "cell_type": "code",
      "metadata": {
        "colab": {
          "base_uri": "https://localhost:8080/"
        },
        "id": "8bScSBhqurgN",
        "outputId": "1e7c91f4-3e6f-4d08-fb1e-c4eb9556a43b"
      },
      "source": [
        "from collections import defaultdict, OrderedDict\n",
        "\n",
        "emotions_dict = defaultdict(int)\n",
        "\n",
        "emotions_list = []\n",
        "\n",
        "for k, v in tokenized_dict.items():\n",
        "  for key, value in emotion_dict.items():\n",
        "    if k == key:\n",
        "      emotions_list.append((value, v))\n",
        "\n",
        "for k, v in emotions_list:\n",
        "  if k in emotions_dict:\n",
        "    emotions_dict[k] += v\n",
        "  else:\n",
        "    emotions_dict[k] = v\n",
        "\n",
        "emotions_dict = OrderedDict(sorted(emotions_dict.items(),\n",
        "                            key=lambda item: item[1],\n",
        "                            reverse=True))\n",
        "\n",
        "emotions_dict"
      ],
      "execution_count": null,
      "outputs": [
        {
          "output_type": "execute_result",
          "data": {
            "text/plain": [
              "OrderedDict([('웃음', 3127),\n",
              "             ('극찬', 2219),\n",
              "             ('기쁨', 1726),\n",
              "             ('흥미', 1343),\n",
              "             ('혐오', 1295),\n",
              "             ('무심', 989),\n",
              "             ('슬픔', 958)])"
            ]
          },
          "metadata": {
            "tags": []
          },
          "execution_count": 37
        }
      ]
    },
    {
      "cell_type": "code",
      "metadata": {
        "colab": {
          "base_uri": "https://localhost:8080/",
          "height": 633
        },
        "id": "-IPjVGQj4EZ2",
        "outputId": "64715709-f4a6-446e-99f8-78064baa2bfc"
      },
      "source": [
        "# Plotly로 시각화\n",
        "\n",
        "# Pie Chart\n",
        "import plotly.express as px\n",
        "\n",
        "emotions = pd.Series(emotions_dict)\n",
        "\n",
        "fig = px.pie(emotions, values=emotions, names=emotions.index, title=\"가장 두드러지게 나타난 감정\", hover_data=[emotions], labels=emotions.index)\n",
        "fig.update_traces(textposition='inside', textinfo='percent+label')\n",
        "fig.show()"
      ],
      "execution_count": null,
      "outputs": [
        {
          "output_type": "stream",
          "text": [
            "/usr/local/lib/python3.6/dist-packages/pandas/core/indexes/base.py:4114: FutureWarning:\n",
            "\n",
            "Using a non-tuple sequence for multidimensional indexing is deprecated; use `arr[tuple(seq)]` instead of `arr[seq]`. In the future this will be interpreted as an array index, `arr[np.array(seq)]`, which will result either in an error or a different result.\n",
            "\n"
          ],
          "name": "stderr"
        },
        {
          "output_type": "display_data",
          "data": {
            "text/html": [
              "<html>\n",
              "<head><meta charset=\"utf-8\" /></head>\n",
              "<body>\n",
              "    <div>\n",
              "            <script src=\"https://cdnjs.cloudflare.com/ajax/libs/mathjax/2.7.5/MathJax.js?config=TeX-AMS-MML_SVG\"></script><script type=\"text/javascript\">if (window.MathJax) {MathJax.Hub.Config({SVG: {font: \"STIX-Web\"}});}</script>\n",
              "                <script type=\"text/javascript\">window.PlotlyConfig = {MathJaxConfig: 'local'};</script>\n",
              "        <script src=\"https://cdn.plot.ly/plotly-latest.min.js\"></script>    \n",
              "            <div id=\"94bbfc97-4bc2-4c2a-8b02-0d829a2bbcb2\" class=\"plotly-graph-div\" style=\"height:525px; width:100%;\"></div>\n",
              "            <script type=\"text/javascript\">\n",
              "                \n",
              "                    window.PLOTLYENV=window.PLOTLYENV || {};\n",
              "                    \n",
              "                if (document.getElementById(\"94bbfc97-4bc2-4c2a-8b02-0d829a2bbcb2\")) {\n",
              "                    Plotly.newPlot(\n",
              "                        '94bbfc97-4bc2-4c2a-8b02-0d829a2bbcb2',\n",
              "                        [{\"customdata\": [[3127], [2219], [1726], [1343], [1295], [989], [958]], \"domain\": {\"x\": [0.0, 1.0], \"y\": [0.0, 1.0]}, \"hoverlabel\": {\"namelength\": 0}, \"hovertemplate\": \"hover_data_0=%{customdata[0]}<br>label=%{label}<br>value=%{value}\", \"labels\": [\"\\uc6c3\\uc74c\", \"\\uadf9\\ucc2c\", \"\\uae30\\uc068\", \"\\ud765\\ubbf8\", \"\\ud610\\uc624\", \"\\ubb34\\uc2ec\", \"\\uc2ac\\ud514\"], \"legendgroup\": \"\", \"name\": \"\", \"showlegend\": true, \"textinfo\": \"percent+label\", \"textposition\": \"inside\", \"type\": \"pie\", \"values\": [3127, 2219, 1726, 1343, 1295, 989, 958]}],\n",
              "                        {\"legend\": {\"tracegroupgap\": 0}, \"template\": {\"data\": {\"bar\": [{\"error_x\": {\"color\": \"#2a3f5f\"}, \"error_y\": {\"color\": \"#2a3f5f\"}, \"marker\": {\"line\": {\"color\": \"#E5ECF6\", \"width\": 0.5}}, \"type\": \"bar\"}], \"barpolar\": [{\"marker\": {\"line\": {\"color\": \"#E5ECF6\", \"width\": 0.5}}, \"type\": \"barpolar\"}], \"carpet\": [{\"aaxis\": {\"endlinecolor\": \"#2a3f5f\", \"gridcolor\": \"white\", \"linecolor\": \"white\", \"minorgridcolor\": \"white\", \"startlinecolor\": \"#2a3f5f\"}, \"baxis\": {\"endlinecolor\": \"#2a3f5f\", \"gridcolor\": \"white\", \"linecolor\": \"white\", \"minorgridcolor\": \"white\", \"startlinecolor\": \"#2a3f5f\"}, \"type\": \"carpet\"}], \"choropleth\": [{\"colorbar\": {\"outlinewidth\": 0, \"ticks\": \"\"}, \"type\": \"choropleth\"}], \"contour\": [{\"colorbar\": {\"outlinewidth\": 0, \"ticks\": \"\"}, \"colorscale\": [[0.0, \"#0d0887\"], [0.1111111111111111, \"#46039f\"], [0.2222222222222222, \"#7201a8\"], [0.3333333333333333, \"#9c179e\"], [0.4444444444444444, \"#bd3786\"], [0.5555555555555556, \"#d8576b\"], [0.6666666666666666, \"#ed7953\"], [0.7777777777777778, \"#fb9f3a\"], [0.8888888888888888, \"#fdca26\"], [1.0, \"#f0f921\"]], \"type\": \"contour\"}], \"contourcarpet\": [{\"colorbar\": {\"outlinewidth\": 0, \"ticks\": \"\"}, \"type\": \"contourcarpet\"}], \"heatmap\": [{\"colorbar\": {\"outlinewidth\": 0, \"ticks\": \"\"}, \"colorscale\": [[0.0, \"#0d0887\"], [0.1111111111111111, \"#46039f\"], [0.2222222222222222, \"#7201a8\"], [0.3333333333333333, \"#9c179e\"], [0.4444444444444444, \"#bd3786\"], [0.5555555555555556, \"#d8576b\"], [0.6666666666666666, \"#ed7953\"], [0.7777777777777778, \"#fb9f3a\"], [0.8888888888888888, \"#fdca26\"], [1.0, \"#f0f921\"]], \"type\": \"heatmap\"}], \"heatmapgl\": [{\"colorbar\": {\"outlinewidth\": 0, \"ticks\": \"\"}, \"colorscale\": [[0.0, \"#0d0887\"], [0.1111111111111111, \"#46039f\"], [0.2222222222222222, \"#7201a8\"], [0.3333333333333333, \"#9c179e\"], [0.4444444444444444, \"#bd3786\"], [0.5555555555555556, \"#d8576b\"], [0.6666666666666666, \"#ed7953\"], [0.7777777777777778, \"#fb9f3a\"], [0.8888888888888888, \"#fdca26\"], [1.0, \"#f0f921\"]], \"type\": \"heatmapgl\"}], \"histogram\": [{\"marker\": {\"colorbar\": {\"outlinewidth\": 0, \"ticks\": \"\"}}, \"type\": \"histogram\"}], \"histogram2d\": [{\"colorbar\": {\"outlinewidth\": 0, \"ticks\": \"\"}, \"colorscale\": [[0.0, \"#0d0887\"], [0.1111111111111111, \"#46039f\"], [0.2222222222222222, \"#7201a8\"], [0.3333333333333333, \"#9c179e\"], [0.4444444444444444, \"#bd3786\"], [0.5555555555555556, \"#d8576b\"], [0.6666666666666666, \"#ed7953\"], [0.7777777777777778, \"#fb9f3a\"], [0.8888888888888888, \"#fdca26\"], [1.0, \"#f0f921\"]], \"type\": \"histogram2d\"}], \"histogram2dcontour\": [{\"colorbar\": {\"outlinewidth\": 0, \"ticks\": \"\"}, \"colorscale\": [[0.0, \"#0d0887\"], [0.1111111111111111, \"#46039f\"], [0.2222222222222222, \"#7201a8\"], [0.3333333333333333, \"#9c179e\"], [0.4444444444444444, \"#bd3786\"], [0.5555555555555556, \"#d8576b\"], [0.6666666666666666, \"#ed7953\"], [0.7777777777777778, \"#fb9f3a\"], [0.8888888888888888, \"#fdca26\"], [1.0, \"#f0f921\"]], \"type\": \"histogram2dcontour\"}], \"mesh3d\": [{\"colorbar\": {\"outlinewidth\": 0, \"ticks\": \"\"}, \"type\": \"mesh3d\"}], \"parcoords\": [{\"line\": {\"colorbar\": {\"outlinewidth\": 0, \"ticks\": \"\"}}, \"type\": \"parcoords\"}], \"pie\": [{\"automargin\": true, \"type\": \"pie\"}], \"scatter\": [{\"marker\": {\"colorbar\": {\"outlinewidth\": 0, \"ticks\": \"\"}}, \"type\": \"scatter\"}], \"scatter3d\": [{\"line\": {\"colorbar\": {\"outlinewidth\": 0, \"ticks\": \"\"}}, \"marker\": {\"colorbar\": {\"outlinewidth\": 0, \"ticks\": \"\"}}, \"type\": \"scatter3d\"}], \"scattercarpet\": [{\"marker\": {\"colorbar\": {\"outlinewidth\": 0, \"ticks\": \"\"}}, \"type\": \"scattercarpet\"}], \"scattergeo\": [{\"marker\": {\"colorbar\": {\"outlinewidth\": 0, \"ticks\": \"\"}}, \"type\": \"scattergeo\"}], \"scattergl\": [{\"marker\": {\"colorbar\": {\"outlinewidth\": 0, \"ticks\": \"\"}}, \"type\": \"scattergl\"}], \"scattermapbox\": [{\"marker\": {\"colorbar\": {\"outlinewidth\": 0, \"ticks\": \"\"}}, \"type\": \"scattermapbox\"}], \"scatterpolar\": [{\"marker\": {\"colorbar\": {\"outlinewidth\": 0, \"ticks\": \"\"}}, \"type\": \"scatterpolar\"}], \"scatterpolargl\": [{\"marker\": {\"colorbar\": {\"outlinewidth\": 0, \"ticks\": \"\"}}, \"type\": \"scatterpolargl\"}], \"scatterternary\": [{\"marker\": {\"colorbar\": {\"outlinewidth\": 0, \"ticks\": \"\"}}, \"type\": \"scatterternary\"}], \"surface\": [{\"colorbar\": {\"outlinewidth\": 0, \"ticks\": \"\"}, \"colorscale\": [[0.0, \"#0d0887\"], [0.1111111111111111, \"#46039f\"], [0.2222222222222222, \"#7201a8\"], [0.3333333333333333, \"#9c179e\"], [0.4444444444444444, \"#bd3786\"], [0.5555555555555556, \"#d8576b\"], [0.6666666666666666, \"#ed7953\"], [0.7777777777777778, \"#fb9f3a\"], [0.8888888888888888, \"#fdca26\"], [1.0, \"#f0f921\"]], \"type\": \"surface\"}], \"table\": [{\"cells\": {\"fill\": {\"color\": \"#EBF0F8\"}, \"line\": {\"color\": \"white\"}}, \"header\": {\"fill\": {\"color\": \"#C8D4E3\"}, \"line\": {\"color\": \"white\"}}, \"type\": \"table\"}]}, \"layout\": {\"annotationdefaults\": {\"arrowcolor\": \"#2a3f5f\", \"arrowhead\": 0, \"arrowwidth\": 1}, \"coloraxis\": {\"colorbar\": {\"outlinewidth\": 0, \"ticks\": \"\"}}, \"colorscale\": {\"diverging\": [[0, \"#8e0152\"], [0.1, \"#c51b7d\"], [0.2, \"#de77ae\"], [0.3, \"#f1b6da\"], [0.4, \"#fde0ef\"], [0.5, \"#f7f7f7\"], [0.6, \"#e6f5d0\"], [0.7, \"#b8e186\"], [0.8, \"#7fbc41\"], [0.9, \"#4d9221\"], [1, \"#276419\"]], \"sequential\": [[0.0, \"#0d0887\"], [0.1111111111111111, \"#46039f\"], [0.2222222222222222, \"#7201a8\"], [0.3333333333333333, \"#9c179e\"], [0.4444444444444444, \"#bd3786\"], [0.5555555555555556, \"#d8576b\"], [0.6666666666666666, \"#ed7953\"], [0.7777777777777778, \"#fb9f3a\"], [0.8888888888888888, \"#fdca26\"], [1.0, \"#f0f921\"]], \"sequentialminus\": [[0.0, \"#0d0887\"], [0.1111111111111111, \"#46039f\"], [0.2222222222222222, \"#7201a8\"], [0.3333333333333333, \"#9c179e\"], [0.4444444444444444, \"#bd3786\"], [0.5555555555555556, \"#d8576b\"], [0.6666666666666666, \"#ed7953\"], [0.7777777777777778, \"#fb9f3a\"], [0.8888888888888888, \"#fdca26\"], [1.0, \"#f0f921\"]]}, \"colorway\": [\"#636efa\", \"#EF553B\", \"#00cc96\", \"#ab63fa\", \"#FFA15A\", \"#19d3f3\", \"#FF6692\", \"#B6E880\", \"#FF97FF\", \"#FECB52\"], \"font\": {\"color\": \"#2a3f5f\"}, \"geo\": {\"bgcolor\": \"white\", \"lakecolor\": \"white\", \"landcolor\": \"#E5ECF6\", \"showlakes\": true, \"showland\": true, \"subunitcolor\": \"white\"}, \"hoverlabel\": {\"align\": \"left\"}, \"hovermode\": \"closest\", \"mapbox\": {\"style\": \"light\"}, \"paper_bgcolor\": \"white\", \"plot_bgcolor\": \"#E5ECF6\", \"polar\": {\"angularaxis\": {\"gridcolor\": \"white\", \"linecolor\": \"white\", \"ticks\": \"\"}, \"bgcolor\": \"#E5ECF6\", \"radialaxis\": {\"gridcolor\": \"white\", \"linecolor\": \"white\", \"ticks\": \"\"}}, \"scene\": {\"xaxis\": {\"backgroundcolor\": \"#E5ECF6\", \"gridcolor\": \"white\", \"gridwidth\": 2, \"linecolor\": \"white\", \"showbackground\": true, \"ticks\": \"\", \"zerolinecolor\": \"white\"}, \"yaxis\": {\"backgroundcolor\": \"#E5ECF6\", \"gridcolor\": \"white\", \"gridwidth\": 2, \"linecolor\": \"white\", \"showbackground\": true, \"ticks\": \"\", \"zerolinecolor\": \"white\"}, \"zaxis\": {\"backgroundcolor\": \"#E5ECF6\", \"gridcolor\": \"white\", \"gridwidth\": 2, \"linecolor\": \"white\", \"showbackground\": true, \"ticks\": \"\", \"zerolinecolor\": \"white\"}}, \"shapedefaults\": {\"line\": {\"color\": \"#2a3f5f\"}}, \"ternary\": {\"aaxis\": {\"gridcolor\": \"white\", \"linecolor\": \"white\", \"ticks\": \"\"}, \"baxis\": {\"gridcolor\": \"white\", \"linecolor\": \"white\", \"ticks\": \"\"}, \"bgcolor\": \"#E5ECF6\", \"caxis\": {\"gridcolor\": \"white\", \"linecolor\": \"white\", \"ticks\": \"\"}}, \"title\": {\"x\": 0.05}, \"xaxis\": {\"automargin\": true, \"gridcolor\": \"white\", \"linecolor\": \"white\", \"ticks\": \"\", \"title\": {\"standoff\": 15}, \"zerolinecolor\": \"white\", \"zerolinewidth\": 2}, \"yaxis\": {\"automargin\": true, \"gridcolor\": \"white\", \"linecolor\": \"white\", \"ticks\": \"\", \"title\": {\"standoff\": 15}, \"zerolinecolor\": \"white\", \"zerolinewidth\": 2}}}, \"title\": {\"text\": \"\\uac00\\uc7a5 \\ub450\\ub4dc\\ub7ec\\uc9c0\\uac8c \\ub098\\ud0c0\\ub09c \\uac10\\uc815\"}},\n",
              "                        {\"responsive\": true}\n",
              "                    ).then(function(){\n",
              "                            \n",
              "var gd = document.getElementById('94bbfc97-4bc2-4c2a-8b02-0d829a2bbcb2');\n",
              "var x = new MutationObserver(function (mutations, observer) {{\n",
              "        var display = window.getComputedStyle(gd).display;\n",
              "        if (!display || display === 'none') {{\n",
              "            console.log([gd, 'removed!']);\n",
              "            Plotly.purge(gd);\n",
              "            observer.disconnect();\n",
              "        }}\n",
              "}});\n",
              "\n",
              "// Listen for the removal of the full notebook cells\n",
              "var notebookContainer = gd.closest('#notebook-container');\n",
              "if (notebookContainer) {{\n",
              "    x.observe(notebookContainer, {childList: true});\n",
              "}}\n",
              "\n",
              "// Listen for the clearing of the current output cell\n",
              "var outputEl = gd.closest('.output');\n",
              "if (outputEl) {{\n",
              "    x.observe(outputEl, {childList: true});\n",
              "}}\n",
              "\n",
              "                        })\n",
              "                };\n",
              "                \n",
              "            </script>\n",
              "        </div>\n",
              "</body>\n",
              "</html>"
            ]
          },
          "metadata": {
            "tags": []
          }
        }
      ]
    },
    {
      "cell_type": "code",
      "metadata": {
        "colab": {
          "base_uri": "https://localhost:8080/",
          "height": 542
        },
        "id": "K_7nBEkJ6YIe",
        "outputId": "fda8f774-af05-4347-ca64-76ed97b564f1"
      },
      "source": [
        "# Bar chart\n",
        "fig = px.bar(emotions, x=emotions.index, y=emotions, title=\"가장 두드러지게 나타난 감정\")\n",
        "fig.show()"
      ],
      "execution_count": null,
      "outputs": [
        {
          "output_type": "display_data",
          "data": {
            "text/html": [
              "<html>\n",
              "<head><meta charset=\"utf-8\" /></head>\n",
              "<body>\n",
              "    <div>\n",
              "            <script src=\"https://cdnjs.cloudflare.com/ajax/libs/mathjax/2.7.5/MathJax.js?config=TeX-AMS-MML_SVG\"></script><script type=\"text/javascript\">if (window.MathJax) {MathJax.Hub.Config({SVG: {font: \"STIX-Web\"}});}</script>\n",
              "                <script type=\"text/javascript\">window.PlotlyConfig = {MathJaxConfig: 'local'};</script>\n",
              "        <script src=\"https://cdn.plot.ly/plotly-latest.min.js\"></script>    \n",
              "            <div id=\"fa0765bd-a0eb-4b25-a970-b02163f8b9da\" class=\"plotly-graph-div\" style=\"height:525px; width:100%;\"></div>\n",
              "            <script type=\"text/javascript\">\n",
              "                \n",
              "                    window.PLOTLYENV=window.PLOTLYENV || {};\n",
              "                    \n",
              "                if (document.getElementById(\"fa0765bd-a0eb-4b25-a970-b02163f8b9da\")) {\n",
              "                    Plotly.newPlot(\n",
              "                        'fa0765bd-a0eb-4b25-a970-b02163f8b9da',\n",
              "                        [{\"alignmentgroup\": \"True\", \"hoverlabel\": {\"namelength\": 0}, \"hovertemplate\": \"x=%{x}<br>y=%{y}\", \"legendgroup\": \"\", \"marker\": {\"color\": \"#636efa\"}, \"name\": \"\", \"offsetgroup\": \"\", \"orientation\": \"v\", \"showlegend\": false, \"textposition\": \"auto\", \"type\": \"bar\", \"x\": [\"\\uc6c3\\uc74c\", \"\\uadf9\\ucc2c\", \"\\uae30\\uc068\", \"\\ud765\\ubbf8\", \"\\ud610\\uc624\", \"\\ubb34\\uc2ec\", \"\\uc2ac\\ud514\"], \"xaxis\": \"x\", \"y\": [3127, 2219, 1726, 1343, 1295, 989, 958], \"yaxis\": \"y\"}],\n",
              "                        {\"barmode\": \"relative\", \"legend\": {\"tracegroupgap\": 0}, \"template\": {\"data\": {\"bar\": [{\"error_x\": {\"color\": \"#2a3f5f\"}, \"error_y\": {\"color\": \"#2a3f5f\"}, \"marker\": {\"line\": {\"color\": \"#E5ECF6\", \"width\": 0.5}}, \"type\": \"bar\"}], \"barpolar\": [{\"marker\": {\"line\": {\"color\": \"#E5ECF6\", \"width\": 0.5}}, \"type\": \"barpolar\"}], \"carpet\": [{\"aaxis\": {\"endlinecolor\": \"#2a3f5f\", \"gridcolor\": \"white\", \"linecolor\": \"white\", \"minorgridcolor\": \"white\", \"startlinecolor\": \"#2a3f5f\"}, \"baxis\": {\"endlinecolor\": \"#2a3f5f\", \"gridcolor\": \"white\", \"linecolor\": \"white\", \"minorgridcolor\": \"white\", \"startlinecolor\": \"#2a3f5f\"}, \"type\": \"carpet\"}], \"choropleth\": [{\"colorbar\": {\"outlinewidth\": 0, \"ticks\": \"\"}, \"type\": \"choropleth\"}], \"contour\": [{\"colorbar\": {\"outlinewidth\": 0, \"ticks\": \"\"}, \"colorscale\": [[0.0, \"#0d0887\"], [0.1111111111111111, \"#46039f\"], [0.2222222222222222, \"#7201a8\"], [0.3333333333333333, \"#9c179e\"], [0.4444444444444444, \"#bd3786\"], [0.5555555555555556, \"#d8576b\"], [0.6666666666666666, \"#ed7953\"], [0.7777777777777778, \"#fb9f3a\"], [0.8888888888888888, \"#fdca26\"], [1.0, \"#f0f921\"]], \"type\": \"contour\"}], \"contourcarpet\": [{\"colorbar\": {\"outlinewidth\": 0, \"ticks\": \"\"}, \"type\": \"contourcarpet\"}], \"heatmap\": [{\"colorbar\": {\"outlinewidth\": 0, \"ticks\": \"\"}, \"colorscale\": [[0.0, \"#0d0887\"], [0.1111111111111111, \"#46039f\"], [0.2222222222222222, \"#7201a8\"], [0.3333333333333333, \"#9c179e\"], [0.4444444444444444, \"#bd3786\"], [0.5555555555555556, \"#d8576b\"], [0.6666666666666666, \"#ed7953\"], [0.7777777777777778, \"#fb9f3a\"], [0.8888888888888888, \"#fdca26\"], [1.0, \"#f0f921\"]], \"type\": \"heatmap\"}], \"heatmapgl\": [{\"colorbar\": {\"outlinewidth\": 0, \"ticks\": \"\"}, \"colorscale\": [[0.0, \"#0d0887\"], [0.1111111111111111, \"#46039f\"], [0.2222222222222222, \"#7201a8\"], [0.3333333333333333, \"#9c179e\"], [0.4444444444444444, \"#bd3786\"], [0.5555555555555556, \"#d8576b\"], [0.6666666666666666, \"#ed7953\"], [0.7777777777777778, \"#fb9f3a\"], [0.8888888888888888, \"#fdca26\"], [1.0, \"#f0f921\"]], \"type\": \"heatmapgl\"}], \"histogram\": [{\"marker\": {\"colorbar\": {\"outlinewidth\": 0, \"ticks\": \"\"}}, \"type\": \"histogram\"}], \"histogram2d\": [{\"colorbar\": {\"outlinewidth\": 0, \"ticks\": \"\"}, \"colorscale\": [[0.0, \"#0d0887\"], [0.1111111111111111, \"#46039f\"], [0.2222222222222222, \"#7201a8\"], [0.3333333333333333, \"#9c179e\"], [0.4444444444444444, \"#bd3786\"], [0.5555555555555556, \"#d8576b\"], [0.6666666666666666, \"#ed7953\"], [0.7777777777777778, \"#fb9f3a\"], [0.8888888888888888, \"#fdca26\"], [1.0, \"#f0f921\"]], \"type\": \"histogram2d\"}], \"histogram2dcontour\": [{\"colorbar\": {\"outlinewidth\": 0, \"ticks\": \"\"}, \"colorscale\": [[0.0, \"#0d0887\"], [0.1111111111111111, \"#46039f\"], [0.2222222222222222, \"#7201a8\"], [0.3333333333333333, \"#9c179e\"], [0.4444444444444444, \"#bd3786\"], [0.5555555555555556, \"#d8576b\"], [0.6666666666666666, \"#ed7953\"], [0.7777777777777778, \"#fb9f3a\"], [0.8888888888888888, \"#fdca26\"], [1.0, \"#f0f921\"]], \"type\": \"histogram2dcontour\"}], \"mesh3d\": [{\"colorbar\": {\"outlinewidth\": 0, \"ticks\": \"\"}, \"type\": \"mesh3d\"}], \"parcoords\": [{\"line\": {\"colorbar\": {\"outlinewidth\": 0, \"ticks\": \"\"}}, \"type\": \"parcoords\"}], \"pie\": [{\"automargin\": true, \"type\": \"pie\"}], \"scatter\": [{\"marker\": {\"colorbar\": {\"outlinewidth\": 0, \"ticks\": \"\"}}, \"type\": \"scatter\"}], \"scatter3d\": [{\"line\": {\"colorbar\": {\"outlinewidth\": 0, \"ticks\": \"\"}}, \"marker\": {\"colorbar\": {\"outlinewidth\": 0, \"ticks\": \"\"}}, \"type\": \"scatter3d\"}], \"scattercarpet\": [{\"marker\": {\"colorbar\": {\"outlinewidth\": 0, \"ticks\": \"\"}}, \"type\": \"scattercarpet\"}], \"scattergeo\": [{\"marker\": {\"colorbar\": {\"outlinewidth\": 0, \"ticks\": \"\"}}, \"type\": \"scattergeo\"}], \"scattergl\": [{\"marker\": {\"colorbar\": {\"outlinewidth\": 0, \"ticks\": \"\"}}, \"type\": \"scattergl\"}], \"scattermapbox\": [{\"marker\": {\"colorbar\": {\"outlinewidth\": 0, \"ticks\": \"\"}}, \"type\": \"scattermapbox\"}], \"scatterpolar\": [{\"marker\": {\"colorbar\": {\"outlinewidth\": 0, \"ticks\": \"\"}}, \"type\": \"scatterpolar\"}], \"scatterpolargl\": [{\"marker\": {\"colorbar\": {\"outlinewidth\": 0, \"ticks\": \"\"}}, \"type\": \"scatterpolargl\"}], \"scatterternary\": [{\"marker\": {\"colorbar\": {\"outlinewidth\": 0, \"ticks\": \"\"}}, \"type\": \"scatterternary\"}], \"surface\": [{\"colorbar\": {\"outlinewidth\": 0, \"ticks\": \"\"}, \"colorscale\": [[0.0, \"#0d0887\"], [0.1111111111111111, \"#46039f\"], [0.2222222222222222, \"#7201a8\"], [0.3333333333333333, \"#9c179e\"], [0.4444444444444444, \"#bd3786\"], [0.5555555555555556, \"#d8576b\"], [0.6666666666666666, \"#ed7953\"], [0.7777777777777778, \"#fb9f3a\"], [0.8888888888888888, \"#fdca26\"], [1.0, \"#f0f921\"]], \"type\": \"surface\"}], \"table\": [{\"cells\": {\"fill\": {\"color\": \"#EBF0F8\"}, \"line\": {\"color\": \"white\"}}, \"header\": {\"fill\": {\"color\": \"#C8D4E3\"}, \"line\": {\"color\": \"white\"}}, \"type\": \"table\"}]}, \"layout\": {\"annotationdefaults\": {\"arrowcolor\": \"#2a3f5f\", \"arrowhead\": 0, \"arrowwidth\": 1}, \"coloraxis\": {\"colorbar\": {\"outlinewidth\": 0, \"ticks\": \"\"}}, \"colorscale\": {\"diverging\": [[0, \"#8e0152\"], [0.1, \"#c51b7d\"], [0.2, \"#de77ae\"], [0.3, \"#f1b6da\"], [0.4, \"#fde0ef\"], [0.5, \"#f7f7f7\"], [0.6, \"#e6f5d0\"], [0.7, \"#b8e186\"], [0.8, \"#7fbc41\"], [0.9, \"#4d9221\"], [1, \"#276419\"]], \"sequential\": [[0.0, \"#0d0887\"], [0.1111111111111111, \"#46039f\"], [0.2222222222222222, \"#7201a8\"], [0.3333333333333333, \"#9c179e\"], [0.4444444444444444, \"#bd3786\"], [0.5555555555555556, \"#d8576b\"], [0.6666666666666666, \"#ed7953\"], [0.7777777777777778, \"#fb9f3a\"], [0.8888888888888888, \"#fdca26\"], [1.0, \"#f0f921\"]], \"sequentialminus\": [[0.0, \"#0d0887\"], [0.1111111111111111, \"#46039f\"], [0.2222222222222222, \"#7201a8\"], [0.3333333333333333, \"#9c179e\"], [0.4444444444444444, \"#bd3786\"], [0.5555555555555556, \"#d8576b\"], [0.6666666666666666, \"#ed7953\"], [0.7777777777777778, \"#fb9f3a\"], [0.8888888888888888, \"#fdca26\"], [1.0, \"#f0f921\"]]}, \"colorway\": [\"#636efa\", \"#EF553B\", \"#00cc96\", \"#ab63fa\", \"#FFA15A\", \"#19d3f3\", \"#FF6692\", \"#B6E880\", \"#FF97FF\", \"#FECB52\"], \"font\": {\"color\": \"#2a3f5f\"}, \"geo\": {\"bgcolor\": \"white\", \"lakecolor\": \"white\", \"landcolor\": \"#E5ECF6\", \"showlakes\": true, \"showland\": true, \"subunitcolor\": \"white\"}, \"hoverlabel\": {\"align\": \"left\"}, \"hovermode\": \"closest\", \"mapbox\": {\"style\": \"light\"}, \"paper_bgcolor\": \"white\", \"plot_bgcolor\": \"#E5ECF6\", \"polar\": {\"angularaxis\": {\"gridcolor\": \"white\", \"linecolor\": \"white\", \"ticks\": \"\"}, \"bgcolor\": \"#E5ECF6\", \"radialaxis\": {\"gridcolor\": \"white\", \"linecolor\": \"white\", \"ticks\": \"\"}}, \"scene\": {\"xaxis\": {\"backgroundcolor\": \"#E5ECF6\", \"gridcolor\": \"white\", \"gridwidth\": 2, \"linecolor\": \"white\", \"showbackground\": true, \"ticks\": \"\", \"zerolinecolor\": \"white\"}, \"yaxis\": {\"backgroundcolor\": \"#E5ECF6\", \"gridcolor\": \"white\", \"gridwidth\": 2, \"linecolor\": \"white\", \"showbackground\": true, \"ticks\": \"\", \"zerolinecolor\": \"white\"}, \"zaxis\": {\"backgroundcolor\": \"#E5ECF6\", \"gridcolor\": \"white\", \"gridwidth\": 2, \"linecolor\": \"white\", \"showbackground\": true, \"ticks\": \"\", \"zerolinecolor\": \"white\"}}, \"shapedefaults\": {\"line\": {\"color\": \"#2a3f5f\"}}, \"ternary\": {\"aaxis\": {\"gridcolor\": \"white\", \"linecolor\": \"white\", \"ticks\": \"\"}, \"baxis\": {\"gridcolor\": \"white\", \"linecolor\": \"white\", \"ticks\": \"\"}, \"bgcolor\": \"#E5ECF6\", \"caxis\": {\"gridcolor\": \"white\", \"linecolor\": \"white\", \"ticks\": \"\"}}, \"title\": {\"x\": 0.05}, \"xaxis\": {\"automargin\": true, \"gridcolor\": \"white\", \"linecolor\": \"white\", \"ticks\": \"\", \"title\": {\"standoff\": 15}, \"zerolinecolor\": \"white\", \"zerolinewidth\": 2}, \"yaxis\": {\"automargin\": true, \"gridcolor\": \"white\", \"linecolor\": \"white\", \"ticks\": \"\", \"title\": {\"standoff\": 15}, \"zerolinecolor\": \"white\", \"zerolinewidth\": 2}}}, \"title\": {\"text\": \"\\uac00\\uc7a5 \\ub450\\ub4dc\\ub7ec\\uc9c0\\uac8c \\ub098\\ud0c0\\ub09c \\uac10\\uc815\"}, \"xaxis\": {\"anchor\": \"y\", \"domain\": [0.0, 1.0], \"title\": {\"text\": \"x\"}}, \"yaxis\": {\"anchor\": \"x\", \"domain\": [0.0, 1.0], \"title\": {\"text\": \"y\"}}},\n",
              "                        {\"responsive\": true}\n",
              "                    ).then(function(){\n",
              "                            \n",
              "var gd = document.getElementById('fa0765bd-a0eb-4b25-a970-b02163f8b9da');\n",
              "var x = new MutationObserver(function (mutations, observer) {{\n",
              "        var display = window.getComputedStyle(gd).display;\n",
              "        if (!display || display === 'none') {{\n",
              "            console.log([gd, 'removed!']);\n",
              "            Plotly.purge(gd);\n",
              "            observer.disconnect();\n",
              "        }}\n",
              "}});\n",
              "\n",
              "// Listen for the removal of the full notebook cells\n",
              "var notebookContainer = gd.closest('#notebook-container');\n",
              "if (notebookContainer) {{\n",
              "    x.observe(notebookContainer, {childList: true});\n",
              "}}\n",
              "\n",
              "// Listen for the clearing of the current output cell\n",
              "var outputEl = gd.closest('.output');\n",
              "if (outputEl) {{\n",
              "    x.observe(outputEl, {childList: true});\n",
              "}}\n",
              "\n",
              "                        })\n",
              "                };\n",
              "                \n",
              "            </script>\n",
              "        </div>\n",
              "</body>\n",
              "</html>"
            ]
          },
          "metadata": {
            "tags": []
          }
        }
      ]
    },
    {
      "cell_type": "markdown",
      "metadata": {
        "id": "iVVjqtjYAMRo"
      },
      "source": [
        "가장 많이 나온 키워드들을 바탕으로 정리해본 결과, \"ㅋㅋㅋ\", \"ㅋㅋ\" 등의 의성어로 대표되는 웃음의 감정이 가장 두드러지게 드러났다. 일상 생활에서도 이러한 용어는 무언가 재치있거나 재미있는 것을 발견했을 때 자주 사용이 된다는 것을 감안하면, 아마 재미위주의 B급 감성 코미디 컨텐츠가 이러한 반응을 주로 이끌어내었을 것이다. \n",
        "\n",
        "또한 \"최고의\"라는 용어는 \"극찬\"의 표현으로써, 어떠한 분야에서 가장 두드러지거나 굉장한 평가를 이끌어냈을 때 쓰는 말이다. 요즘에는 \"최고의 액션 영화\", \"최고의 판타지 영화\", \"올해 최고의 영화\" 등 무언가 특정한 장르에서 상당히 좋게 평가되는 장르의 영화들을 이런식으로 많이 지칭한다. 그렇다는 것은, 아무래도 사람들의 입소문을 타고 유명해진 영화들이나, 일반 사람들도 워낙 유명해 많이 들어본 영화들이 아무래도 이러한 평가를 받았을 수 있다. 예를 들어, <미션 임파서블> 시리즈 같은 액션 영화, <반지의 제왕> 같은 판타지 영화, 거장 크리스토퍼 놀란 감독의 대작 <인터스텔라>나, 또는 최근에 아카데미에서 극찬을 받은 우리나라 영화 <기생충>등, 특정 장르를 대표하거나 감독의 색깔이 두드러지게 드러나는 영화들이 있을 수 있다. \n",
        "\n",
        "또한 다음 감정으로 \"기쁨\"과 \"흥미\"가 두드러지게 나왔는데, 아무래도 관객으로 하여금 흥미진진한 스토리나 반전 등의 영화로 무장하거나, 권선징악의 다소 진부한 형태를 따르더라도 흥미로운 스토리로 전개되는 영화들에 이런 반응을 보일 수 있다. 엄청나게 큰 제작비로 만들어진 것은 아니지만, 탄탄한 스토리로 어필하는 부류의 영화들, 예를 들어, 이전에 언급한 <기생충>, 지금까지도 많이 회자되는 <노인을 위한 나라는 없다>, 또는 스티븐 스필버그 감독의 역작 < A.I > 같은 영화를 예로 들 수 있다.\n",
        "\n",
        "또한 이전에 \"좋은\"이라는 키워드도 많이 나왔다는 것을 확인했다. 일반적으로 \"좋은 영화\"라고 이야기 할때 대부분 단순히 재미를 떠나 관객으로 하여금 어떠한 메시지를 주는 영화들이 있을 수 있다. 내가 최근에 본 < 굿윌헌팅(Good Will Hunting)>, <트루먼 쇼(Truman Show)>, <델마와 루이스(Thelma and Louise)>같은, 흥미로운 스토리를 가지면서도 어떠한 메시지가 담긴 영화들이 될 수 있다.  \n",
        "\n",
        "\"혐오\"와 \"무심\"같은 부정적인 감정은 전체에서 약 20%가까이 나왔는데, 그만큼 자신들이 본 콘텐츠에 대해 거부감을 갖거나 만족하지 못한 사람도 많았다는 것을 알려준다. 영화 리뷰를 평소 관심있게 보다보면, 개봉전 부터 큰 기대를 안고 보았으나, 영화가 생각만큼 재미가 없었을 때 이런 반응이 자주 나오곤 한다. 주로 많은 기대를 받고 상당한 비용을 들여 재작했으나, 그 기대에 한참 미치지 못한 블록버스터 급의 영화들에서 이런 반응이 많이 나올 수 있다. 예를 들어 실사화된 <드래곤 볼>, DC코믹스의 히어로들의 세계관을 보여준 <저스티스 리그>, 우리나라에서도 많은 악평을 낳은 영화 < 7광구 > 등이 대표적으로 이러한 반응을 이끌어 냈을 영화들이었을 수 있다. 즉, 소위 마케팅만 잘 된 속빈 강정같은 작품을 본 후에 이런 감정들이 생기기 쉽다. 이러한 감정들은 아무래도 왓챠의 비즈니스에 있어서 부정적인 감정들이고, 20%의 숫자는 적지 않기 때문에, 이러한 반응을 이끌어 낼만한 완성도가 떨어지는 영화들에 대해서는 판권 계약의 우선 순위에서 조금 더 뒤로 미룰 필요가 있다. \n",
        "\n",
        "마지막으로 \"슬픔\"의 감정도 존재했는데, 정말 감동적이면서 눈물 샘을 자극하는 영화들이 이런 감정을 이끌어 냈을 수 있다. 재미있으면서도 감동적이기로 유명했던 영화 < 7번방의 선물 >, 한 아버지의 눈물겨운 성장스토리인 <행복을 찾아서>, 로맨틱의 끝판왕 <타이타닉>과 같은 영화들이 사람들의 눈물 샘을 많이 자극한 대표적인 영화라고 할 수 있다. \n",
        "\n",
        "지금까지 키워드로 언급된 감정들과, 각 감정을 이끌어낼 수 있는 영화들을 예로들었다. 예를 든 것처럼 왓챠에서도 만약 이러한 감정 키워드들과 관련이 깊은 영화들을 정리해서 추천한다면, 훨씬 더 이러한 감정들을 자극할 수 있을 것이다. 각 감정을 좀 더 느끼길 원하는 유저들의 만족도를 조금 더 끌어올리면서 유저들에게 좀 더 최적화된 컨텐츠를 제공할 수 있을 것이다. \n",
        "\n",
        "\n"
      ]
    },
    {
      "cell_type": "markdown",
      "metadata": {
        "id": "bDPHVOoic4ag"
      },
      "source": [
        "# 3. 모델링\n",
        "\n",
        "## 3.1 모델링을 위한 준비\n",
        "\n",
        "이제는 \"대체로 왓챠의 고객들은 콘텐츠에 만족한다.\"라는 가설을 시험하기 위해 모델링을 준비해야한다. BERT모델에 맞게 인코딩 및 표준화 작업이 필요하다. 이 모델은 Transformer 모델을 기반으로 한다."
      ]
    },
    {
      "cell_type": "markdown",
      "metadata": {
        "id": "KwxuqozIdsFK"
      },
      "source": [
        "다음으로 이 모델을 사용하기 위해 PyTorch가 필요하다. 또한, Transformer 모듈에서 Bert를 사용하기 위한 메소드들을 불러와야한다."
      ]
    },
    {
      "cell_type": "code",
      "metadata": {
        "id": "7hr1BGMKdeX3"
      },
      "source": [
        "# Bert 사용에 필요한 모듈 불러오기\n",
        "import torch\n",
        "\n",
        "from transformers import BertTokenizer\n",
        "from transformers import BertForSequenceClassification, AdamW, Adafactor, BertConfig\n",
        "from transformers import get_linear_schedule_with_warmup\n",
        "from torch.utils.data import TensorDataset, DataLoader, RandomSampler, SequentialSampler\n",
        "from keras.preprocessing.sequence import pad_sequences\n",
        "from sklearn.model_selection import train_test_split\n",
        "\n",
        "import pandas as pd\n",
        "import numpy as np\n",
        "import random\n",
        "import time\n",
        "import datetime"
      ],
      "execution_count": null,
      "outputs": []
    },
    {
      "cell_type": "markdown",
      "metadata": {
        "id": "N8eyi6pBd9iC"
      },
      "source": [
        "Bert를 위해 조금 더 파워풀한 GPU를 사용해야한다. GPU가 사용되는지 확인한다."
      ]
    },
    {
      "cell_type": "code",
      "metadata": {
        "colab": {
          "base_uri": "https://localhost:8080/"
        },
        "id": "91H3gfmLd3wQ",
        "outputId": "6f22f418-1eef-41f7-bf2f-b9c84211e015"
      },
      "source": [
        "import os\n",
        "\n",
        "n_devices = torch.cuda.device_count()\n",
        "print(n_devices)\n",
        "\n",
        "for i in range(n_devices):\n",
        "    print(torch.cuda.get_device_name(i))"
      ],
      "execution_count": null,
      "outputs": [
        {
          "output_type": "stream",
          "text": [
            "1\n",
            "Tesla T4\n"
          ],
          "name": "stdout"
        }
      ]
    },
    {
      "cell_type": "markdown",
      "metadata": {
        "id": "USGytNG3eTFe"
      },
      "source": [
        "BERT는 문장의 앞에 [CLS]를 붙이고, 끝에는 [SEP]을 붙여 처리를 해 주어야한다. 그러므로 반복문 등을 활용하여 처리해 주어야한다. "
      ]
    },
    {
      "cell_type": "code",
      "metadata": {
        "colab": {
          "base_uri": "https://localhost:8080/"
        },
        "id": "aLX22pv3eIq-",
        "outputId": "c32694b6-3d0f-48b4-d23e-c9381474cff5"
      },
      "source": [
        "# BERT에 맞는 Tag 달아주기\n",
        "bert_text = []\n",
        "\n",
        "for i in train_data['document']:\n",
        "  bert = [\"[CLS] \" + str(i) + \" [SEP]\"]\n",
        "  bert_text.append(bert)\n",
        "\n",
        "bert_text[:5]"
      ],
      "execution_count": null,
      "outputs": [
        {
          "output_type": "execute_result",
          "data": {
            "text/plain": [
              "[['[CLS] 아 더빙.. 진짜 짜증나네요 목소리 [SEP]'],\n",
              " ['[CLS] 흠...포스터보고 초딩영화줄....오버연기조차 가볍지 않구나 [SEP]'],\n",
              " ['[CLS] 너무재밓었다그래서보는것을추천한다 [SEP]'],\n",
              " ['[CLS] 교도소 이야기구먼 ..솔직히 재미는 없다..평점 조정 [SEP]'],\n",
              " ['[CLS] 사이몬페그의 익살스런 연기가 돋보였던 영화!스파이더맨에서 늙어보이기만 했던 커스틴 던스트가 너무나도 이뻐보였다 [SEP]']]"
            ]
          },
          "metadata": {
            "tags": []
          },
          "execution_count": 42
        }
      ]
    },
    {
      "cell_type": "code",
      "metadata": {
        "colab": {
          "base_uri": "https://localhost:8080/"
        },
        "id": "MtsQdrrU6Fdj",
        "outputId": "d213f483-0633-4b67-9b7f-525bab8bf5db"
      },
      "source": [
        "test_text = []\n",
        "\n",
        "for i in test_data['document']:\n",
        "  bert = [\"[CLS] \" + str(i) + \" [SEP]\"]\n",
        "  test_text.append(bert)\n",
        "\n",
        "test_text[:5]"
      ],
      "execution_count": null,
      "outputs": [
        {
          "output_type": "execute_result",
          "data": {
            "text/plain": [
              "[['[CLS] 굳 ㅋ [SEP]'],\n",
              " ['[CLS] GDNTOPCLASSINTHECLUB [SEP]'],\n",
              " ['[CLS] 뭐야 이 평점들은.... 나쁘진 않지만 10점 짜리는 더더욱 아니잖아 [SEP]'],\n",
              " ['[CLS] 지루하지는 않은데 완전 막장임... 돈주고 보기에는.... [SEP]'],\n",
              " ['[CLS] 3D만 아니었어도 별 다섯 개 줬을텐데.. 왜 3D로 나와서 제 심기를 불편하게 하죠?? [SEP]']]"
            ]
          },
          "metadata": {
            "tags": []
          },
          "execution_count": 43
        }
      ]
    },
    {
      "cell_type": "markdown",
      "metadata": {
        "id": "CTVdThggxov_"
      },
      "source": [
        "이전 단계에서 이미 토큰화된 것을 사용하면 좋겠지만, 위와 같이 CLS 및 SEP 태그를 달아주어야 했기 때문에, 최초의 데이터를 활용했다. 이번에는 Bert multilingual 모델에 있는 tokenizer를 활용하여 토큰화한다."
      ]
    },
    {
      "cell_type": "code",
      "metadata": {
        "colab": {
          "base_uri": "https://localhost:8080/",
          "height": 104,
          "referenced_widgets": [
            "18e558b453b141e083810144ba90308a",
            "e62623e9db2c4d8f8c3d47af59bb8eb8",
            "d217be75d7e34e698df619474f62f438",
            "b658d6e43ee74b1e87a4d150eca5908a",
            "f73fe17bbec14c61a0971a1b19802cf6",
            "48f11cad166443a08643bd01b35bfea3",
            "303684817dfe4431ac08e805d283b816",
            "52bf8a37d68148fb895611228d9f1592"
          ]
        },
        "id": "a_7ifGMcgILK",
        "outputId": "d3d25c9e-7de2-4b90-d3f5-c9929a0e92c6"
      },
      "source": [
        "tokenizer = BertTokenizer.from_pretrained('bert-base-multilingual-cased', do_lower_case=False)\n",
        "tokenized_data = []\n",
        "for i in bert_text:\n",
        "  for j in i:\n",
        "    tokens = tokenizer.tokenize(j)\n",
        "    tokenized_data.append(tokens)\n",
        "\n",
        "print(tokenized_data[0:10])"
      ],
      "execution_count": null,
      "outputs": [
        {
          "output_type": "display_data",
          "data": {
            "application/vnd.jupyter.widget-view+json": {
              "model_id": "18e558b453b141e083810144ba90308a",
              "version_minor": 0,
              "version_major": 2
            },
            "text/plain": [
              "HBox(children=(FloatProgress(value=0.0, description='Downloading', max=995526.0, style=ProgressStyle(descripti…"
            ]
          },
          "metadata": {
            "tags": []
          }
        },
        {
          "output_type": "stream",
          "text": [
            "\n",
            "[['[CLS]', '아', '더', '##빙', '.', '.', '진', '##짜', '짜', '##증', '##나', '##네', '##요', '목', '##소', '##리', '[SEP]'], ['[CLS]', '[UNK]', '.', '.', '.', '포', '##스터', '##보', '##고', '초', '##딩', '##영', '##화', '##줄', '.', '.', '.', '.', '오', '##버', '##연', '##기', '##조', '##차', '가', '##볍', '##지', '않', '##구', '##나', '[SEP]'], ['[CLS]', '[UNK]', '[SEP]'], ['[CLS]', '교', '##도', '##소', '이야기', '##구', '##먼', '.', '.', '솔', '##직', '##히', '재', '##미', '##는', '없다', '.', '.', '평', '##점', '조', '##정', '[SEP]'], ['[CLS]', '사', '##이', '##몬', '##페', '##그', '##의', '익', '##살', '##스', '##런', '연', '##기가', '돋', '##보', '##였던', '영화', '!', '스', '##파', '##이', '##더', '##맨', '##에서', '늙', '##어', '##보', '##이', '##기', '##만', '했', '##던', '커', '##스', '##틴', '던', '##스트', '##가', '너', '##무', '##나', '##도', '이', '##뻐', '##보', '##였다', '[SEP]'], ['[CLS]', '막', '걸', '##음', '##마', '[UNK]', '3', '##세', '##부터', '초', '##등학교', '1', '##학', '##년', '##생', '##인', '8', '##살', '##용', '##영', '##화', '.', '[UNK]', '.', '.', '.', '별', '##반', '##개', '##도', '아', '##까', '##움', '.', '[SEP]'], ['[CLS]', '원', '##작', '##의', '긴', '##장', '##감', '##을', '제', '##대로', '살', '##려', '##내', '##지', '##못', '##했다', '.', '[SEP]'], ['[CLS]', '별', '반', '##개', '##도', '아', '##깝', '##다', '욕', '##나', '##온', '##다', '이', '##응', '##경', '길', '##용', '##우', '연', '##기', '##생', '##활', '##이', '##몇', '##년', '##인', '##지', '.', '.', '정', '##말', '발', '##로', '##해', '##도', '그', '##것', '##보', '##단', '낫', '##겟', '##다', '납', '##치', '.', '감', '##금', '##만', '##반', '##복', '##반', '##복', '.', '.', '이', '##드라마', '##는', '가', '##족', '##도', '##없', '##다', '연', '##기', '##못', '##하는', '##사', '##람', '##만', '##모', '##엿', '##네', '[SEP]'], ['[CLS]', '액', '##션', '##이', '없는', '##데', '##도', '재', '##미', '있는', '몇', '##안', '##되는', '영화', '[SEP]'], ['[CLS]', '왜', '##케', '평', '##점', '##이', '낮', '##은', '##건', '##데', '?', '꽤', '볼', '##만', '##한', '##데', '.', '.', '헐', '##리', '##우', '##드', '##식', '화', '##려', '##함', '##에', '##만', '너', '##무', '길', '##들', '##여', '##져', '있', '##나', '?', '[SEP]']]\n"
          ],
          "name": "stdout"
        }
      ]
    },
    {
      "cell_type": "code",
      "metadata": {
        "colab": {
          "base_uri": "https://localhost:8080/"
        },
        "id": "eMFS2Dac6TEq",
        "outputId": "cad4e6c4-01ba-4c9f-f844-9de19d03c6fb"
      },
      "source": [
        "tokenized_test_data = []\n",
        "for i in test_text:\n",
        "  for j in i:\n",
        "    tokens = tokenizer.tokenize(j)\n",
        "    tokenized_test_data.append(tokens)\n",
        "\n",
        "print(tokenized_test_data[0:5])"
      ],
      "execution_count": null,
      "outputs": [
        {
          "output_type": "stream",
          "text": [
            "[['[CLS]', '굳', '[UNK]', '[SEP]'], ['[CLS]', 'G', '##D', '##NT', '##OP', '##CL', '##AS', '##SI', '##NT', '##H', '##EC', '##L', '##UB', '[SEP]'], ['[CLS]', '뭐', '##야', '이', '평', '##점', '##들은', '.', '.', '.', '.', '나', '##쁘', '##진', '않', '##지만', '10', '##점', '짜', '##리는', '더', '##더', '##욱', '[UNK]', '[SEP]'], ['[CLS]', '지', '##루', '##하지', '##는', '않은', '##데', '완', '##전', '막', '##장', '##임', '.', '.', '.', '돈', '##주', '##고', '보', '##기에', '##는', '.', '.', '.', '.', '[SEP]'], ['[CLS]', '3D', '##만', '아', '##니', '##었', '##어', '##도', '별', '다', '##섯', '개', '줬', '##을', '##텐', '##데', '.', '.', '왜', '3D', '##로', '나', '##와', '##서', '제', '심', '##기를', '불', '##편', '##하게', '하', '##죠', '?', '?', '[SEP]']]\n"
          ],
          "name": "stdout"
        }
      ]
    },
    {
      "cell_type": "markdown",
      "metadata": {
        "id": "gQSLigD_0S9L"
      },
      "source": [
        "이전 딥러닝 수업에서 padding이 매우 중요하다고 배웠다. 가장자리에 있는 데이터들이 1번만 사용되는 것을 막기 위해 기존 데이터에 0의 테두리를 두르는 것이다. 이 작업이 BERT 모델을 돌리기 위해서도 필요하다. "
      ]
    },
    {
      "cell_type": "code",
      "metadata": {
        "colab": {
          "base_uri": "https://localhost:8080/"
        },
        "id": "sEipzr5G5n0S",
        "outputId": "0018162d-4274-4186-93b4-6491e67f675c"
      },
      "source": [
        "# padding\n",
        "input_ids = []\n",
        "for i in tokenized_data:\n",
        "  ids = tokenizer.convert_tokens_to_ids(i)\n",
        "  input_ids.append(ids)\n",
        "\n",
        "print(input_ids[0])"
      ],
      "execution_count": null,
      "outputs": [
        {
          "output_type": "stream",
          "text": [
            "[101, 9519, 9074, 119005, 119, 119, 9708, 119235, 9715, 119230, 16439, 77884, 48549, 9284, 22333, 12692, 102]\n"
          ],
          "name": "stdout"
        }
      ]
    },
    {
      "cell_type": "code",
      "metadata": {
        "colab": {
          "base_uri": "https://localhost:8080/"
        },
        "id": "taEzVQjD6ukm",
        "outputId": "bc6ceb1b-0c48-4ca1-ab9e-7bcc282ae7cd"
      },
      "source": [
        "input_ids_test = []\n",
        "for i in tokenized_test_data:\n",
        "  ids = tokenizer.convert_tokens_to_ids(i)\n",
        "  input_ids_test.append(ids)\n",
        "\n",
        "print(input_ids_test[0])"
      ],
      "execution_count": null,
      "outputs": [
        {
          "output_type": "stream",
          "text": [
            "[101, 8911, 100, 102]\n"
          ],
          "name": "stdout"
        }
      ]
    },
    {
      "cell_type": "code",
      "metadata": {
        "colab": {
          "base_uri": "https://localhost:8080/"
        },
        "id": "EIJfidwV0D7r",
        "outputId": "64fdca5e-e5fb-4b1b-d546-90982ad6e03b"
      },
      "source": [
        "max_len = 128\n",
        "input_ids = pad_sequences(input_ids, maxlen=max_len, dtype='long', truncating='post', padding='post')\n",
        "input_ids[0]"
      ],
      "execution_count": null,
      "outputs": [
        {
          "output_type": "execute_result",
          "data": {
            "text/plain": [
              "array([   101,   9519,   9074, 119005,    119,    119,   9708, 119235,\n",
              "         9715, 119230,  16439,  77884,  48549,   9284,  22333,  12692,\n",
              "          102,      0,      0,      0,      0,      0,      0,      0,\n",
              "            0,      0,      0,      0,      0,      0,      0,      0,\n",
              "            0,      0,      0,      0,      0,      0,      0,      0,\n",
              "            0,      0,      0,      0,      0,      0,      0,      0,\n",
              "            0,      0,      0,      0,      0,      0,      0,      0,\n",
              "            0,      0,      0,      0,      0,      0,      0,      0,\n",
              "            0,      0,      0,      0,      0,      0,      0,      0,\n",
              "            0,      0,      0,      0,      0,      0,      0,      0,\n",
              "            0,      0,      0,      0,      0,      0,      0,      0,\n",
              "            0,      0,      0,      0,      0,      0,      0,      0,\n",
              "            0,      0,      0,      0,      0,      0,      0,      0,\n",
              "            0,      0,      0,      0,      0,      0,      0,      0,\n",
              "            0,      0,      0,      0,      0,      0,      0,      0,\n",
              "            0,      0,      0,      0,      0,      0,      0,      0])"
            ]
          },
          "metadata": {
            "tags": []
          },
          "execution_count": 48
        }
      ]
    },
    {
      "cell_type": "code",
      "metadata": {
        "colab": {
          "base_uri": "https://localhost:8080/"
        },
        "id": "lxajl9Yp6_1Y",
        "outputId": "41f8aac2-e905-47b5-8f70-9aace34a7d90"
      },
      "source": [
        "input_ids_test = pad_sequences(input_ids_test, maxlen=max_len, dtype='long', truncating='post', padding='post')\n",
        "input_ids_test[0]"
      ],
      "execution_count": null,
      "outputs": [
        {
          "output_type": "execute_result",
          "data": {
            "text/plain": [
              "array([ 101, 8911,  100,  102,    0,    0,    0,    0,    0,    0,    0,\n",
              "          0,    0,    0,    0,    0,    0,    0,    0,    0,    0,    0,\n",
              "          0,    0,    0,    0,    0,    0,    0,    0,    0,    0,    0,\n",
              "          0,    0,    0,    0,    0,    0,    0,    0,    0,    0,    0,\n",
              "          0,    0,    0,    0,    0,    0,    0,    0,    0,    0,    0,\n",
              "          0,    0,    0,    0,    0,    0,    0,    0,    0,    0,    0,\n",
              "          0,    0,    0,    0,    0,    0,    0,    0,    0,    0,    0,\n",
              "          0,    0,    0,    0,    0,    0,    0,    0,    0,    0,    0,\n",
              "          0,    0,    0,    0,    0,    0,    0,    0,    0,    0,    0,\n",
              "          0,    0,    0,    0,    0,    0,    0,    0,    0,    0,    0,\n",
              "          0,    0,    0,    0,    0,    0,    0,    0,    0,    0,    0,\n",
              "          0,    0,    0,    0,    0,    0,    0])"
            ]
          },
          "metadata": {
            "tags": []
          },
          "execution_count": 49
        }
      ]
    },
    {
      "cell_type": "markdown",
      "metadata": {
        "id": "Lf7j0zDW3RAe"
      },
      "source": [
        "다음으로 Masking을 준비한다. "
      ]
    },
    {
      "cell_type": "code",
      "metadata": {
        "colab": {
          "base_uri": "https://localhost:8080/"
        },
        "id": "MFGPECTo2Vv9",
        "outputId": "38c23f3a-1d3e-413e-c8b2-da6fa774526b"
      },
      "source": [
        "attention_masks = []\n",
        "\n",
        "for ids in input_ids:\n",
        "  ids_mask = []\n",
        "  for id in ids:\n",
        "      masked = float(id>0)\n",
        "      ids_mask.append(masked)\n",
        "  attention_masks.append(ids_mask)\n",
        "    \n",
        "print(attention_masks[0])\n",
        "print(len(attention_masks[0]))"
      ],
      "execution_count": null,
      "outputs": [
        {
          "output_type": "stream",
          "text": [
            "[1.0, 1.0, 1.0, 1.0, 1.0, 1.0, 1.0, 1.0, 1.0, 1.0, 1.0, 1.0, 1.0, 1.0, 1.0, 1.0, 1.0, 0.0, 0.0, 0.0, 0.0, 0.0, 0.0, 0.0, 0.0, 0.0, 0.0, 0.0, 0.0, 0.0, 0.0, 0.0, 0.0, 0.0, 0.0, 0.0, 0.0, 0.0, 0.0, 0.0, 0.0, 0.0, 0.0, 0.0, 0.0, 0.0, 0.0, 0.0, 0.0, 0.0, 0.0, 0.0, 0.0, 0.0, 0.0, 0.0, 0.0, 0.0, 0.0, 0.0, 0.0, 0.0, 0.0, 0.0, 0.0, 0.0, 0.0, 0.0, 0.0, 0.0, 0.0, 0.0, 0.0, 0.0, 0.0, 0.0, 0.0, 0.0, 0.0, 0.0, 0.0, 0.0, 0.0, 0.0, 0.0, 0.0, 0.0, 0.0, 0.0, 0.0, 0.0, 0.0, 0.0, 0.0, 0.0, 0.0, 0.0, 0.0, 0.0, 0.0, 0.0, 0.0, 0.0, 0.0, 0.0, 0.0, 0.0, 0.0, 0.0, 0.0, 0.0, 0.0, 0.0, 0.0, 0.0, 0.0, 0.0, 0.0, 0.0, 0.0, 0.0, 0.0, 0.0, 0.0, 0.0, 0.0, 0.0, 0.0]\n",
            "128\n"
          ],
          "name": "stdout"
        }
      ]
    },
    {
      "cell_type": "code",
      "metadata": {
        "colab": {
          "base_uri": "https://localhost:8080/"
        },
        "id": "A2O3FJM47aOj",
        "outputId": "f8fd77aa-f559-4148-de52-63d63ba7845f"
      },
      "source": [
        "attention_masks_test = []\n",
        "\n",
        "for ids in input_ids_test:\n",
        "  ids_mask = []\n",
        "  for id in ids:\n",
        "      masked = float(id>0)\n",
        "      ids_mask.append(masked)\n",
        "  attention_masks_test.append(ids_mask)\n",
        "    \n",
        "print(attention_masks_test[0])\n",
        "print(len(attention_masks_test[0]))"
      ],
      "execution_count": null,
      "outputs": [
        {
          "output_type": "stream",
          "text": [
            "[1.0, 1.0, 1.0, 1.0, 0.0, 0.0, 0.0, 0.0, 0.0, 0.0, 0.0, 0.0, 0.0, 0.0, 0.0, 0.0, 0.0, 0.0, 0.0, 0.0, 0.0, 0.0, 0.0, 0.0, 0.0, 0.0, 0.0, 0.0, 0.0, 0.0, 0.0, 0.0, 0.0, 0.0, 0.0, 0.0, 0.0, 0.0, 0.0, 0.0, 0.0, 0.0, 0.0, 0.0, 0.0, 0.0, 0.0, 0.0, 0.0, 0.0, 0.0, 0.0, 0.0, 0.0, 0.0, 0.0, 0.0, 0.0, 0.0, 0.0, 0.0, 0.0, 0.0, 0.0, 0.0, 0.0, 0.0, 0.0, 0.0, 0.0, 0.0, 0.0, 0.0, 0.0, 0.0, 0.0, 0.0, 0.0, 0.0, 0.0, 0.0, 0.0, 0.0, 0.0, 0.0, 0.0, 0.0, 0.0, 0.0, 0.0, 0.0, 0.0, 0.0, 0.0, 0.0, 0.0, 0.0, 0.0, 0.0, 0.0, 0.0, 0.0, 0.0, 0.0, 0.0, 0.0, 0.0, 0.0, 0.0, 0.0, 0.0, 0.0, 0.0, 0.0, 0.0, 0.0, 0.0, 0.0, 0.0, 0.0, 0.0, 0.0, 0.0, 0.0, 0.0, 0.0, 0.0, 0.0]\n",
            "128\n"
          ],
          "name": "stdout"
        }
      ]
    },
    {
      "cell_type": "markdown",
      "metadata": {
        "id": "zszibtCt3f4d"
      },
      "source": [
        "모델링을 위해서는 train 데이터와 validation 데이터를 분리해야한다. 테스트 데이터는 이미 분리되어있다. 다만 이후 모델의 fine-tuning을 위한 데이터와, 이후 모델링을 위해 tensor로 변환할 데이터를 분리해 주어야한다."
      ]
    },
    {
      "cell_type": "code",
      "metadata": {
        "id": "2jfTeqbn3fUQ"
      },
      "source": [
        "X_train, X_val, y_train, y_val = train_test_split(\n",
        "    input_ids, train_data['label'].values, random_state=42, test_size=0.2)\n",
        "\n",
        "train_masks, validation_masks, _, _ = train_test_split(attention_masks, \n",
        "                                                       input_ids,\n",
        "                                                       random_state=42, \n",
        "                                                       test_size=0.2)"
      ],
      "execution_count": null,
      "outputs": []
    },
    {
      "cell_type": "code",
      "metadata": {
        "colab": {
          "base_uri": "https://localhost:8080/"
        },
        "id": "iW-Xh0L_42_e",
        "outputId": "db767722-0b44-4ef0-f4cd-ff576b3f7a9f"
      },
      "source": [
        "X_train.shape, X_val.shape, y_train.shape, y_val.shape"
      ],
      "execution_count": null,
      "outputs": [
        {
          "output_type": "execute_result",
          "data": {
            "text/plain": [
              "((120000, 128), (30000, 128), (120000,), (30000,))"
            ]
          },
          "metadata": {
            "tags": []
          },
          "execution_count": 53
        }
      ]
    },
    {
      "cell_type": "code",
      "metadata": {
        "id": "xBfUIl_Y8t_5"
      },
      "source": [
        "# Fine-tuning과 Tensor로 사용할 데이터를 분리\n",
        "X_train_tune = X_train\n",
        "y_train_tune = y_train\n",
        "X_val_tune = X_val\n",
        "y_val_tune = y_val"
      ],
      "execution_count": null,
      "outputs": []
    },
    {
      "cell_type": "code",
      "metadata": {
        "id": "AogBqJgi8ioF"
      },
      "source": [
        "X_test_tensor = input_ids_test\n",
        "y_test_tensor = test_data[\"label\"].values\n",
        "test_masks = attention_masks_test"
      ],
      "execution_count": null,
      "outputs": []
    },
    {
      "cell_type": "markdown",
      "metadata": {
        "id": "KOmxzXnT8ah8"
      },
      "source": [
        "다음으로 input_ids, 타깃 라벨, masking을 PyTorch로 변환해야한다."
      ]
    },
    {
      "cell_type": "code",
      "metadata": {
        "id": "P0d4JOEK8TtH"
      },
      "source": [
        "# PyTorch로 변환\n",
        "\n",
        "X_train_tensor = torch.tensor(X_train)\n",
        "y_train_tensor = torch.tensor(y_train)\n",
        "train_masks = torch.tensor(train_masks)\n",
        "X_val_tensor = torch.tensor(X_val)\n",
        "y_val_tensor = torch.tensor(y_val)\n",
        "validation_masks = torch.tensor(validation_masks)"
      ],
      "execution_count": null,
      "outputs": []
    },
    {
      "cell_type": "code",
      "metadata": {
        "id": "6v-RWhHD8_PA"
      },
      "source": [
        "X_test_tensor = torch.tensor(X_test_tensor)\n",
        "y_test_tensor = torch.tensor(y_test_tensor)\n",
        "test_masks = torch.tensor(attention_masks_test)"
      ],
      "execution_count": null,
      "outputs": []
    },
    {
      "cell_type": "markdown",
      "metadata": {
        "id": "G3ut8K2x9Zk1"
      },
      "source": [
        "이번에는 배치 사이즈를 지정한다. 주로 큰 사이즈를 설정해보고, VRAM 에러 메시지가 난다면, 더 작은 사이즈로 줄여나간다. 8의 배수로 설정하는 것이 일반적이다. "
      ]
    },
    {
      "cell_type": "code",
      "metadata": {
        "id": "d_frPBgt9JRN"
      },
      "source": [
        "batch_size = 32\n",
        "\n",
        "train = TensorDataset(X_train_tensor, train_masks, y_train_tensor)\n",
        "train_sampler = RandomSampler(train)\n",
        "\n",
        "val = TensorDataset(X_val_tensor, validation_masks, y_val_tensor)\n",
        "val_sampler = SequentialSampler(val)\n",
        "\n",
        "\n",
        "test = TensorDataset(X_test_tensor, test_masks, y_test_tensor)\n",
        "test_sampler = RandomSampler(test)\n",
        "\n",
        "train_dataloader = DataLoader(train, sampler=train_sampler, batch_size=batch_size)\n",
        "val_dataloader = DataLoader(val, sampler=val_sampler, batch_size=batch_size)\n",
        "test_dataloader = DataLoader(test, sampler=test_sampler, batch_size=batch_size)"
      ],
      "execution_count": null,
      "outputs": []
    },
    {
      "cell_type": "markdown",
      "metadata": {
        "id": "tWK-sj0P-8hG"
      },
      "source": [
        "다음으로 GPU가 사용가능한지를 체크해야한다. GPU를 사용할 수 있게 설정해준다. PyTorch는 GPU를 돌릴 수 있는 CUDA 라이브러리를 지원하는데, PyTorch를 통해 CUDA를 사용할 수 있는 디바이스를 초기화한다. "
      ]
    },
    {
      "cell_type": "code",
      "metadata": {
        "colab": {
          "base_uri": "https://localhost:8080/"
        },
        "id": "g5T5xVEQ_Jag",
        "outputId": "9caa5603-0b0e-4c26-c686-f68d0eb5e30e"
      },
      "source": [
        "if torch.cuda.is_available():    \n",
        "    device = torch.device(\"cuda\")\n",
        "    print('There are %d GPU(s) available.' % torch.cuda.device_count())\n",
        "    print('We will use the GPU:', torch.cuda.get_device_name(0))\n",
        "else:\n",
        "    device = torch.device(\"cpu\")\n",
        "    print('No GPU available, using the CPU instead.')"
      ],
      "execution_count": null,
      "outputs": [
        {
          "output_type": "stream",
          "text": [
            "There are 1 GPU(s) available.\n",
            "We will use the GPU: Tesla T4\n"
          ],
          "name": "stdout"
        }
      ]
    },
    {
      "cell_type": "markdown",
      "metadata": {
        "id": "CCSfQd8BEh68"
      },
      "source": [
        "##3.2 모델 Fine-Tuning"
      ]
    },
    {
      "cell_type": "markdown",
      "metadata": {
        "id": "wRHqECYEEmc-"
      },
      "source": [
        "BERT모델은 Fine-Tuning을 통해 원하는 목적에 맞게 최적화 시킬 수도 있다. 이번 단계에서는 모델의 최종 학습 전, 모델을 Fine-Tuning하여 성능을 올리고자 한다."
      ]
    },
    {
      "cell_type": "markdown",
      "metadata": {
        "id": "8oAMr-S9_lBo"
      },
      "source": [
        "일단 BERT 모델을 초기화한다. Transformers의 BertForSequenceClassification 모듈을 활용한다. 타깃은 0과 1로 이루어져 있기 때문에, 라벨의 수는 2가 될 것이다. 사용할 BERT모듈의 이름은 \"bert-case-multilingual-cased\"라는 것으로 영어 이외의 언어 텍스트 데이터를 처리하는데 유용하다."
      ]
    },
    {
      "cell_type": "code",
      "metadata": {
        "colab": {
          "base_uri": "https://localhost:8080/",
          "height": 1000,
          "referenced_widgets": [
            "65b212d269784aa4a80fd469beea9bd8",
            "1de09b7e2bdd453aa185e67b860528f4",
            "67be53784be24fe5b70e40bbdb536c08",
            "7b3891a653e74df1be47f81de8d06a65",
            "05c9705ef21c462bad1297db8d131533",
            "93c92f0998ad47e393586c8d4ccab981",
            "ef4ee8eda13b4f4b957318c883073fa7",
            "8c68764db3894f8397964f6cb0e52d57",
            "8561df689d224fec9f2cdf6414662a5c",
            "9b2c683cdf4348598a7403b1a39fac15",
            "0cacab7a365b42f8a8d54daf673774b1",
            "98b3334ac07245c694b63fde5dfd982d",
            "89b9f789cb234d2baf88453b63dd3c32",
            "3532f526b33740dca063f5d7919ba136",
            "f0a70caccf944ee79fe4f928eaf2d088",
            "9a17c303d09d4629b8593849589db61d"
          ]
        },
        "id": "LLMUcWW5_1r2",
        "outputId": "fed25743-f81e-4063-8273-55b34f4081bd"
      },
      "source": [
        "model = BertForSequenceClassification.from_pretrained(\"bert-base-multilingual-cased\", num_labels=2)\n",
        "model.cuda()"
      ],
      "execution_count": null,
      "outputs": [
        {
          "output_type": "display_data",
          "data": {
            "application/vnd.jupyter.widget-view+json": {
              "model_id": "65b212d269784aa4a80fd469beea9bd8",
              "version_minor": 0,
              "version_major": 2
            },
            "text/plain": [
              "HBox(children=(FloatProgress(value=0.0, description='Downloading', max=625.0, style=ProgressStyle(description_…"
            ]
          },
          "metadata": {
            "tags": []
          }
        },
        {
          "output_type": "stream",
          "text": [
            "\n"
          ],
          "name": "stdout"
        },
        {
          "output_type": "display_data",
          "data": {
            "application/vnd.jupyter.widget-view+json": {
              "model_id": "8561df689d224fec9f2cdf6414662a5c",
              "version_minor": 0,
              "version_major": 2
            },
            "text/plain": [
              "HBox(children=(FloatProgress(value=0.0, description='Downloading', max=714314041.0, style=ProgressStyle(descri…"
            ]
          },
          "metadata": {
            "tags": []
          }
        },
        {
          "output_type": "stream",
          "text": [
            "\n"
          ],
          "name": "stdout"
        },
        {
          "output_type": "stream",
          "text": [
            "Some weights of the model checkpoint at bert-base-multilingual-cased were not used when initializing BertForSequenceClassification: ['cls.predictions.bias', 'cls.predictions.transform.dense.weight', 'cls.predictions.transform.dense.bias', 'cls.predictions.decoder.weight', 'cls.seq_relationship.weight', 'cls.seq_relationship.bias', 'cls.predictions.transform.LayerNorm.weight', 'cls.predictions.transform.LayerNorm.bias']\n",
            "- This IS expected if you are initializing BertForSequenceClassification from the checkpoint of a model trained on another task or with another architecture (e.g. initializing a BertForSequenceClassification model from a BertForPreTraining model).\n",
            "- This IS NOT expected if you are initializing BertForSequenceClassification from the checkpoint of a model that you expect to be exactly identical (initializing a BertForSequenceClassification model from a BertForSequenceClassification model).\n",
            "Some weights of BertForSequenceClassification were not initialized from the model checkpoint at bert-base-multilingual-cased and are newly initialized: ['classifier.weight', 'classifier.bias']\n",
            "You should probably TRAIN this model on a down-stream task to be able to use it for predictions and inference.\n"
          ],
          "name": "stderr"
        },
        {
          "output_type": "execute_result",
          "data": {
            "text/plain": [
              "BertForSequenceClassification(\n",
              "  (bert): BertModel(\n",
              "    (embeddings): BertEmbeddings(\n",
              "      (word_embeddings): Embedding(119547, 768, padding_idx=0)\n",
              "      (position_embeddings): Embedding(512, 768)\n",
              "      (token_type_embeddings): Embedding(2, 768)\n",
              "      (LayerNorm): LayerNorm((768,), eps=1e-12, elementwise_affine=True)\n",
              "      (dropout): Dropout(p=0.1, inplace=False)\n",
              "    )\n",
              "    (encoder): BertEncoder(\n",
              "      (layer): ModuleList(\n",
              "        (0): BertLayer(\n",
              "          (attention): BertAttention(\n",
              "            (self): BertSelfAttention(\n",
              "              (query): Linear(in_features=768, out_features=768, bias=True)\n",
              "              (key): Linear(in_features=768, out_features=768, bias=True)\n",
              "              (value): Linear(in_features=768, out_features=768, bias=True)\n",
              "              (dropout): Dropout(p=0.1, inplace=False)\n",
              "            )\n",
              "            (output): BertSelfOutput(\n",
              "              (dense): Linear(in_features=768, out_features=768, bias=True)\n",
              "              (LayerNorm): LayerNorm((768,), eps=1e-12, elementwise_affine=True)\n",
              "              (dropout): Dropout(p=0.1, inplace=False)\n",
              "            )\n",
              "          )\n",
              "          (intermediate): BertIntermediate(\n",
              "            (dense): Linear(in_features=768, out_features=3072, bias=True)\n",
              "          )\n",
              "          (output): BertOutput(\n",
              "            (dense): Linear(in_features=3072, out_features=768, bias=True)\n",
              "            (LayerNorm): LayerNorm((768,), eps=1e-12, elementwise_affine=True)\n",
              "            (dropout): Dropout(p=0.1, inplace=False)\n",
              "          )\n",
              "        )\n",
              "        (1): BertLayer(\n",
              "          (attention): BertAttention(\n",
              "            (self): BertSelfAttention(\n",
              "              (query): Linear(in_features=768, out_features=768, bias=True)\n",
              "              (key): Linear(in_features=768, out_features=768, bias=True)\n",
              "              (value): Linear(in_features=768, out_features=768, bias=True)\n",
              "              (dropout): Dropout(p=0.1, inplace=False)\n",
              "            )\n",
              "            (output): BertSelfOutput(\n",
              "              (dense): Linear(in_features=768, out_features=768, bias=True)\n",
              "              (LayerNorm): LayerNorm((768,), eps=1e-12, elementwise_affine=True)\n",
              "              (dropout): Dropout(p=0.1, inplace=False)\n",
              "            )\n",
              "          )\n",
              "          (intermediate): BertIntermediate(\n",
              "            (dense): Linear(in_features=768, out_features=3072, bias=True)\n",
              "          )\n",
              "          (output): BertOutput(\n",
              "            (dense): Linear(in_features=3072, out_features=768, bias=True)\n",
              "            (LayerNorm): LayerNorm((768,), eps=1e-12, elementwise_affine=True)\n",
              "            (dropout): Dropout(p=0.1, inplace=False)\n",
              "          )\n",
              "        )\n",
              "        (2): BertLayer(\n",
              "          (attention): BertAttention(\n",
              "            (self): BertSelfAttention(\n",
              "              (query): Linear(in_features=768, out_features=768, bias=True)\n",
              "              (key): Linear(in_features=768, out_features=768, bias=True)\n",
              "              (value): Linear(in_features=768, out_features=768, bias=True)\n",
              "              (dropout): Dropout(p=0.1, inplace=False)\n",
              "            )\n",
              "            (output): BertSelfOutput(\n",
              "              (dense): Linear(in_features=768, out_features=768, bias=True)\n",
              "              (LayerNorm): LayerNorm((768,), eps=1e-12, elementwise_affine=True)\n",
              "              (dropout): Dropout(p=0.1, inplace=False)\n",
              "            )\n",
              "          )\n",
              "          (intermediate): BertIntermediate(\n",
              "            (dense): Linear(in_features=768, out_features=3072, bias=True)\n",
              "          )\n",
              "          (output): BertOutput(\n",
              "            (dense): Linear(in_features=3072, out_features=768, bias=True)\n",
              "            (LayerNorm): LayerNorm((768,), eps=1e-12, elementwise_affine=True)\n",
              "            (dropout): Dropout(p=0.1, inplace=False)\n",
              "          )\n",
              "        )\n",
              "        (3): BertLayer(\n",
              "          (attention): BertAttention(\n",
              "            (self): BertSelfAttention(\n",
              "              (query): Linear(in_features=768, out_features=768, bias=True)\n",
              "              (key): Linear(in_features=768, out_features=768, bias=True)\n",
              "              (value): Linear(in_features=768, out_features=768, bias=True)\n",
              "              (dropout): Dropout(p=0.1, inplace=False)\n",
              "            )\n",
              "            (output): BertSelfOutput(\n",
              "              (dense): Linear(in_features=768, out_features=768, bias=True)\n",
              "              (LayerNorm): LayerNorm((768,), eps=1e-12, elementwise_affine=True)\n",
              "              (dropout): Dropout(p=0.1, inplace=False)\n",
              "            )\n",
              "          )\n",
              "          (intermediate): BertIntermediate(\n",
              "            (dense): Linear(in_features=768, out_features=3072, bias=True)\n",
              "          )\n",
              "          (output): BertOutput(\n",
              "            (dense): Linear(in_features=3072, out_features=768, bias=True)\n",
              "            (LayerNorm): LayerNorm((768,), eps=1e-12, elementwise_affine=True)\n",
              "            (dropout): Dropout(p=0.1, inplace=False)\n",
              "          )\n",
              "        )\n",
              "        (4): BertLayer(\n",
              "          (attention): BertAttention(\n",
              "            (self): BertSelfAttention(\n",
              "              (query): Linear(in_features=768, out_features=768, bias=True)\n",
              "              (key): Linear(in_features=768, out_features=768, bias=True)\n",
              "              (value): Linear(in_features=768, out_features=768, bias=True)\n",
              "              (dropout): Dropout(p=0.1, inplace=False)\n",
              "            )\n",
              "            (output): BertSelfOutput(\n",
              "              (dense): Linear(in_features=768, out_features=768, bias=True)\n",
              "              (LayerNorm): LayerNorm((768,), eps=1e-12, elementwise_affine=True)\n",
              "              (dropout): Dropout(p=0.1, inplace=False)\n",
              "            )\n",
              "          )\n",
              "          (intermediate): BertIntermediate(\n",
              "            (dense): Linear(in_features=768, out_features=3072, bias=True)\n",
              "          )\n",
              "          (output): BertOutput(\n",
              "            (dense): Linear(in_features=3072, out_features=768, bias=True)\n",
              "            (LayerNorm): LayerNorm((768,), eps=1e-12, elementwise_affine=True)\n",
              "            (dropout): Dropout(p=0.1, inplace=False)\n",
              "          )\n",
              "        )\n",
              "        (5): BertLayer(\n",
              "          (attention): BertAttention(\n",
              "            (self): BertSelfAttention(\n",
              "              (query): Linear(in_features=768, out_features=768, bias=True)\n",
              "              (key): Linear(in_features=768, out_features=768, bias=True)\n",
              "              (value): Linear(in_features=768, out_features=768, bias=True)\n",
              "              (dropout): Dropout(p=0.1, inplace=False)\n",
              "            )\n",
              "            (output): BertSelfOutput(\n",
              "              (dense): Linear(in_features=768, out_features=768, bias=True)\n",
              "              (LayerNorm): LayerNorm((768,), eps=1e-12, elementwise_affine=True)\n",
              "              (dropout): Dropout(p=0.1, inplace=False)\n",
              "            )\n",
              "          )\n",
              "          (intermediate): BertIntermediate(\n",
              "            (dense): Linear(in_features=768, out_features=3072, bias=True)\n",
              "          )\n",
              "          (output): BertOutput(\n",
              "            (dense): Linear(in_features=3072, out_features=768, bias=True)\n",
              "            (LayerNorm): LayerNorm((768,), eps=1e-12, elementwise_affine=True)\n",
              "            (dropout): Dropout(p=0.1, inplace=False)\n",
              "          )\n",
              "        )\n",
              "        (6): BertLayer(\n",
              "          (attention): BertAttention(\n",
              "            (self): BertSelfAttention(\n",
              "              (query): Linear(in_features=768, out_features=768, bias=True)\n",
              "              (key): Linear(in_features=768, out_features=768, bias=True)\n",
              "              (value): Linear(in_features=768, out_features=768, bias=True)\n",
              "              (dropout): Dropout(p=0.1, inplace=False)\n",
              "            )\n",
              "            (output): BertSelfOutput(\n",
              "              (dense): Linear(in_features=768, out_features=768, bias=True)\n",
              "              (LayerNorm): LayerNorm((768,), eps=1e-12, elementwise_affine=True)\n",
              "              (dropout): Dropout(p=0.1, inplace=False)\n",
              "            )\n",
              "          )\n",
              "          (intermediate): BertIntermediate(\n",
              "            (dense): Linear(in_features=768, out_features=3072, bias=True)\n",
              "          )\n",
              "          (output): BertOutput(\n",
              "            (dense): Linear(in_features=3072, out_features=768, bias=True)\n",
              "            (LayerNorm): LayerNorm((768,), eps=1e-12, elementwise_affine=True)\n",
              "            (dropout): Dropout(p=0.1, inplace=False)\n",
              "          )\n",
              "        )\n",
              "        (7): BertLayer(\n",
              "          (attention): BertAttention(\n",
              "            (self): BertSelfAttention(\n",
              "              (query): Linear(in_features=768, out_features=768, bias=True)\n",
              "              (key): Linear(in_features=768, out_features=768, bias=True)\n",
              "              (value): Linear(in_features=768, out_features=768, bias=True)\n",
              "              (dropout): Dropout(p=0.1, inplace=False)\n",
              "            )\n",
              "            (output): BertSelfOutput(\n",
              "              (dense): Linear(in_features=768, out_features=768, bias=True)\n",
              "              (LayerNorm): LayerNorm((768,), eps=1e-12, elementwise_affine=True)\n",
              "              (dropout): Dropout(p=0.1, inplace=False)\n",
              "            )\n",
              "          )\n",
              "          (intermediate): BertIntermediate(\n",
              "            (dense): Linear(in_features=768, out_features=3072, bias=True)\n",
              "          )\n",
              "          (output): BertOutput(\n",
              "            (dense): Linear(in_features=3072, out_features=768, bias=True)\n",
              "            (LayerNorm): LayerNorm((768,), eps=1e-12, elementwise_affine=True)\n",
              "            (dropout): Dropout(p=0.1, inplace=False)\n",
              "          )\n",
              "        )\n",
              "        (8): BertLayer(\n",
              "          (attention): BertAttention(\n",
              "            (self): BertSelfAttention(\n",
              "              (query): Linear(in_features=768, out_features=768, bias=True)\n",
              "              (key): Linear(in_features=768, out_features=768, bias=True)\n",
              "              (value): Linear(in_features=768, out_features=768, bias=True)\n",
              "              (dropout): Dropout(p=0.1, inplace=False)\n",
              "            )\n",
              "            (output): BertSelfOutput(\n",
              "              (dense): Linear(in_features=768, out_features=768, bias=True)\n",
              "              (LayerNorm): LayerNorm((768,), eps=1e-12, elementwise_affine=True)\n",
              "              (dropout): Dropout(p=0.1, inplace=False)\n",
              "            )\n",
              "          )\n",
              "          (intermediate): BertIntermediate(\n",
              "            (dense): Linear(in_features=768, out_features=3072, bias=True)\n",
              "          )\n",
              "          (output): BertOutput(\n",
              "            (dense): Linear(in_features=3072, out_features=768, bias=True)\n",
              "            (LayerNorm): LayerNorm((768,), eps=1e-12, elementwise_affine=True)\n",
              "            (dropout): Dropout(p=0.1, inplace=False)\n",
              "          )\n",
              "        )\n",
              "        (9): BertLayer(\n",
              "          (attention): BertAttention(\n",
              "            (self): BertSelfAttention(\n",
              "              (query): Linear(in_features=768, out_features=768, bias=True)\n",
              "              (key): Linear(in_features=768, out_features=768, bias=True)\n",
              "              (value): Linear(in_features=768, out_features=768, bias=True)\n",
              "              (dropout): Dropout(p=0.1, inplace=False)\n",
              "            )\n",
              "            (output): BertSelfOutput(\n",
              "              (dense): Linear(in_features=768, out_features=768, bias=True)\n",
              "              (LayerNorm): LayerNorm((768,), eps=1e-12, elementwise_affine=True)\n",
              "              (dropout): Dropout(p=0.1, inplace=False)\n",
              "            )\n",
              "          )\n",
              "          (intermediate): BertIntermediate(\n",
              "            (dense): Linear(in_features=768, out_features=3072, bias=True)\n",
              "          )\n",
              "          (output): BertOutput(\n",
              "            (dense): Linear(in_features=3072, out_features=768, bias=True)\n",
              "            (LayerNorm): LayerNorm((768,), eps=1e-12, elementwise_affine=True)\n",
              "            (dropout): Dropout(p=0.1, inplace=False)\n",
              "          )\n",
              "        )\n",
              "        (10): BertLayer(\n",
              "          (attention): BertAttention(\n",
              "            (self): BertSelfAttention(\n",
              "              (query): Linear(in_features=768, out_features=768, bias=True)\n",
              "              (key): Linear(in_features=768, out_features=768, bias=True)\n",
              "              (value): Linear(in_features=768, out_features=768, bias=True)\n",
              "              (dropout): Dropout(p=0.1, inplace=False)\n",
              "            )\n",
              "            (output): BertSelfOutput(\n",
              "              (dense): Linear(in_features=768, out_features=768, bias=True)\n",
              "              (LayerNorm): LayerNorm((768,), eps=1e-12, elementwise_affine=True)\n",
              "              (dropout): Dropout(p=0.1, inplace=False)\n",
              "            )\n",
              "          )\n",
              "          (intermediate): BertIntermediate(\n",
              "            (dense): Linear(in_features=768, out_features=3072, bias=True)\n",
              "          )\n",
              "          (output): BertOutput(\n",
              "            (dense): Linear(in_features=3072, out_features=768, bias=True)\n",
              "            (LayerNorm): LayerNorm((768,), eps=1e-12, elementwise_affine=True)\n",
              "            (dropout): Dropout(p=0.1, inplace=False)\n",
              "          )\n",
              "        )\n",
              "        (11): BertLayer(\n",
              "          (attention): BertAttention(\n",
              "            (self): BertSelfAttention(\n",
              "              (query): Linear(in_features=768, out_features=768, bias=True)\n",
              "              (key): Linear(in_features=768, out_features=768, bias=True)\n",
              "              (value): Linear(in_features=768, out_features=768, bias=True)\n",
              "              (dropout): Dropout(p=0.1, inplace=False)\n",
              "            )\n",
              "            (output): BertSelfOutput(\n",
              "              (dense): Linear(in_features=768, out_features=768, bias=True)\n",
              "              (LayerNorm): LayerNorm((768,), eps=1e-12, elementwise_affine=True)\n",
              "              (dropout): Dropout(p=0.1, inplace=False)\n",
              "            )\n",
              "          )\n",
              "          (intermediate): BertIntermediate(\n",
              "            (dense): Linear(in_features=768, out_features=3072, bias=True)\n",
              "          )\n",
              "          (output): BertOutput(\n",
              "            (dense): Linear(in_features=3072, out_features=768, bias=True)\n",
              "            (LayerNorm): LayerNorm((768,), eps=1e-12, elementwise_affine=True)\n",
              "            (dropout): Dropout(p=0.1, inplace=False)\n",
              "          )\n",
              "        )\n",
              "      )\n",
              "    )\n",
              "    (pooler): BertPooler(\n",
              "      (dense): Linear(in_features=768, out_features=768, bias=True)\n",
              "      (activation): Tanh()\n",
              "    )\n",
              "  )\n",
              "  (dropout): Dropout(p=0.1, inplace=False)\n",
              "  (classifier): Linear(in_features=768, out_features=2, bias=True)\n",
              ")"
            ]
          },
          "metadata": {
            "tags": []
          },
          "execution_count": 60
        }
      ]
    },
    {
      "cell_type": "markdown",
      "metadata": {
        "id": "BrJoMoMMFDBQ"
      },
      "source": [
        "다음으로 필요한 파라미터만 Fine-Tuning을 진행할 수 있도록 requires_grad를 False로 설정한다. "
      ]
    },
    {
      "cell_type": "code",
      "metadata": {
        "id": "S64L5TMa5yVV"
      },
      "source": [
        "for param in model.base_model.parameters():\n",
        "    param.requires_grad = False"
      ],
      "execution_count": null,
      "outputs": []
    },
    {
      "cell_type": "markdown",
      "metadata": {
        "id": "Znhccp9xFOW2"
      },
      "source": [
        "Fine Tuning을 위해서는 Transformer모듈이 제공하는 Trainer 및 TrainingArguments라는 메소드를 사용해야하는데, 이를 위해서는 이 메소드에 입맞에 맞는 형태로 데이터를 넣어주어야한다. 이전에 활용한 train_test_split를 이용해, 데이터를 두 메소드가 원하는 형태로 다시 분리한다. 주의할 것은, 이 메소드들은 리스트의 형태로만 데이터를 받아들이고, 데이터 자체는 모두 string이어야한다는 것이다. 라벨은 궁극적으로 예측할 타깃이기 때문에 string으로 변환시키지 않는다. 이전에 토큰화 단계에서 나눈 데이터들은 추후 실제 학습에 활용할 것이다."
      ]
    },
    {
      "cell_type": "code",
      "metadata": {
        "id": "fa5e64FCAsUc"
      },
      "source": [
        "from sklearn.model_selection import train_test_split\n",
        "train_queries, val_queries, train_docs, val_docs, train_labels, val_labels = train_test_split(\n",
        "    train_data[\"id\"].apply(str).tolist(), \n",
        "    train_data[\"document\"].apply(str).tolist(), \n",
        "    train_data[\"label\"].tolist(), \n",
        "    test_size=.2\n",
        ")"
      ],
      "execution_count": null,
      "outputs": []
    },
    {
      "cell_type": "markdown",
      "metadata": {
        "id": "_F217BWuF7rx"
      },
      "source": [
        "다음으로 나눈데이터를 토큰화해야한다. 이 과정에서 BertTokenizerFast라는 transformers 모듈의 객체를 활용할 수 있다. "
      ]
    },
    {
      "cell_type": "code",
      "metadata": {
        "id": "upR57wM2_NIv",
        "colab": {
          "base_uri": "https://localhost:8080/",
          "height": 66,
          "referenced_widgets": [
            "8237c17bbd904d5da445ac15853ac4b3",
            "b557dc8d205149209b026186da06638a",
            "7c12d843863b455f9ae8621c5580ea3e",
            "c4449a11f3734b63821ed110b33e4ad8",
            "e37064e3b16549e9974b56df8e842eb9",
            "452dfcab9324409dbe161b30617fa490",
            "3b1618c3b9c247aea50e03cbcab84e04",
            "55e1695c6f5c4a518e782f967f190224"
          ]
        },
        "outputId": "8565411f-762d-4558-95e0-bffed717e6ec"
      },
      "source": [
        "from transformers import BertTokenizerFast\n",
        "\n",
        "model_name = \"bert-base-multilingual-cased\"\n",
        "tokenizer = BertTokenizerFast.from_pretrained(model_name)\n",
        "\n",
        "train_encodings = tokenizer(train_queries, train_docs, truncation=True, padding='max_length', max_length=max_len)\n",
        "val_encodings = tokenizer(val_queries, val_docs, truncation=True, padding='max_length', max_length=max_len)"
      ],
      "execution_count": null,
      "outputs": [
        {
          "output_type": "display_data",
          "data": {
            "application/vnd.jupyter.widget-view+json": {
              "model_id": "8237c17bbd904d5da445ac15853ac4b3",
              "version_minor": 0,
              "version_major": 2
            },
            "text/plain": [
              "HBox(children=(FloatProgress(value=0.0, description='Downloading', max=1961828.0, style=ProgressStyle(descript…"
            ]
          },
          "metadata": {
            "tags": []
          }
        },
        {
          "output_type": "stream",
          "text": [
            "\n"
          ],
          "name": "stdout"
        }
      ]
    },
    {
      "cell_type": "markdown",
      "metadata": {
        "id": "GNg5dSysGeuM"
      },
      "source": [
        "마지막으로 Fine-Tuning을 실시하기 전, 토큰화한 데이터 셋을 인코딩한다."
      ]
    },
    {
      "cell_type": "code",
      "metadata": {
        "id": "NS6kj0el7H7U"
      },
      "source": [
        "import torch\n",
        "\n",
        "class Cord19Dataset(torch.utils.data.Dataset):\n",
        "    def __init__(self, encodings, labels):\n",
        "        self.encodings = encodings\n",
        "        self.labels = labels\n",
        "\n",
        "    def __getitem__(self, idx):\n",
        "        item = {key: torch.tensor(val[idx]) for key, val in self.encodings.items()}\n",
        "        item['labels'] = torch.tensor(self.labels[idx])\n",
        "        return item\n",
        "\n",
        "    def __len__(self):\n",
        "        return len(self.labels)\n",
        "\n",
        "train_dataset = Cord19Dataset(train_encodings, train_labels)\n",
        "val_dataset = Cord19Dataset(val_encodings, val_labels)\n"
      ],
      "execution_count": null,
      "outputs": []
    },
    {
      "cell_type": "markdown",
      "metadata": {
        "id": "OMlxHM3sG6fW"
      },
      "source": [
        "마지막으로 Fine-Tuning을 실시하여, 모델의 학습을 진행하기전에 최적화 시킨다. TrainingArguments 매소드의 경우, 나중에 원한다면 Fine-Tuned된 모델을 사용할 수 있도록 모델을 지정된 경로에 저장할 수 있는 옵션을 제공한다. Epoch가 너무 크면 학습이 너무 오래걸리므로 3으로 가져간다. Batch Size는 학습데이터와 검증 데이터 모두 32로 세팅해본다. Warm-up step과 weight decay값은 0으로 지정하고, checkpoint는 1개만 가져간다. "
      ]
    },
    {
      "cell_type": "code",
      "metadata": {
        "colab": {
          "base_uri": "https://localhost:8080/",
          "height": 182
        },
        "id": "-HxcxIXM59XS",
        "outputId": "6a9176dc-e8a2-42ae-b84d-9a6af1bba2ea"
      },
      "source": [
        "from transformers import Trainer, TrainingArguments\n",
        "\n",
        "training_args = TrainingArguments(\n",
        "    output_dir='./results',          # output directory\n",
        "    evaluation_strategy=\"epoch\",     # Evaluation is done at the end of each epoch.\n",
        "    num_train_epochs=3,              # total number of training epochs\n",
        "    per_device_train_batch_size=32,  # batch size per device during training\n",
        "    per_device_eval_batch_size=32,   # batch size for evaluation\n",
        "    warmup_steps=0,                # number of warmup steps for learning rate scheduler\n",
        "    weight_decay=0,               # strength of weight decay\n",
        "    save_total_limit=1,              # limit the total amount of checkpoints. Deletes the older checkpoints.    \n",
        ")\n",
        "\n",
        "\n",
        "trainer = Trainer(\n",
        "    model=model,                         # the instantiated 🤗 Transformers model to be trained\n",
        "    args=training_args,                  # training arguments, defined above\n",
        "    train_dataset=train_dataset,         # training dataset\n",
        "    eval_dataset=val_dataset             # evaluation dataset\n",
        ")\n",
        "\n",
        "trainer.train()"
      ],
      "execution_count": null,
      "outputs": [
        {
          "output_type": "display_data",
          "data": {
            "text/html": [
              "\n",
              "    <div>\n",
              "        <style>\n",
              "            /* Turns off some styling */\n",
              "            progress {\n",
              "                /* gets rid of default border in Firefox and Opera. */\n",
              "                border: none;\n",
              "                /* Needs to be in here for Safari polyfill so background images work as expected. */\n",
              "                background-size: auto;\n",
              "            }\n",
              "        </style>\n",
              "      \n",
              "      <progress value='11250' max='11250' style='width:300px; height:20px; vertical-align: middle;'></progress>\n",
              "      [11250/11250 58:17, Epoch 3/3]\n",
              "    </div>\n",
              "    <table border=\"1\" class=\"dataframe\">\n",
              "  <thead>\n",
              "    <tr style=\"text-align: left;\">\n",
              "      <th>Epoch</th>\n",
              "      <th>Training Loss</th>\n",
              "      <th>Validation Loss</th>\n",
              "    </tr>\n",
              "  </thead>\n",
              "  <tbody>\n",
              "    <tr>\n",
              "      <td>1</td>\n",
              "      <td>0.688607</td>\n",
              "      <td>0.686903</td>\n",
              "    </tr>\n",
              "    <tr>\n",
              "      <td>2</td>\n",
              "      <td>0.685094</td>\n",
              "      <td>0.684274</td>\n",
              "    </tr>\n",
              "    <tr>\n",
              "      <td>3</td>\n",
              "      <td>0.684875</td>\n",
              "      <td>0.683608</td>\n",
              "    </tr>\n",
              "  </tbody>\n",
              "</table><p>"
            ],
            "text/plain": [
              "<IPython.core.display.HTML object>"
            ]
          },
          "metadata": {
            "tags": []
          }
        },
        {
          "output_type": "execute_result",
          "data": {
            "text/plain": [
              "TrainOutput(global_step=11250, training_loss=0.6872126274956597)"
            ]
          },
          "metadata": {
            "tags": []
          },
          "execution_count": 65
        }
      ]
    },
    {
      "cell_type": "markdown",
      "metadata": {
        "id": "pdt0rky8-2Fg"
      },
      "source": [
        "##3.3 모델 학습"
      ]
    },
    {
      "cell_type": "markdown",
      "metadata": {
        "id": "9iOLHbvDAV_B"
      },
      "source": [
        "모델의 학습을 위해 가장먼저 Optimizer를 지정하고 epochs값을 지정해주어야한다. 여기서는 AdamW와 Adafactor 옵티마이저를 사용하며, 학습률(learning rate)은 1e-5로, 업데이트되며 0으로 나뉘어지는 것을 방지하기 위한 epsilon값은 1e-8로 설정한다. epoch은 3으로 설정했다. Weight Decay값은 이전 tuning 때와 같이 0, num_warmup_steps역시 0으로 설정했다."
      ]
    },
    {
      "cell_type": "code",
      "metadata": {
        "id": "ZdcKy6tpASkO"
      },
      "source": [
        "# 옵티마이저 설정\n",
        "optimizer = AdamW(model.parameters(),\n",
        "                  lr = 1e-5, # 학습률\n",
        "                  eps = 1e-8 # 0으로 나누는 것을 방지하기 위한 epsilon 값,\n",
        "                )\n",
        "# 에폭수\n",
        "epochs = 3\n",
        "\n",
        "# 총 훈련 스텝\n",
        "total_steps = len(train_dataloader) * epochs\n",
        "\n",
        "# Learning rate decay를 위한 스케줄러\n",
        "scheduler = get_linear_schedule_with_warmup(optimizer, \n",
        "                                            num_warmup_steps = 0,\n",
        "                                            num_training_steps = total_steps)\n",
        "        "
      ],
      "execution_count": null,
      "outputs": []
    },
    {
      "cell_type": "markdown",
      "metadata": {
        "id": "dlNi0_UUBFgn"
      },
      "source": [
        "모델링을 위한 마지막 설정은 정확도를 측정할 수 있는 함수를 만들어 주고, 학습에 소요된 시간을 나타내는 함수를 정의해 주는 것이다. 모델의 성능 측정을 위해 둘다 필수적인 요소들이기 때문이다."
      ]
    },
    {
      "cell_type": "code",
      "metadata": {
        "id": "56sVMPI5BSu8"
      },
      "source": [
        "# 정확도 계산 함수\n",
        "def accuracy_measure(y_pred, y):\n",
        "    pred_flattened = np.argmax(y_pred, axis=1).flatten()\n",
        "    y_flattened = y.flatten()\n",
        "    return np.sum(pred_flattened == y_flattened) / len(y_flattened)\n",
        "\n",
        "# 시간 표시 함수\n",
        "def time_elapsed(elapsed):\n",
        "    # 반올림\n",
        "    elapsed = int(round((elapsed)))\n",
        "    # hh:mm:ss으로 형태 변경\n",
        "    return str(datetime.timedelta(seconds=elapsed))"
      ],
      "execution_count": null,
      "outputs": []
    },
    {
      "cell_type": "markdown",
      "metadata": {
        "id": "A6vyoqkMCDe9"
      },
      "source": [
        "이제 학습을 할 수 있는 준비를 마쳤다. 학습 전에 Random seed를 고정해야한다. 일반적으로 Random State는 42로 설정하고 시작하기 때문에 여기서도 Seed값은 42로 설정한다. Gradient도 초기화 하여 Optimizer가 Gradient Descent를 진행할 때 도움이 되도록 한다. "
      ]
    },
    {
      "cell_type": "code",
      "metadata": {
        "id": "BviLCXy4-pJm"
      },
      "source": [
        "# 재현을 위해 랜덤시드 고정\n",
        "seed_val = 42\n",
        "random.seed(seed_val)\n",
        "np.random.seed(seed_val)\n",
        "torch.manual_seed(seed_val)\n",
        "torch.cuda.manual_seed_all(seed_val)\n",
        "\n",
        "# 그래디언트 초기화\n",
        "model.zero_grad()"
      ],
      "execution_count": null,
      "outputs": []
    },
    {
      "cell_type": "markdown",
      "metadata": {
        "id": "4fzP9xExCswS"
      },
      "source": [
        "본격적으로 학습을 시작한다. 전체적인 단계는 훈련과 검증 두 부분으로 나뉘어진다. \n",
        "\n",
        "훈련 단계에서는 정해진 에폭수 만큼 학습을 반복한다. 시간을 초기화하고, 비용함수를 게산해야하기 때문에 이 역시 초기화한다. 이전에 설정한 batch_size 만큼, 설정한 데이터로더에서 나누어서 사용한다. 시간이 얼마나 경과 했는지는 이전에 설정한 함수를 활용한다. 배치를 GPU에 입력하면 GPU는 입력된 배치를 처리하기 시작한다. 여기서 Forward Propagation으로 비용함수를 계산하고, Backward Propagation로 Gradient Descent를 수행하며 학습을 하게된다. 이전에 설정한 스케줄러로 learning rate decay를 실시하고, 설정한 batch_size 만큼 데이터를 사용하면, gradient를 다시 초기화하여, 다음 batch_size만큼의 데이터를 사져온다. 이 작업을 반복하면서 모든 데이터를 사용하게 되면, 평균 에러와 평균 학습 시간을 게산한다. Fine-Tuning전 분리한 데이터인 train_dataloader, val_dataloader, test_dataloader를 사용한다.\n",
        "\n",
        "훈련이 끝나면 검증을 실행하는데, 전반적인 과정은 훈련단게와 비슷하다. 다만, 마지막에 GPU의 예측 결과를 CPU로 가져와, 실제 라벨과 비교하여 정확도를 계산하게된다. 최종 출력 정확도와 소요시간을 계산하며 모든 과정을 마무리한다. "
      ]
    },
    {
      "cell_type": "code",
      "metadata": {
        "colab": {
          "base_uri": "https://localhost:8080/"
        },
        "id": "WkpubVrCCjyS",
        "outputId": "4bba1c93-859a-4fa9-ab4a-d5d4d8729c50"
      },
      "source": [
        "# 본격적인 학습\n",
        "for epoch_i in range(0, epochs):\n",
        "\n",
        "    # ========================================\n",
        "    #               Training\n",
        "    # ========================================\n",
        "\n",
        "    \n",
        "    # 현재 훈련 조건 표시\n",
        "    print(\"\")\n",
        "    print('======== Epoch {:} / {:} ========'.format(epoch_i + 1, epochs))\n",
        "    print('Training...')\n",
        "\n",
        "    # 시작 시간 설정\n",
        "    t0 = time.time()\n",
        "\n",
        "    # 로스 초기화\n",
        "    total_loss = 0\n",
        "\n",
        "    # 훈련모드로 변경\n",
        "    model.train()\n",
        "        \n",
        "    # 데이터로더에서 배치만큼 반복하여 가져옴\n",
        "    for step, batch in enumerate(train_dataloader):\n",
        "        # 경과 정보 표시\n",
        "        if step % 500 == 0 and not step == 0:\n",
        "          elapsed = time_elapsed(time.time() - t0)\n",
        "          print('  Batch {:>5,}  of  {:>5,}.    Elapsed: {:}.'.format(step, len(train_dataloader), elapsed))\n",
        "\n",
        "        # 배치를 GPU에 넣음\n",
        "        batch = tuple(t.to(device) for t in batch)\n",
        "            \n",
        "        # 배치에서 데이터 추출\n",
        "        b_input_ids, b_input_mask, b_labels = batch\n",
        "\n",
        "        # Forward 수행                \n",
        "        outputs = model(b_input_ids, \n",
        "                            token_type_ids=None, \n",
        "                            attention_mask=b_input_mask, \n",
        "                            labels=b_labels)\n",
        "            \n",
        "        # 로스 구함\n",
        "        loss = outputs[0]\n",
        "\n",
        "        # 총 로스 계산\n",
        "        total_loss += loss.item()\n",
        "\n",
        "        # Backward 수행으로 그래디언트 계산\n",
        "        loss.backward()\n",
        "\n",
        "        # 그래디언트 클리핑\n",
        "        torch.nn.utils.clip_grad_norm_(model.parameters(), 1.0)\n",
        "\n",
        "        # 그래디언트를 통해 가중치 파라미터 업데이트\n",
        "        optimizer.step()\n",
        "\n",
        "        # 스케줄러로 학습률 감소\n",
        "        scheduler.step()\n",
        "\n",
        "        # 그래디언트 초기화\n",
        "        model.zero_grad()\n",
        "\n",
        "    # 평균 로스 계산\n",
        "    avg_train_loss = total_loss / len(train_dataloader)            \n",
        "\n",
        "    print(\"\")\n",
        "    print(\"  Average training loss: {0:.2f}\".format(avg_train_loss))\n",
        "    print(\"  Training epcoh took: {:}\".format(time_elapsed(time.time() - t0)))        \n",
        "    # ========================================\n",
        "    #               Validation\n",
        "    # ========================================\n",
        "\n",
        "    print(\"\")\n",
        "    print(\"Running Validation...\")\n",
        "\n",
        "    #시작 시간 설정\n",
        "    t0 = time.time()\n",
        "\n",
        "    # 평가모드로 변경\n",
        "    model.eval()\n",
        "\n",
        "    # 변수 초기화\n",
        "    eval_loss, eval_accuracy = 0, 0\n",
        "    nb_eval_steps, nb_eval_examples = 0, 0\n",
        "\n",
        "    # 데이터로더에서 배치만큼 반복하여 가져옴\n",
        "    for batch in val_dataloader:\n",
        "        # 배치를 GPU에 넣음\n",
        "        batch = tuple(t.to(device) for t in batch)\n",
        "            \n",
        "        # 배치에서 데이터 추출\n",
        "        b_input_ids, b_input_mask, b_labels = batch\n",
        "            \n",
        "        # 그래디언트 계산 안함\n",
        "        with torch.no_grad():     \n",
        "          # Forward 수행\n",
        "          outputs = model(b_input_ids, \n",
        "                                token_type_ids=None, \n",
        "                                attention_mask=b_input_mask)\n",
        "            \n",
        "          # 로스 구함\n",
        "          logits = outputs[0]\n",
        "\n",
        "          # CPU로 데이터 이동\n",
        "          logits = logits.detach().cpu().numpy()\n",
        "          label_ids = b_labels.to('cpu').numpy()\n",
        "            \n",
        "          # 출력 로짓과 라벨을 비교하여 정확도 계산\n",
        "          tmp_eval_accuracy = accuracy_measure(logits, label_ids)\n",
        "          eval_accuracy += tmp_eval_accuracy\n",
        "          nb_eval_steps += 1\n",
        "\n",
        "    print(\"  Accuracy: {0:.2f}\".format(eval_accuracy/nb_eval_steps))\n",
        "    print(\"  Validation took: {:}\".format(time_elapsed(time.time() - t0)))\n",
        "\n",
        "print(\"\")\n",
        "print(\"Training complete!\")"
      ],
      "execution_count": null,
      "outputs": [
        {
          "output_type": "stream",
          "text": [
            "\n",
            "======== Epoch 1 / 3 ========\n",
            "Training...\n",
            "  Batch   500  of  3,750.    Elapsed: 0:02:04.\n",
            "  Batch 1,000  of  3,750.    Elapsed: 0:04:05.\n",
            "  Batch 1,500  of  3,750.    Elapsed: 0:06:07.\n",
            "  Batch 2,000  of  3,750.    Elapsed: 0:08:09.\n",
            "  Batch 2,500  of  3,750.    Elapsed: 0:10:11.\n",
            "  Batch 3,000  of  3,750.    Elapsed: 0:12:13.\n",
            "  Batch 3,500  of  3,750.    Elapsed: 0:14:14.\n",
            "\n",
            "  Average training loss: 0.67\n",
            "  Training epcoh took: 0:15:15\n",
            "\n",
            "Running Validation...\n",
            "  Accuracy: 0.63\n",
            "  Validation took: 0:03:47\n",
            "\n",
            "======== Epoch 2 / 3 ========\n",
            "Training...\n",
            "  Batch   500  of  3,750.    Elapsed: 0:02:02.\n",
            "  Batch 1,000  of  3,750.    Elapsed: 0:04:03.\n",
            "  Batch 1,500  of  3,750.    Elapsed: 0:06:05.\n",
            "  Batch 2,000  of  3,750.    Elapsed: 0:08:07.\n",
            "  Batch 2,500  of  3,750.    Elapsed: 0:10:08.\n",
            "  Batch 3,000  of  3,750.    Elapsed: 0:12:10.\n",
            "  Batch 3,500  of  3,750.    Elapsed: 0:14:11.\n",
            "\n",
            "  Average training loss: 0.67\n",
            "  Training epcoh took: 0:15:12\n",
            "\n",
            "Running Validation...\n",
            "  Accuracy: 0.64\n",
            "  Validation took: 0:03:47\n",
            "\n",
            "======== Epoch 3 / 3 ========\n",
            "Training...\n",
            "  Batch   500  of  3,750.    Elapsed: 0:02:02.\n",
            "  Batch 1,000  of  3,750.    Elapsed: 0:04:03.\n",
            "  Batch 1,500  of  3,750.    Elapsed: 0:06:05.\n",
            "  Batch 2,000  of  3,750.    Elapsed: 0:08:06.\n",
            "  Batch 2,500  of  3,750.    Elapsed: 0:10:08.\n",
            "  Batch 3,000  of  3,750.    Elapsed: 0:12:10.\n",
            "  Batch 3,500  of  3,750.    Elapsed: 0:14:11.\n",
            "\n",
            "  Average training loss: 0.66\n",
            "  Training epcoh took: 0:15:12\n",
            "\n",
            "Running Validation...\n",
            "  Accuracy: 0.63\n",
            "  Validation took: 0:03:47\n",
            "\n",
            "Training complete!\n"
          ],
          "name": "stdout"
        }
      ]
    },
    {
      "cell_type": "code",
      "metadata": {
        "colab": {
          "base_uri": "https://localhost:8080/"
        },
        "id": "tbpWrGE1FcWQ",
        "outputId": "6e9ecab9-7178-4b7a-84df-ada16d92a0fb"
      },
      "source": [
        "#시작 시간 설정\n",
        "t0 = time.time()\n",
        "\n",
        "# 평가모드로 변경\n",
        "model.eval()\n",
        "\n",
        "# 변수 초기화\n",
        "eval_loss, eval_accuracy = 0, 0\n",
        "nb_eval_steps, nb_eval_examples = 0, 0\n",
        "\n",
        "# 데이터로더에서 배치만큼 반복하여 가져옴\n",
        "for step, batch in enumerate(test_dataloader):\n",
        "    # 경과 정보 표시\n",
        "    if step % 100 == 0 and not step == 0:\n",
        "        elapsed = time_elapsed(time.time() - t0)\n",
        "        print('  Batch {:>5,}  of  {:>5,}.    Elapsed: {:}.'.format(step, len(test_dataloader), elapsed))\n",
        "\n",
        "    # 배치를 GPU에 넣음\n",
        "    batch = tuple(t.to(device) for t in batch)\n",
        "    \n",
        "    # 배치에서 데이터 추출\n",
        "    b_input_ids, b_input_mask, b_labels = batch\n",
        "    \n",
        "    # 그래디언트 계산 안함\n",
        "    with torch.no_grad():     \n",
        "        # Forward 수행\n",
        "        outputs = model(b_input_ids, \n",
        "                        token_type_ids=None, \n",
        "                        attention_mask=b_input_mask)\n",
        "    \n",
        "    # 로스 구함\n",
        "    logits = outputs[0]\n",
        "\n",
        "    # CPU로 데이터 이동\n",
        "    logits = logits.detach().cpu().numpy()\n",
        "    label_ids = b_labels.to('cpu').numpy()\n",
        "    \n",
        "    # 출력 로짓과 라벨을 비교하여 정확도 계산\n",
        "    tmp_eval_accuracy = accuracy_measure(logits, label_ids)\n",
        "    eval_accuracy += tmp_eval_accuracy\n",
        "    nb_eval_steps += 1\n",
        "\n",
        "print(\"\")\n",
        "print(\"Accuracy: {0:.2f}\".format(eval_accuracy/nb_eval_steps))\n",
        "print(\"Test took: {:}\".format(time_elapsed(time.time() - t0)))"
      ],
      "execution_count": null,
      "outputs": [
        {
          "output_type": "stream",
          "text": [
            "  Batch   100  of  1,563.    Elapsed: 0:00:24.\n",
            "  Batch   200  of  1,563.    Elapsed: 0:00:49.\n",
            "  Batch   300  of  1,563.    Elapsed: 0:01:14.\n",
            "  Batch   400  of  1,563.    Elapsed: 0:01:38.\n",
            "  Batch   500  of  1,563.    Elapsed: 0:02:02.\n",
            "  Batch   600  of  1,563.    Elapsed: 0:02:26.\n",
            "  Batch   700  of  1,563.    Elapsed: 0:02:51.\n",
            "  Batch   800  of  1,563.    Elapsed: 0:03:15.\n",
            "  Batch   900  of  1,563.    Elapsed: 0:03:39.\n",
            "  Batch 1,000  of  1,563.    Elapsed: 0:04:03.\n",
            "  Batch 1,100  of  1,563.    Elapsed: 0:04:28.\n",
            "  Batch 1,200  of  1,563.    Elapsed: 0:04:52.\n",
            "  Batch 1,300  of  1,563.    Elapsed: 0:05:16.\n",
            "  Batch 1,400  of  1,563.    Elapsed: 0:05:40.\n",
            "  Batch 1,500  of  1,563.    Elapsed: 0:06:05.\n",
            "\n",
            "Accuracy: 0.64\n",
            "Test took: 0:06:20\n"
          ],
          "name": "stdout"
        }
      ]
    },
    {
      "cell_type": "markdown",
      "metadata": {
        "id": "qhXz6Ls_7pze"
      },
      "source": [
        "모델은 약 64%의 정확도로 타깃을 예측했다. 훈련 데이터 및 검증 데이터로 진행했을 때와 그렇게 크게 차이가 나지 않아, 과적합의 문제는 크지 않은 것으로 보인다. 그렇다면 실제 우리가 예측하려했던 타깃의 비율은 어느정도일까?"
      ]
    },
    {
      "cell_type": "code",
      "metadata": {
        "colab": {
          "base_uri": "https://localhost:8080/",
          "height": 312
        },
        "id": "ENG0gGsRFc9g",
        "outputId": "0fdfe002-388e-4db6-b197-ca76285b6985"
      },
      "source": [
        "# 실제 테스트 데이터 클래스 균형 보기\n",
        "sns.histplot(test_data[\"label\"]).set(title=\"Customer Satisfaction(Test)\")"
      ],
      "execution_count": 17,
      "outputs": [
        {
          "output_type": "execute_result",
          "data": {
            "text/plain": [
              "[Text(0.5, 1.0, 'Customer Satisfaction(Test)')]"
            ]
          },
          "metadata": {
            "tags": []
          },
          "execution_count": 17
        },
        {
          "output_type": "display_data",
          "data": {
            "image/png": "[encoded data removed]",
            "text/plain": [
              "<Figure size 432x288 with 1 Axes>"
            ]
          },
          "metadata": {
            "tags": [],
            "needs_background": "light"
          }
        }
      ]
    },
    {
      "cell_type": "markdown",
      "metadata": {
        "id": "RoaTfqOB6Afo"
      },
      "source": [
        "우리가 실험하고자 하는 가설은 \"왓챠의 콘텐츠에 만족하는 고객과 만족하지 못하는 고객의 수가 균등하다.\"라는 것이었다. 타깃 데이터의 실제 분포는 이 가설에 맞게 끔 설정되었고, 모델은 64% 정도의 정확도로 실제 타깃을 예측했다. 모델은 귀무가설이 이 정도의 확률로 유의하다고 예측한 것이다. 따라서, 귀무가설을 기각하지 않게 되었다. 만족하는 유저들 만큼, 만족하지 못하는 유저들이 있다는 것이 어느 정도 유의하다고 볼 수 있다는 의미다. "
      ]
    },
    {
      "cell_type": "markdown",
      "metadata": {
        "id": "c2npxXWQ7zZZ"
      },
      "source": [
        "# 4. 결론"
      ]
    },
    {
      "cell_type": "markdown",
      "metadata": {
        "id": "gr5c7bDr75XG"
      },
      "source": [
        "## 4.1 해석\n",
        "\n",
        "모델에 의하면, 결국 왓챠의 콘텐츠에 만족하지 못하는 사람들이 만족하는 사람들 만큼 많다는 것은 100% 사실은 아닐 수 있지만, 어느 정도 유의하다고 볼 수 있다. 이전 EDA에서 가장 두드러지게 나타난 감정 키워드들 중 부정적인 감정보다 긍정적인 것들이, 약 20대 80의 비율로 더 많이 드러났었다. 하지만, 실제로 한 꺼풀 더 벗겨보니, 불만족스러웠던 사람의 수가 리뷰의 거의 절반이었다는 것을 알 수 있었다. 나는 이 분석 결과를 왓챠의 마케팅 팀장에게 알려, 콘텐츠를 좀 더 효과적으로 관리해야 한다는 경각심을 줄 수 있다. 왓챠는 좀 더 흥미로운 콘텐츠를 마련하고, 유저들의 만족도를 올리기 위해 조금 더 맞춤형 콘텐츠 추천 서비스를 개선해야할 필요가 있을 것이다."
      ]
    },
    {
      "cell_type": "markdown",
      "metadata": {
        "id": "anwggica9bQA"
      },
      "source": [
        "## 4.2 마치며\n",
        "\n",
        "이번 딥러닝 모델링을 통해, 내가 평소 관심있던 분야인 자연어처리에 대해서 훨씬 더 흥미를 가지게되었다. 처음 리뷰 데이터의 텍스트를 처리하면서, WordCloud를 통해 전체적으로 어떤 단어들이 가장 많이 등장했는지 볼 수 있었고, 이를 바탕으로 불용어들을 처리하는 과정이 매우 재미있었다. 무엇보다도, 내가 가진 언어적 지식을 바탕으로, 특정 단어가 감정을 직접적으로 드러내는지, 그렇지 않은지를 구분해 낼 수 있었다는 것이 매우 보람있었다. 이를 바탕으로, 빈도 수가 높은 단어들 중 가장 감정이 두드러지게 나타난 단어를 찾을 수 있었고, 각 단어들에 가장 가까운 감정 키워드를 대체하여, 전체적으로 어떠한 감정들이 가장 두드러지게 나타났는지 알 수 있었다. \n",
        "\n",
        "내가 평소 영화나 책 리뷰를 많이 보았다는 것 또한 이번 프로젝트를 하는데 있어 큰 도움이 되었다. 덕분에 데이터를 보면서, 사람들이 주로 영화의 특성에 따라 다른 감정을 보이고, 보통 기대와 달리 시청한 영화가 실망스러웠을 때 미묘하거나 강하게 부정적인 단어를 많이 쓴다는 사실을 파악 할 수 있었다. 내가 영화를 좋아하고, 글읽기를 좋아한다는 것이 이번 자연어처리 프로젝트를 진행하는데 상당한 이점으로 작용했다. 다시한번 도메인 지식이 정말 중요하다는 것을 느꼈다.\n",
        "\n",
        "무엇보다도, 그동안 숫하게 들어왔던 BERT라는 Transformer기반 모델을 사용할 수 있었던 것이 매우 기뻤다. 사실, 이 모델이 어떠한 원리로 작동하는지에 대해서는 아직 속속들이 파악하지 못했지만, 코딩으로 구현해내는 작업은 생각보다 그리 어렵지 않았다. BERT를 사용한 많은 예제들을 찾아보고, 내가 직접 내 프로젝트에 맞게 수정도 해 보면서, 이 모델을 사용하기 위해 어떠한 설정을 해 주어야하고, 어떤 준비를 해야하는지 알게 되었다는 것이 정말 큰 배움이었다. 가장 중요한 것은, 내가 사용하고자 하는 목적에 맞게 Fine-Tuning을 거쳐 모델을 최적화시키는 작업이 필요하다는 것을 배운 것이다. 앞으로 이 모델의 원리에 대해 좀 더 탐구하고, BERT이외에도 자연어 처리에서 널리 이용되는 GPT-3같은 다른 모델들에 대해서도 배워보고 싶다는 생각이들었다.\n",
        "\n",
        "다만 아쉬웠던 것은, Topic Modelling까지 진행하지 못했다는 점이다. 사실, BERT 모델링을 완성하고나서 시간을 내 진행하려고 했지만, 생각보다 모델의 튜닝 작업이 시간이 많이 걸렸다. 모델링을 하는 것이 더 우선이었기에, 다음에 기회가 된다면 개인적으로 Topic Modelling도 해볼 수 있었으면 좋겠다는 생각을 해본다. \n",
        "\n",
        "마지막으로 \"이 프로젝트가 굳이 딥러닝 모델을 필요로하는 것이 맞을까?\"라는 점에 대해서는 아직 의문이 든다. 정확도가 약간 실망스럽게 나왔기 때문이다. 만약에 GPU의 용량이 좀 더 남아서, 또 시간이 좀 더 있었다면 머신 러닝 모델을 통해서 더 나은 정확도를 얻을 수 있는지 보고 싶다는 생각도들었다. 둘을 비교해 보았다면, 굳이 BERT를 쓰지 않고도 더 정확한 모델을 시험해 볼 수 있지 않았을까 하는 아쉬움이 들기 때문이다. 이 부분 역시 기회가 된다면 좀 더 탐구해 보고싶다. 결국, 가장 중요한 것은 기술 그 자체가 아니라, 문제를 해결하기 위한 가장 효율적인 수단을 찾는 것이기 때문이다. \n",
        "\n",
        "\n",
        "\n",
        "\n"
      ]
    },
    {
      "cell_type": "markdown",
      "metadata": {
        "id": "Mc_AQS4TCxdC"
      },
      "source": [
        "##4.3 참조"
      ]
    },
    {
      "cell_type": "markdown",
      "metadata": {
        "id": "iE-daRTWCzP6"
      },
      "source": [
        "* [네이버 데이터](https://github.com/e9t/nsmc/)\n",
        "* [BERT로 네이버 영화 리뷰데이터 분류하기](http://yonghee.io/bert_binary_classification_naver/)\n",
        "* [Fine-tuning a BERT model with transformers](https://towardsdatascience.com/fine-tuning-a-bert-model-with-transformers-c8e49c4e008b)"
      ]
    }
  ]
}